{
    "metadata": {
        "kernelspec": {
            "name": "SQL",
            "display_name": "SQL",
            "language": "sql"
        },
        "language_info": {
            "name": "sql",
            "version": ""
        }
    },
    "nbformat_minor": 2,
    "nbformat": 4,
    "cells": [
        {
            "cell_type": "code",
            "source": [
                "-- number of rows\r\n",
                "SELECT count(*) AS 'sorok száma'\r\n",
                "FROM Flat"
            ],
            "metadata": {
                "azdata_cell_guid": "feeb9a42-086a-42a8-95cb-3807bee43e5d",
                "language": "sql",
                "tags": []
            },
            "outputs": [
                {
                    "output_type": "display_data",
                    "data": {
                        "text/html": "(1 row affected)"
                    },
                    "metadata": {}
                },
                {
                    "output_type": "display_data",
                    "data": {
                        "text/html": "Total execution time: 00:00:00.039"
                    },
                    "metadata": {}
                },
                {
                    "output_type": "execute_result",
                    "metadata": {},
                    "execution_count": 1,
                    "data": {
                        "application/vnd.dataresource+json": {
                            "schema": {
                                "fields": [
                                    {
                                        "name": "sorok száma"
                                    }
                                ]
                            },
                            "data": [
                                {
                                    "sorok száma": "104"
                                }
                            ]
                        },
                        "text/html": [
                            "<table>",
                            "<tr><th>sorok száma</th></tr>",
                            "<tr><td>104</td></tr>",
                            "</table>"
                        ]
                    }
                }
            ],
            "execution_count": 1
        }
    ]
}