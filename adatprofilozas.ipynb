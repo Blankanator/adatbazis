{
    "metadata": {
        "kernelspec": {
            "name": "SQL",
            "display_name": "SQL",
            "language": "sql"
        },
        "language_info": {
            "name": "sql",
            "version": ""
        }
    },
    "nbformat_minor": 2,
    "nbformat": 4,
    "cells": [
        {
            "cell_type": "code",
            "source": [
                "-- number of rows\r\n",
                "SELECT count(*) AS 'sorok száma'\r\n",
                "FROM Flat"
            ],
            "metadata": {
                "azdata_cell_guid": "feeb9a42-086a-42a8-95cb-3807bee43e5d",
                "language": "sql",
                "tags": []
            },
            "outputs": [
                {
                    "output_type": "display_data",
                    "data": {
                        "text/html": "(1 row affected)"
                    },
                    "metadata": {}
                },
                {
                    "output_type": "display_data",
                    "data": {
                        "text/html": "Total execution time: 00:00:00.039"
                    },
                    "metadata": {}
                },
                {
                    "output_type": "execute_result",
                    "metadata": {},
                    "execution_count": 1,
                    "data": {
                        "application/vnd.dataresource+json": {
                            "schema": {
                                "fields": [
                                    {
                                        "name": "sorok száma"
                                    }
                                ]
                            },
                            "data": [
                                {
                                    "sorok száma": "104"
                                }
                            ]
                        },
                        "text/html": [
                            "<table>",
                            "<tr><th>sorok száma</th></tr>",
                            "<tr><td>104</td></tr>",
                            "</table>"
                        ]
                    }
                }
            ],
            "execution_count": 1
        },
        {
            "cell_type": "code",
            "source": [
                "-- floor area\r\n",
                "SELECT MIN(FloorArea) as 'Min Floor Area',\r\n",
                "       MAX(FloorArea) as 'Max Floor Area',\r\n",
                "       AVG(FloorArea) as 'Average Floor Area'\r\n",
                "FROM Flat"
            ],
            "metadata": {
                "azdata_cell_guid": "1e1dc56f-a74a-4915-b224-2deac65f23a5",
                "language": "sql"
            },
            "outputs": [
                {
                    "output_type": "display_data",
                    "data": {
                        "text/html": "(1 row affected)"
                    },
                    "metadata": {}
                },
                {
                    "output_type": "display_data",
                    "data": {
                        "text/html": "Total execution time: 00:00:00.090"
                    },
                    "metadata": {}
                },
                {
                    "output_type": "execute_result",
                    "metadata": {},
                    "execution_count": 3,
                    "data": {
                        "application/vnd.dataresource+json": {
                            "schema": {
                                "fields": [
                                    {
                                        "name": "Min Floor Area"
                                    },
                                    {
                                        "name": "Max Floor Area"
                                    },
                                    {
                                        "name": "Average Floor Area"
                                    }
                                ]
                            },
                            "data": [
                                {
                                    "Min Floor Area": "23",
                                    "Max Floor Area": "160",
                                    "Average Floor Area": "62"
                                }
                            ]
                        },
                        "text/html": [
                            "<table>",
                            "<tr><th>Min Floor Area</th><th>Max Floor Area</th><th>Average Floor Area</th></tr>",
                            "<tr><td>23</td><td>160</td><td>62</td></tr>",
                            "</table>"
                        ]
                    }
                }
            ],
            "execution_count": 3
        }
    ]
}