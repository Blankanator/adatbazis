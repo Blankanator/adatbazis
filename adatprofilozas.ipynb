{
    "metadata": {
        "kernelspec": {
            "name": "SQL",
            "display_name": "SQL",
            "language": "sql"
        },
        "language_info": {
            "name": "sql",
            "version": ""
        }
    },
    "nbformat_minor": 2,
    "nbformat": 4,
    "cells": [
        {
            "cell_type": "code",
            "source": [
                "-- number of rows\r\n",
                "SELECT count(*) AS 'sorok száma'\r\n",
                "FROM Flat"
            ],
            "metadata": {
                "azdata_cell_guid": "feeb9a42-086a-42a8-95cb-3807bee43e5d",
                "language": "sql",
                "tags": []
            },
            "outputs": [
                {
                    "output_type": "display_data",
                    "data": {
                        "text/html": "(1 row affected)"
                    },
                    "metadata": {}
                },
                {
                    "output_type": "display_data",
                    "data": {
                        "text/html": "Total execution time: 00:00:00.039"
                    },
                    "metadata": {}
                },
                {
                    "output_type": "execute_result",
                    "metadata": {},
                    "execution_count": 1,
                    "data": {
                        "application/vnd.dataresource+json": {
                            "schema": {
                                "fields": [
                                    {
                                        "name": "sorok száma"
                                    }
                                ]
                            },
                            "data": [
                                {
                                    "sorok száma": "104"
                                }
                            ]
                        },
                        "text/html": [
                            "<table>",
                            "<tr><th>sorok száma</th></tr>",
                            "<tr><td>104</td></tr>",
                            "</table>"
                        ]
                    }
                }
            ],
            "execution_count": 1
        },
        {
            "cell_type": "code",
            "source": [
                "-- floor area\r\n",
                "SELECT MIN(FloorArea) as 'Min Floor Area',\r\n",
                "       MAX(FloorArea) as 'Max Floor Area',\r\n",
                "       AVG(FloorArea) as 'Average Floor Area'\r\n",
                "FROM Flat"
            ],
            "metadata": {
                "azdata_cell_guid": "1e1dc56f-a74a-4915-b224-2deac65f23a5",
                "language": "sql"
            },
            "outputs": [
                {
                    "output_type": "display_data",
                    "data": {
                        "text/html": "(1 row affected)"
                    },
                    "metadata": {}
                },
                {
                    "output_type": "display_data",
                    "data": {
                        "text/html": "Total execution time: 00:00:00.090"
                    },
                    "metadata": {}
                },
                {
                    "output_type": "execute_result",
                    "metadata": {},
                    "execution_count": 3,
                    "data": {
                        "application/vnd.dataresource+json": {
                            "schema": {
                                "fields": [
                                    {
                                        "name": "Min Floor Area"
                                    },
                                    {
                                        "name": "Max Floor Area"
                                    },
                                    {
                                        "name": "Average Floor Area"
                                    }
                                ]
                            },
                            "data": [
                                {
                                    "Min Floor Area": "23",
                                    "Max Floor Area": "160",
                                    "Average Floor Area": "62"
                                }
                            ]
                        },
                        "text/html": [
                            "<table>",
                            "<tr><th>Min Floor Area</th><th>Max Floor Area</th><th>Average Floor Area</th></tr>",
                            "<tr><td>23</td><td>160</td><td>62</td></tr>",
                            "</table>"
                        ]
                    }
                }
            ],
            "execution_count": 3
        },
        {
            "cell_type": "code",
            "source": [
                "-- vendor\r\n",
                "SELECT LEN(Vendor) as 'Name Length', COUNT(*) as 'Number of Names'\r\n",
                "FROM Flat\r\n",
                "GROUP BY LEN(Vendor)\r\n",
                "ORDER BY COUNT(*) DESC"
            ],
            "metadata": {
                "azdata_cell_guid": "d0aefc06-6f22-450a-ab33-f9d5e6bc0f18",
                "language": "sql"
            },
            "outputs": [
                {
                    "output_type": "display_data",
                    "data": {
                        "text/html": "(11 rows affected)"
                    },
                    "metadata": {}
                },
                {
                    "output_type": "display_data",
                    "data": {
                        "text/html": "Total execution time: 00:00:00.083"
                    },
                    "metadata": {}
                },
                {
                    "output_type": "execute_result",
                    "metadata": {},
                    "execution_count": 8,
                    "data": {
                        "application/vnd.dataresource+json": {
                            "schema": {
                                "fields": [
                                    {
                                        "name": "Name Length"
                                    },
                                    {
                                        "name": "Number of Names"
                                    }
                                ]
                            },
                            "data": [
                                {
                                    "Name Length": "13",
                                    "Number of Names": "38"
                                },
                                {
                                    "Name Length": "12",
                                    "Number of Names": "20"
                                },
                                {
                                    "Name Length": "14",
                                    "Number of Names": "10"
                                },
                                {
                                    "Name Length": "16",
                                    "Number of Names": "10"
                                },
                                {
                                    "Name Length": "10",
                                    "Number of Names": "7"
                                },
                                {
                                    "Name Length": "15",
                                    "Number of Names": "6"
                                },
                                {
                                    "Name Length": "19",
                                    "Number of Names": "6"
                                },
                                {
                                    "Name Length": "17",
                                    "Number of Names": "4"
                                },
                                {
                                    "Name Length": "18",
                                    "Number of Names": "1"
                                },
                                {
                                    "Name Length": "11",
                                    "Number of Names": "1"
                                },
                                {
                                    "Name Length": "9",
                                    "Number of Names": "1"
                                }
                            ]
                        },
                        "text/html": [
                            "<table>",
                            "<tr><th>Name Length</th><th>Number of Names</th></tr>",
                            "<tr><td>13</td><td>38</td></tr>",
                            "<tr><td>12</td><td>20</td></tr>",
                            "<tr><td>14</td><td>10</td></tr>",
                            "<tr><td>16</td><td>10</td></tr>",
                            "<tr><td>10</td><td>7</td></tr>",
                            "<tr><td>15</td><td>6</td></tr>",
                            "<tr><td>19</td><td>6</td></tr>",
                            "<tr><td>17</td><td>4</td></tr>",
                            "<tr><td>18</td><td>1</td></tr>",
                            "<tr><td>11</td><td>1</td></tr>",
                            "<tr><td>9</td><td>1</td></tr>",
                            "</table>"
                        ]
                    }
                }
            ],
            "execution_count": 8
        }
    ]
}