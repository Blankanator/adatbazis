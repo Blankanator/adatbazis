{
    "metadata": {
        "kernelspec": {
            "name": "SQL",
            "display_name": "SQL",
            "language": "sql"
        },
        "language_info": {
            "name": "sql",
            "version": ""
        }
    },
    "nbformat_minor": 2,
    "nbformat": 4,
    "cells": [
        {
            "cell_type": "code",
            "source": [
                "SELECT ROGZITETTE as 'név', SZALLAS_NEV as 'szállás név', CIM AS 'cím'\r\n",
                "FROM szallashely\r\n",
                "WHERE MONTH(ROGZ_IDO) = 03 AND HELY LIKE '%Balaton%'\r\n",
                "ORDER BY CSILLAGOK_SZAMA ASC"
            ],
            "metadata": {
                "azdata_cell_guid": "24b2d6aa-4fd1-48ba-abf5-7f18cc6397bb",
                "language": "sql",
                "tags": []
            },
            "outputs": [
                {
                    "output_type": "display_data",
                    "data": {
                        "text/html": "(7 rows affected)"
                    },
                    "metadata": {}
                },
                {
                    "output_type": "display_data",
                    "data": {
                        "text/html": "Total execution time: 00:00:00.008"
                    },
                    "metadata": {}
                },
                {
                    "output_type": "execute_result",
                    "metadata": {},
                    "execution_count": 5,
                    "data": {
                        "application/vnd.dataresource+json": {
                            "schema": {
                                "fields": [
                                    {
                                        "name": "név"
                                    },
                                    {
                                        "name": "szállás név"
                                    },
                                    {
                                        "name": "cím"
                                    }
                                ]
                            },
                            "data": [
                                {
                                    "név": "Béla",
                                    "szállás név": "Családi Ház",
                                    "cím": "8630 Balatonboglár, József Attila utca 25"
                                },
                                {
                                    "név": "Mari",
                                    "szállás név": "Szieszta Apartmanház",
                                    "cím": "8630 Balatonboglár, Dózsa György utca 108"
                                },
                                {
                                    "név": "Béla",
                                    "szállás név": "Partiszél Vendégház",
                                    "cím": "8220 Balatonalmádi Neptun u. 23."
                                },
                                {
                                    "név": "Béla",
                                    "szállás név": "Tímárház Panzió",
                                    "cím": "8600 Siófok, Virág utca 1"
                                },
                                {
                                    "név": "Mari",
                                    "szállás név": "Jáde panzió",
                                    "cím": "8624 Balatonföldvár, Kiss u.2."
                                },
                                {
                                    "név": "Béla",
                                    "szállás név": "Kentaur Hotel",
                                    "cím": "8600 Siófok (Széplak), Akácfa utca 1"
                                },
                                {
                                    "név": "Béla",
                                    "szállás név": "Hotel Három Hattyú",
                                    "cím": "8623 Balatonföldvár, Rákóczi Ferenc út 45."
                                }
                            ]
                        },
                        "text/html": [
                            "<table>",
                            "<tr><th>név</th><th>szállás név</th><th>cím</th></tr>",
                            "<tr><td>Béla</td><td>Családi Ház</td><td>8630 Balatonboglár, József Attila utca 25</td></tr>",
                            "<tr><td>Mari</td><td>Szieszta Apartmanház</td><td>8630 Balatonboglár, Dózsa György utca 108</td></tr>",
                            "<tr><td>Béla</td><td>Partiszél Vendégház</td><td>8220 Balatonalmádi Neptun u. 23.</td></tr>",
                            "<tr><td>Béla</td><td>Tímárház Panzió</td><td>8600 Siófok, Virág utca 1</td></tr>",
                            "<tr><td>Mari</td><td>Jáde panzió</td><td>8624 Balatonföldvár, Kiss u.2.</td></tr>",
                            "<tr><td>Béla</td><td>Kentaur Hotel</td><td>8600 Siófok (Széplak), Akácfa utca 1</td></tr>",
                            "<tr><td>Béla</td><td>Hotel Három Hattyú</td><td>8623 Balatonföldvár, Rákóczi Ferenc út 45.</td></tr>",
                            "</table>"
                        ]
                    }
                }
            ],
            "execution_count": 5
        },
        {
            "cell_type": "code",
            "source": [
                ""
            ],
            "metadata": {
                "azdata_cell_guid": "8c80efdd-cfce-41bf-aa00-318163300a3a",
                "language": "sql"
            },
            "outputs": [
                {
                    "output_type": "display_data",
                    "data": {
                        "text/html": "Commands completed successfully."
                    },
                    "metadata": {}
                },
                {
                    "output_type": "display_data",
                    "data": {
                        "text/html": "Total execution time: 00:00:00"
                    },
                    "metadata": {}
                }
            ],
            "execution_count": 6
        }
    ]
}