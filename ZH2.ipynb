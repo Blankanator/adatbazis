{
    "metadata": {
        "kernelspec": {
            "name": "SQL",
            "display_name": "SQL",
            "language": "sql"
        },
        "language_info": {
            "name": "sql",
            "version": ""
        }
    },
    "nbformat_minor": 2,
    "nbformat": 4,
    "cells": [
        {
            "cell_type": "markdown",
            "source": [
                "1\\. Feladat"
            ],
            "metadata": {
                "azdata_cell_guid": "5c3cf3bb-0ab5-4337-ad99-449461a8301f"
            },
            "attachments": {}
        },
        {
            "cell_type": "code",
            "source": [
                "SELECT \r\n",
                "--iif(GROUPING_ID(szoba_fk) = NULL, 'Összesen', CAST(szoba_fk as nvarchar(10))),\r\n",
                " --   COUNT(*) as 'foglalások száma'\r\n",
                "szoba_fk, count(foglalas_pk) as 'foglalások száma'\r\n",
                "FROM Foglalas\r\n",
                "WHERE foglalas_pk in (\r\n",
                "    SELECT foglalas_pk\r\n",
                "    FROM Foglalas\r\n",
                "    where FELNOTT_SZAM > GYERMEK_SZAM)\r\n",
                "GROUP BY(SZOBA_FK)"
            ],
            "metadata": {
                "azdata_cell_guid": "a55fd9ba-5390-45f4-81c0-dc3dfe46a98d",
                "language": "sql",
                "tags": []
            },
            "outputs": [
                {
                    "output_type": "display_data",
                    "data": {
                        "text/html": "(294 rows affected)"
                    },
                    "metadata": {}
                },
                {
                    "output_type": "display_data",
                    "data": {
                        "text/html": "Total execution time: 00:00:00.018"
                    },
                    "metadata": {}
                },
                {
                    "output_type": "execute_result",
                    "execution_count": 15,
                    "data": {
                        "application/vnd.dataresource+json": {
                            "schema": {
                                "fields": [
                                    {
                                        "name": "szoba_id"
                                    },
                                    {
                                        "name": "ferohely"
                                    },
                                    {
                                        "name": "foglalas_db"
                                    },
                                    {
                                        "name": "helyezes"
                                    }
                                ]
                            },
                            "data": [
                                {
                                    "szoba_id": "58",
                                    "ferohely": "2",
                                    "foglalas_db": "13",
                                    "helyezes": "1"
                                },
                                {
                                    "szoba_id": "182",
                                    "ferohely": "2",
                                    "foglalas_db": "12",
                                    "helyezes": "2"
                                },
                                {
                                    "szoba_id": "185",
                                    "ferohely": "3",
                                    "foglalas_db": "12",
                                    "helyezes": "3"
                                },
                                {
                                    "szoba_id": "70",
                                    "ferohely": "2",
                                    "foglalas_db": "11",
                                    "helyezes": "4"
                                },
                                {
                                    "szoba_id": "94",
                                    "ferohely": "2",
                                    "foglalas_db": "10",
                                    "helyezes": "5"
                                },
                                {
                                    "szoba_id": "12",
                                    "ferohely": "2",
                                    "foglalas_db": "9",
                                    "helyezes": "6"
                                },
                                {
                                    "szoba_id": "172",
                                    "ferohely": "2",
                                    "foglalas_db": "9",
                                    "helyezes": "6"
                                },
                                {
                                    "szoba_id": "35",
                                    "ferohely": "3",
                                    "foglalas_db": "9",
                                    "helyezes": "7"
                                },
                                {
                                    "szoba_id": "48",
                                    "ferohely": "3",
                                    "foglalas_db": "9",
                                    "helyezes": "7"
                                },
                                {
                                    "szoba_id": "74",
                                    "ferohely": "3",
                                    "foglalas_db": "9",
                                    "helyezes": "7"
                                },
                                {
                                    "szoba_id": "122",
                                    "ferohely": "3",
                                    "foglalas_db": "9",
                                    "helyezes": "7"
                                },
                                {
                                    "szoba_id": "121",
                                    "ferohely": "2",
                                    "foglalas_db": "8",
                                    "helyezes": "8"
                                },
                                {
                                    "szoba_id": "140",
                                    "ferohely": "2",
                                    "foglalas_db": "8",
                                    "helyezes": "8"
                                },
                                {
                                    "szoba_id": "110",
                                    "ferohely": "2",
                                    "foglalas_db": "8",
                                    "helyezes": "8"
                                },
                                {
                                    "szoba_id": "55",
                                    "ferohely": "2",
                                    "foglalas_db": "8",
                                    "helyezes": "8"
                                },
                                {
                                    "szoba_id": "38",
                                    "ferohely": "2",
                                    "foglalas_db": "8",
                                    "helyezes": "8"
                                },
                                {
                                    "szoba_id": "1",
                                    "ferohely": "3",
                                    "foglalas_db": "8",
                                    "helyezes": "9"
                                },
                                {
                                    "szoba_id": "3",
                                    "ferohely": "3",
                                    "foglalas_db": "8",
                                    "helyezes": "9"
                                },
                                {
                                    "szoba_id": "43",
                                    "ferohely": "3",
                                    "foglalas_db": "8",
                                    "helyezes": "9"
                                },
                                {
                                    "szoba_id": "83",
                                    "ferohely": "3",
                                    "foglalas_db": "8",
                                    "helyezes": "9"
                                },
                                {
                                    "szoba_id": "88",
                                    "ferohely": "3",
                                    "foglalas_db": "8",
                                    "helyezes": "9"
                                },
                                {
                                    "szoba_id": "89",
                                    "ferohely": "3",
                                    "foglalas_db": "8",
                                    "helyezes": "9"
                                },
                                {
                                    "szoba_id": "117",
                                    "ferohely": "3",
                                    "foglalas_db": "8",
                                    "helyezes": "9"
                                },
                                {
                                    "szoba_id": "198",
                                    "ferohely": "3",
                                    "foglalas_db": "8",
                                    "helyezes": "9"
                                },
                                {
                                    "szoba_id": "165",
                                    "ferohely": "2",
                                    "foglalas_db": "7",
                                    "helyezes": "10"
                                },
                                {
                                    "szoba_id": "149",
                                    "ferohely": "2",
                                    "foglalas_db": "7",
                                    "helyezes": "10"
                                },
                                {
                                    "szoba_id": "156",
                                    "ferohely": "2",
                                    "foglalas_db": "7",
                                    "helyezes": "10"
                                },
                                {
                                    "szoba_id": "163",
                                    "ferohely": "2",
                                    "foglalas_db": "7",
                                    "helyezes": "10"
                                },
                                {
                                    "szoba_id": "118",
                                    "ferohely": "2",
                                    "foglalas_db": "7",
                                    "helyezes": "10"
                                },
                                {
                                    "szoba_id": "109",
                                    "ferohely": "2",
                                    "foglalas_db": "7",
                                    "helyezes": "10"
                                },
                                {
                                    "szoba_id": "127",
                                    "ferohely": "2",
                                    "foglalas_db": "7",
                                    "helyezes": "10"
                                },
                                {
                                    "szoba_id": "139",
                                    "ferohely": "2",
                                    "foglalas_db": "7",
                                    "helyezes": "10"
                                },
                                {
                                    "szoba_id": "80",
                                    "ferohely": "2",
                                    "foglalas_db": "7",
                                    "helyezes": "10"
                                },
                                {
                                    "szoba_id": "59",
                                    "ferohely": "2",
                                    "foglalas_db": "7",
                                    "helyezes": "10"
                                },
                                {
                                    "szoba_id": "39",
                                    "ferohely": "2",
                                    "foglalas_db": "7",
                                    "helyezes": "10"
                                },
                                {
                                    "szoba_id": "27",
                                    "ferohely": "3",
                                    "foglalas_db": "7",
                                    "helyezes": "11"
                                },
                                {
                                    "szoba_id": "49",
                                    "ferohely": "3",
                                    "foglalas_db": "7",
                                    "helyezes": "11"
                                },
                                {
                                    "szoba_id": "96",
                                    "ferohely": "3",
                                    "foglalas_db": "7",
                                    "helyezes": "11"
                                },
                                {
                                    "szoba_id": "97",
                                    "ferohely": "3",
                                    "foglalas_db": "7",
                                    "helyezes": "11"
                                },
                                {
                                    "szoba_id": "138",
                                    "ferohely": "3",
                                    "foglalas_db": "7",
                                    "helyezes": "11"
                                },
                                {
                                    "szoba_id": "143",
                                    "ferohely": "3",
                                    "foglalas_db": "7",
                                    "helyezes": "11"
                                },
                                {
                                    "szoba_id": "115",
                                    "ferohely": "3",
                                    "foglalas_db": "7",
                                    "helyezes": "11"
                                },
                                {
                                    "szoba_id": "193",
                                    "ferohely": "3",
                                    "foglalas_db": "7",
                                    "helyezes": "11"
                                },
                                {
                                    "szoba_id": "187",
                                    "ferohely": "3",
                                    "foglalas_db": "7",
                                    "helyezes": "11"
                                },
                                {
                                    "szoba_id": "195",
                                    "ferohely": "2",
                                    "foglalas_db": "6",
                                    "helyezes": "12"
                                },
                                {
                                    "szoba_id": "161",
                                    "ferohely": "2",
                                    "foglalas_db": "6",
                                    "helyezes": "12"
                                },
                                {
                                    "szoba_id": "150",
                                    "ferohely": "2",
                                    "foglalas_db": "6",
                                    "helyezes": "12"
                                },
                                {
                                    "szoba_id": "148",
                                    "ferohely": "2",
                                    "foglalas_db": "6",
                                    "helyezes": "12"
                                },
                                {
                                    "szoba_id": "169",
                                    "ferohely": "2",
                                    "foglalas_db": "6",
                                    "helyezes": "12"
                                },
                                {
                                    "szoba_id": "106",
                                    "ferohely": "2",
                                    "foglalas_db": "6",
                                    "helyezes": "12"
                                },
                                {
                                    "szoba_id": "126",
                                    "ferohely": "2",
                                    "foglalas_db": "6",
                                    "helyezes": "12"
                                },
                                {
                                    "szoba_id": "145",
                                    "ferohely": "2",
                                    "foglalas_db": "6",
                                    "helyezes": "12"
                                },
                                {
                                    "szoba_id": "141",
                                    "ferohely": "2",
                                    "foglalas_db": "6",
                                    "helyezes": "12"
                                },
                                {
                                    "szoba_id": "130",
                                    "ferohely": "2",
                                    "foglalas_db": "6",
                                    "helyezes": "12"
                                },
                                {
                                    "szoba_id": "137",
                                    "ferohely": "2",
                                    "foglalas_db": "6",
                                    "helyezes": "12"
                                },
                                {
                                    "szoba_id": "78",
                                    "ferohely": "2",
                                    "foglalas_db": "6",
                                    "helyezes": "12"
                                },
                                {
                                    "szoba_id": "42",
                                    "ferohely": "2",
                                    "foglalas_db": "6",
                                    "helyezes": "12"
                                },
                                {
                                    "szoba_id": "64",
                                    "ferohely": "2",
                                    "foglalas_db": "6",
                                    "helyezes": "12"
                                },
                                {
                                    "szoba_id": "67",
                                    "ferohely": "2",
                                    "foglalas_db": "6",
                                    "helyezes": "12"
                                },
                                {
                                    "szoba_id": "28",
                                    "ferohely": "2",
                                    "foglalas_db": "6",
                                    "helyezes": "12"
                                },
                                {
                                    "szoba_id": "29",
                                    "ferohely": "2",
                                    "foglalas_db": "6",
                                    "helyezes": "12"
                                },
                                {
                                    "szoba_id": "19",
                                    "ferohely": "2",
                                    "foglalas_db": "6",
                                    "helyezes": "12"
                                },
                                {
                                    "szoba_id": "33",
                                    "ferohely": "2",
                                    "foglalas_db": "6",
                                    "helyezes": "12"
                                },
                                {
                                    "szoba_id": "4",
                                    "ferohely": "2",
                                    "foglalas_db": "6",
                                    "helyezes": "12"
                                },
                                {
                                    "szoba_id": "7",
                                    "ferohely": "2",
                                    "foglalas_db": "6",
                                    "helyezes": "12"
                                },
                                {
                                    "szoba_id": "15",
                                    "ferohely": "2",
                                    "foglalas_db": "6",
                                    "helyezes": "12"
                                },
                                {
                                    "szoba_id": "17",
                                    "ferohely": "3",
                                    "foglalas_db": "6",
                                    "helyezes": "13"
                                },
                                {
                                    "szoba_id": "18",
                                    "ferohely": "3",
                                    "foglalas_db": "6",
                                    "helyezes": "13"
                                },
                                {
                                    "szoba_id": "6",
                                    "ferohely": "3",
                                    "foglalas_db": "6",
                                    "helyezes": "13"
                                },
                                {
                                    "szoba_id": "9",
                                    "ferohely": "3",
                                    "foglalas_db": "6",
                                    "helyezes": "13"
                                },
                                {
                                    "szoba_id": "22",
                                    "ferohely": "3",
                                    "foglalas_db": "6",
                                    "helyezes": "13"
                                },
                                {
                                    "szoba_id": "36",
                                    "ferohely": "3",
                                    "foglalas_db": "6",
                                    "helyezes": "13"
                                },
                                {
                                    "szoba_id": "44",
                                    "ferohely": "3",
                                    "foglalas_db": "6",
                                    "helyezes": "13"
                                },
                                {
                                    "szoba_id": "54",
                                    "ferohely": "3",
                                    "foglalas_db": "6",
                                    "helyezes": "13"
                                },
                                {
                                    "szoba_id": "77",
                                    "ferohely": "3",
                                    "foglalas_db": "6",
                                    "helyezes": "13"
                                },
                                {
                                    "szoba_id": "82",
                                    "ferohely": "3",
                                    "foglalas_db": "6",
                                    "helyezes": "13"
                                },
                                {
                                    "szoba_id": "92",
                                    "ferohely": "3",
                                    "foglalas_db": "6",
                                    "helyezes": "13"
                                },
                                {
                                    "szoba_id": "132",
                                    "ferohely": "3",
                                    "foglalas_db": "6",
                                    "helyezes": "13"
                                },
                                {
                                    "szoba_id": "133",
                                    "ferohely": "3",
                                    "foglalas_db": "6",
                                    "helyezes": "13"
                                },
                                {
                                    "szoba_id": "134",
                                    "ferohely": "3",
                                    "foglalas_db": "6",
                                    "helyezes": "13"
                                },
                                {
                                    "szoba_id": "146",
                                    "ferohely": "3",
                                    "foglalas_db": "6",
                                    "helyezes": "13"
                                },
                                {
                                    "szoba_id": "124",
                                    "ferohely": "3",
                                    "foglalas_db": "6",
                                    "helyezes": "13"
                                },
                                {
                                    "szoba_id": "120",
                                    "ferohely": "3",
                                    "foglalas_db": "6",
                                    "helyezes": "13"
                                },
                                {
                                    "szoba_id": "181",
                                    "ferohely": "3",
                                    "foglalas_db": "6",
                                    "helyezes": "13"
                                },
                                {
                                    "szoba_id": "176",
                                    "ferohely": "3",
                                    "foglalas_db": "6",
                                    "helyezes": "13"
                                },
                                {
                                    "szoba_id": "197",
                                    "ferohely": "3",
                                    "foglalas_db": "6",
                                    "helyezes": "13"
                                },
                                {
                                    "szoba_id": "188",
                                    "ferohely": "3",
                                    "foglalas_db": "6",
                                    "helyezes": "13"
                                },
                                {
                                    "szoba_id": "189",
                                    "ferohely": "2",
                                    "foglalas_db": "5",
                                    "helyezes": "14"
                                },
                                {
                                    "szoba_id": "190",
                                    "ferohely": "2",
                                    "foglalas_db": "5",
                                    "helyezes": "14"
                                },
                                {
                                    "szoba_id": "191",
                                    "ferohely": "2",
                                    "foglalas_db": "5",
                                    "helyezes": "14"
                                },
                                {
                                    "szoba_id": "170",
                                    "ferohely": "2",
                                    "foglalas_db": "5",
                                    "helyezes": "14"
                                },
                                {
                                    "szoba_id": "171",
                                    "ferohely": "2",
                                    "foglalas_db": "5",
                                    "helyezes": "14"
                                },
                                {
                                    "szoba_id": "168",
                                    "ferohely": "2",
                                    "foglalas_db": "5",
                                    "helyezes": "14"
                                },
                                {
                                    "szoba_id": "175",
                                    "ferohely": "2",
                                    "foglalas_db": "5",
                                    "helyezes": "14"
                                },
                                {
                                    "szoba_id": "157",
                                    "ferohely": "2",
                                    "foglalas_db": "5",
                                    "helyezes": "14"
                                },
                                {
                                    "szoba_id": "164",
                                    "ferohely": "2",
                                    "foglalas_db": "5",
                                    "helyezes": "14"
                                },
                                {
                                    "szoba_id": "154",
                                    "ferohely": "2",
                                    "foglalas_db": "5",
                                    "helyezes": "14"
                                },
                                {
                                    "szoba_id": "119",
                                    "ferohely": "2",
                                    "foglalas_db": "5",
                                    "helyezes": "14"
                                },
                                {
                                    "szoba_id": "107",
                                    "ferohely": "2",
                                    "foglalas_db": "5",
                                    "helyezes": "14"
                                },
                                {
                                    "szoba_id": "128",
                                    "ferohely": "2",
                                    "foglalas_db": "5",
                                    "helyezes": "14"
                                },
                                {
                                    "szoba_id": "131",
                                    "ferohely": "2",
                                    "foglalas_db": "5",
                                    "helyezes": "14"
                                },
                                {
                                    "szoba_id": "99",
                                    "ferohely": "2",
                                    "foglalas_db": "5",
                                    "helyezes": "14"
                                },
                                {
                                    "szoba_id": "111",
                                    "ferohely": "2",
                                    "foglalas_db": "5",
                                    "helyezes": "14"
                                },
                                {
                                    "szoba_id": "81",
                                    "ferohely": "2",
                                    "foglalas_db": "5",
                                    "helyezes": "14"
                                },
                                {
                                    "szoba_id": "86",
                                    "ferohely": "2",
                                    "foglalas_db": "5",
                                    "helyezes": "14"
                                },
                                {
                                    "szoba_id": "52",
                                    "ferohely": "2",
                                    "foglalas_db": "5",
                                    "helyezes": "14"
                                },
                                {
                                    "szoba_id": "45",
                                    "ferohely": "2",
                                    "foglalas_db": "5",
                                    "helyezes": "14"
                                },
                                {
                                    "szoba_id": "62",
                                    "ferohely": "2",
                                    "foglalas_db": "5",
                                    "helyezes": "14"
                                },
                                {
                                    "szoba_id": "61",
                                    "ferohely": "3",
                                    "foglalas_db": "5",
                                    "helyezes": "15"
                                },
                                {
                                    "szoba_id": "51",
                                    "ferohely": "3",
                                    "foglalas_db": "5",
                                    "helyezes": "15"
                                },
                                {
                                    "szoba_id": "20",
                                    "ferohely": "3",
                                    "foglalas_db": "5",
                                    "helyezes": "15"
                                },
                                {
                                    "szoba_id": "8",
                                    "ferohely": "3",
                                    "foglalas_db": "5",
                                    "helyezes": "15"
                                },
                                {
                                    "szoba_id": "16",
                                    "ferohely": "3",
                                    "foglalas_db": "5",
                                    "helyezes": "15"
                                },
                                {
                                    "szoba_id": "87",
                                    "ferohely": "3",
                                    "foglalas_db": "5",
                                    "helyezes": "15"
                                },
                                {
                                    "szoba_id": "79",
                                    "ferohely": "3",
                                    "foglalas_db": "5",
                                    "helyezes": "15"
                                },
                                {
                                    "szoba_id": "112",
                                    "ferohely": "3",
                                    "foglalas_db": "5",
                                    "helyezes": "15"
                                },
                                {
                                    "szoba_id": "113",
                                    "ferohely": "3",
                                    "foglalas_db": "5",
                                    "helyezes": "15"
                                },
                                {
                                    "szoba_id": "93",
                                    "ferohely": "3",
                                    "foglalas_db": "5",
                                    "helyezes": "15"
                                },
                                {
                                    "szoba_id": "144",
                                    "ferohely": "3",
                                    "foglalas_db": "5",
                                    "helyezes": "15"
                                },
                                {
                                    "szoba_id": "123",
                                    "ferohely": "3",
                                    "foglalas_db": "5",
                                    "helyezes": "15"
                                },
                                {
                                    "szoba_id": "155",
                                    "ferohely": "3",
                                    "foglalas_db": "5",
                                    "helyezes": "15"
                                },
                                {
                                    "szoba_id": "153",
                                    "ferohely": "3",
                                    "foglalas_db": "5",
                                    "helyezes": "15"
                                },
                                {
                                    "szoba_id": "160",
                                    "ferohely": "3",
                                    "foglalas_db": "5",
                                    "helyezes": "15"
                                },
                                {
                                    "szoba_id": "152",
                                    "ferohely": "2",
                                    "foglalas_db": "4",
                                    "helyezes": "16"
                                },
                                {
                                    "szoba_id": "173",
                                    "ferohely": "2",
                                    "foglalas_db": "4",
                                    "helyezes": "16"
                                },
                                {
                                    "szoba_id": "174",
                                    "ferohely": "2",
                                    "foglalas_db": "4",
                                    "helyezes": "16"
                                },
                                {
                                    "szoba_id": "186",
                                    "ferohely": "2",
                                    "foglalas_db": "4",
                                    "helyezes": "16"
                                },
                                {
                                    "szoba_id": "184",
                                    "ferohely": "2",
                                    "foglalas_db": "4",
                                    "helyezes": "16"
                                },
                                {
                                    "szoba_id": "196",
                                    "ferohely": "2",
                                    "foglalas_db": "4",
                                    "helyezes": "16"
                                },
                                {
                                    "szoba_id": "129",
                                    "ferohely": "2",
                                    "foglalas_db": "4",
                                    "helyezes": "16"
                                },
                                {
                                    "szoba_id": "100",
                                    "ferohely": "2",
                                    "foglalas_db": "4",
                                    "helyezes": "16"
                                },
                                {
                                    "szoba_id": "114",
                                    "ferohely": "2",
                                    "foglalas_db": "4",
                                    "helyezes": "16"
                                },
                                {
                                    "szoba_id": "98",
                                    "ferohely": "2",
                                    "foglalas_db": "4",
                                    "helyezes": "16"
                                },
                                {
                                    "szoba_id": "103",
                                    "ferohely": "2",
                                    "foglalas_db": "4",
                                    "helyezes": "16"
                                },
                                {
                                    "szoba_id": "85",
                                    "ferohely": "2",
                                    "foglalas_db": "4",
                                    "helyezes": "16"
                                },
                                {
                                    "szoba_id": "91",
                                    "ferohely": "2",
                                    "foglalas_db": "4",
                                    "helyezes": "16"
                                },
                                {
                                    "szoba_id": "11",
                                    "ferohely": "2",
                                    "foglalas_db": "4",
                                    "helyezes": "16"
                                },
                                {
                                    "szoba_id": "5",
                                    "ferohely": "2",
                                    "foglalas_db": "4",
                                    "helyezes": "16"
                                },
                                {
                                    "szoba_id": "21",
                                    "ferohely": "2",
                                    "foglalas_db": "4",
                                    "helyezes": "16"
                                },
                                {
                                    "szoba_id": "50",
                                    "ferohely": "2",
                                    "foglalas_db": "4",
                                    "helyezes": "16"
                                },
                                {
                                    "szoba_id": "57",
                                    "ferohely": "2",
                                    "foglalas_db": "4",
                                    "helyezes": "16"
                                },
                                {
                                    "szoba_id": "63",
                                    "ferohely": "2",
                                    "foglalas_db": "4",
                                    "helyezes": "16"
                                },
                                {
                                    "szoba_id": "72",
                                    "ferohely": "2",
                                    "foglalas_db": "4",
                                    "helyezes": "16"
                                },
                                {
                                    "szoba_id": "73",
                                    "ferohely": "2",
                                    "foglalas_db": "4",
                                    "helyezes": "16"
                                },
                                {
                                    "szoba_id": "66",
                                    "ferohely": "3",
                                    "foglalas_db": "4",
                                    "helyezes": "17"
                                },
                                {
                                    "szoba_id": "69",
                                    "ferohely": "3",
                                    "foglalas_db": "4",
                                    "helyezes": "17"
                                },
                                {
                                    "szoba_id": "46",
                                    "ferohely": "3",
                                    "foglalas_db": "4",
                                    "helyezes": "17"
                                },
                                {
                                    "szoba_id": "34",
                                    "ferohely": "3",
                                    "foglalas_db": "4",
                                    "helyezes": "17"
                                },
                                {
                                    "szoba_id": "40",
                                    "ferohely": "3",
                                    "foglalas_db": "4",
                                    "helyezes": "17"
                                },
                                {
                                    "szoba_id": "2",
                                    "ferohely": "3",
                                    "foglalas_db": "4",
                                    "helyezes": "17"
                                },
                                {
                                    "szoba_id": "10",
                                    "ferohely": "3",
                                    "foglalas_db": "4",
                                    "helyezes": "17"
                                },
                                {
                                    "szoba_id": "13",
                                    "ferohely": "3",
                                    "foglalas_db": "4",
                                    "helyezes": "17"
                                },
                                {
                                    "szoba_id": "90",
                                    "ferohely": "3",
                                    "foglalas_db": "4",
                                    "helyezes": "17"
                                },
                                {
                                    "szoba_id": "84",
                                    "ferohely": "3",
                                    "foglalas_db": "4",
                                    "helyezes": "17"
                                },
                                {
                                    "szoba_id": "104",
                                    "ferohely": "3",
                                    "foglalas_db": "4",
                                    "helyezes": "17"
                                },
                                {
                                    "szoba_id": "95",
                                    "ferohely": "3",
                                    "foglalas_db": "4",
                                    "helyezes": "17"
                                },
                                {
                                    "szoba_id": "177",
                                    "ferohely": "3",
                                    "foglalas_db": "4",
                                    "helyezes": "17"
                                },
                                {
                                    "szoba_id": "178",
                                    "ferohely": "3",
                                    "foglalas_db": "4",
                                    "helyezes": "17"
                                },
                                {
                                    "szoba_id": "183",
                                    "ferohely": "3",
                                    "foglalas_db": "4",
                                    "helyezes": "17"
                                },
                                {
                                    "szoba_id": "180",
                                    "ferohely": "2",
                                    "foglalas_db": "3",
                                    "helyezes": "18"
                                },
                                {
                                    "szoba_id": "166",
                                    "ferohely": "2",
                                    "foglalas_db": "3",
                                    "helyezes": "18"
                                },
                                {
                                    "szoba_id": "151",
                                    "ferohely": "2",
                                    "foglalas_db": "3",
                                    "helyezes": "18"
                                },
                                {
                                    "szoba_id": "158",
                                    "ferohely": "2",
                                    "foglalas_db": "3",
                                    "helyezes": "18"
                                },
                                {
                                    "szoba_id": "101",
                                    "ferohely": "2",
                                    "foglalas_db": "3",
                                    "helyezes": "18"
                                },
                                {
                                    "szoba_id": "75",
                                    "ferohely": "2",
                                    "foglalas_db": "3",
                                    "helyezes": "18"
                                },
                                {
                                    "szoba_id": "76",
                                    "ferohely": "2",
                                    "foglalas_db": "3",
                                    "helyezes": "18"
                                },
                                {
                                    "szoba_id": "136",
                                    "ferohely": "2",
                                    "foglalas_db": "3",
                                    "helyezes": "18"
                                },
                                {
                                    "szoba_id": "23",
                                    "ferohely": "2",
                                    "foglalas_db": "3",
                                    "helyezes": "18"
                                },
                                {
                                    "szoba_id": "37",
                                    "ferohely": "2",
                                    "foglalas_db": "3",
                                    "helyezes": "18"
                                },
                                {
                                    "szoba_id": "68",
                                    "ferohely": "2",
                                    "foglalas_db": "3",
                                    "helyezes": "18"
                                },
                                {
                                    "szoba_id": "71",
                                    "ferohely": "3",
                                    "foglalas_db": "3",
                                    "helyezes": "19"
                                },
                                {
                                    "szoba_id": "30",
                                    "ferohely": "3",
                                    "foglalas_db": "3",
                                    "helyezes": "19"
                                },
                                {
                                    "szoba_id": "31",
                                    "ferohely": "3",
                                    "foglalas_db": "3",
                                    "helyezes": "19"
                                },
                                {
                                    "szoba_id": "14",
                                    "ferohely": "3",
                                    "foglalas_db": "3",
                                    "helyezes": "19"
                                },
                                {
                                    "szoba_id": "135",
                                    "ferohely": "3",
                                    "foglalas_db": "3",
                                    "helyezes": "19"
                                },
                                {
                                    "szoba_id": "162",
                                    "ferohely": "3",
                                    "foglalas_db": "3",
                                    "helyezes": "19"
                                },
                                {
                                    "szoba_id": "179",
                                    "ferohely": "3",
                                    "foglalas_db": "3",
                                    "helyezes": "19"
                                },
                                {
                                    "szoba_id": "24",
                                    "ferohely": "4",
                                    "foglalas_db": "3",
                                    "helyezes": "20"
                                },
                                {
                                    "szoba_id": "26",
                                    "ferohely": "2",
                                    "foglalas_db": "2",
                                    "helyezes": "21"
                                },
                                {
                                    "szoba_id": "47",
                                    "ferohely": "2",
                                    "foglalas_db": "2",
                                    "helyezes": "21"
                                },
                                {
                                    "szoba_id": "53",
                                    "ferohely": "2",
                                    "foglalas_db": "2",
                                    "helyezes": "21"
                                },
                                {
                                    "szoba_id": "56",
                                    "ferohely": "2",
                                    "foglalas_db": "2",
                                    "helyezes": "21"
                                },
                                {
                                    "szoba_id": "108",
                                    "ferohely": "2",
                                    "foglalas_db": "2",
                                    "helyezes": "21"
                                },
                                {
                                    "szoba_id": "102",
                                    "ferohely": "2",
                                    "foglalas_db": "2",
                                    "helyezes": "21"
                                },
                                {
                                    "szoba_id": "105",
                                    "ferohely": "2",
                                    "foglalas_db": "2",
                                    "helyezes": "21"
                                },
                                {
                                    "szoba_id": "192",
                                    "ferohely": "2",
                                    "foglalas_db": "2",
                                    "helyezes": "21"
                                },
                                {
                                    "szoba_id": "167",
                                    "ferohely": "3",
                                    "foglalas_db": "2",
                                    "helyezes": "22"
                                },
                                {
                                    "szoba_id": "116",
                                    "ferohely": "3",
                                    "foglalas_db": "2",
                                    "helyezes": "22"
                                },
                                {
                                    "szoba_id": "142",
                                    "ferohely": "3",
                                    "foglalas_db": "2",
                                    "helyezes": "22"
                                },
                                {
                                    "szoba_id": "25",
                                    "ferohely": "3",
                                    "foglalas_db": "2",
                                    "helyezes": "22"
                                },
                                {
                                    "szoba_id": "41",
                                    "ferohely": "3",
                                    "foglalas_db": "2",
                                    "helyezes": "22"
                                },
                                {
                                    "szoba_id": "261",
                                    "ferohely": "1",
                                    "foglalas_db": "1",
                                    "helyezes": "23"
                                },
                                {
                                    "szoba_id": "262",
                                    "ferohely": "1",
                                    "foglalas_db": "1",
                                    "helyezes": "23"
                                },
                                {
                                    "szoba_id": "263",
                                    "ferohely": "2",
                                    "foglalas_db": "1",
                                    "helyezes": "24"
                                },
                                {
                                    "szoba_id": "266",
                                    "ferohely": "2",
                                    "foglalas_db": "1",
                                    "helyezes": "24"
                                },
                                {
                                    "szoba_id": "267",
                                    "ferohely": "2",
                                    "foglalas_db": "1",
                                    "helyezes": "24"
                                },
                                {
                                    "szoba_id": "268",
                                    "ferohely": "2",
                                    "foglalas_db": "1",
                                    "helyezes": "24"
                                },
                                {
                                    "szoba_id": "269",
                                    "ferohely": "2",
                                    "foglalas_db": "1",
                                    "helyezes": "24"
                                },
                                {
                                    "szoba_id": "275",
                                    "ferohely": "2",
                                    "foglalas_db": "1",
                                    "helyezes": "24"
                                },
                                {
                                    "szoba_id": "276",
                                    "ferohely": "2",
                                    "foglalas_db": "1",
                                    "helyezes": "24"
                                },
                                {
                                    "szoba_id": "277",
                                    "ferohely": "2",
                                    "foglalas_db": "1",
                                    "helyezes": "24"
                                },
                                {
                                    "szoba_id": "273",
                                    "ferohely": "2",
                                    "foglalas_db": "1",
                                    "helyezes": "24"
                                },
                                {
                                    "szoba_id": "279",
                                    "ferohely": "2",
                                    "foglalas_db": "1",
                                    "helyezes": "24"
                                },
                                {
                                    "szoba_id": "281",
                                    "ferohely": "2",
                                    "foglalas_db": "1",
                                    "helyezes": "24"
                                },
                                {
                                    "szoba_id": "282",
                                    "ferohely": "2",
                                    "foglalas_db": "1",
                                    "helyezes": "24"
                                },
                                {
                                    "szoba_id": "283",
                                    "ferohely": "2",
                                    "foglalas_db": "1",
                                    "helyezes": "24"
                                },
                                {
                                    "szoba_id": "284",
                                    "ferohely": "2",
                                    "foglalas_db": "1",
                                    "helyezes": "24"
                                },
                                {
                                    "szoba_id": "285",
                                    "ferohely": "2",
                                    "foglalas_db": "1",
                                    "helyezes": "24"
                                },
                                {
                                    "szoba_id": "290",
                                    "ferohely": "2",
                                    "foglalas_db": "1",
                                    "helyezes": "24"
                                },
                                {
                                    "szoba_id": "291",
                                    "ferohely": "2",
                                    "foglalas_db": "1",
                                    "helyezes": "24"
                                },
                                {
                                    "szoba_id": "292",
                                    "ferohely": "2",
                                    "foglalas_db": "1",
                                    "helyezes": "24"
                                },
                                {
                                    "szoba_id": "293",
                                    "ferohely": "2",
                                    "foglalas_db": "1",
                                    "helyezes": "24"
                                },
                                {
                                    "szoba_id": "288",
                                    "ferohely": "2",
                                    "foglalas_db": "1",
                                    "helyezes": "24"
                                },
                                {
                                    "szoba_id": "222",
                                    "ferohely": "2",
                                    "foglalas_db": "1",
                                    "helyezes": "24"
                                },
                                {
                                    "szoba_id": "223",
                                    "ferohely": "2",
                                    "foglalas_db": "1",
                                    "helyezes": "24"
                                },
                                {
                                    "szoba_id": "224",
                                    "ferohely": "2",
                                    "foglalas_db": "1",
                                    "helyezes": "24"
                                },
                                {
                                    "szoba_id": "225",
                                    "ferohely": "2",
                                    "foglalas_db": "1",
                                    "helyezes": "24"
                                },
                                {
                                    "szoba_id": "227",
                                    "ferohely": "2",
                                    "foglalas_db": "1",
                                    "helyezes": "24"
                                },
                                {
                                    "szoba_id": "229",
                                    "ferohely": "2",
                                    "foglalas_db": "1",
                                    "helyezes": "24"
                                },
                                {
                                    "szoba_id": "231",
                                    "ferohely": "2",
                                    "foglalas_db": "1",
                                    "helyezes": "24"
                                },
                                {
                                    "szoba_id": "232",
                                    "ferohely": "2",
                                    "foglalas_db": "1",
                                    "helyezes": "24"
                                },
                                {
                                    "szoba_id": "237",
                                    "ferohely": "2",
                                    "foglalas_db": "1",
                                    "helyezes": "24"
                                },
                                {
                                    "szoba_id": "239",
                                    "ferohely": "2",
                                    "foglalas_db": "1",
                                    "helyezes": "24"
                                },
                                {
                                    "szoba_id": "241",
                                    "ferohely": "2",
                                    "foglalas_db": "1",
                                    "helyezes": "24"
                                },
                                {
                                    "szoba_id": "242",
                                    "ferohely": "2",
                                    "foglalas_db": "1",
                                    "helyezes": "24"
                                },
                                {
                                    "szoba_id": "243",
                                    "ferohely": "2",
                                    "foglalas_db": "1",
                                    "helyezes": "24"
                                },
                                {
                                    "szoba_id": "244",
                                    "ferohely": "2",
                                    "foglalas_db": "1",
                                    "helyezes": "24"
                                },
                                {
                                    "szoba_id": "245",
                                    "ferohely": "2",
                                    "foglalas_db": "1",
                                    "helyezes": "24"
                                },
                                {
                                    "szoba_id": "246",
                                    "ferohely": "2",
                                    "foglalas_db": "1",
                                    "helyezes": "24"
                                },
                                {
                                    "szoba_id": "247",
                                    "ferohely": "2",
                                    "foglalas_db": "1",
                                    "helyezes": "24"
                                },
                                {
                                    "szoba_id": "248",
                                    "ferohely": "2",
                                    "foglalas_db": "1",
                                    "helyezes": "24"
                                },
                                {
                                    "szoba_id": "249",
                                    "ferohely": "2",
                                    "foglalas_db": "1",
                                    "helyezes": "24"
                                },
                                {
                                    "szoba_id": "253",
                                    "ferohely": "2",
                                    "foglalas_db": "1",
                                    "helyezes": "24"
                                },
                                {
                                    "szoba_id": "254",
                                    "ferohely": "2",
                                    "foglalas_db": "1",
                                    "helyezes": "24"
                                },
                                {
                                    "szoba_id": "257",
                                    "ferohely": "2",
                                    "foglalas_db": "1",
                                    "helyezes": "24"
                                },
                                {
                                    "szoba_id": "258",
                                    "ferohely": "2",
                                    "foglalas_db": "1",
                                    "helyezes": "24"
                                },
                                {
                                    "szoba_id": "259",
                                    "ferohely": "2",
                                    "foglalas_db": "1",
                                    "helyezes": "24"
                                },
                                {
                                    "szoba_id": "260",
                                    "ferohely": "2",
                                    "foglalas_db": "1",
                                    "helyezes": "24"
                                },
                                {
                                    "szoba_id": "194",
                                    "ferohely": "2",
                                    "foglalas_db": "1",
                                    "helyezes": "24"
                                },
                                {
                                    "szoba_id": "200",
                                    "ferohely": "2",
                                    "foglalas_db": "1",
                                    "helyezes": "24"
                                },
                                {
                                    "szoba_id": "215",
                                    "ferohely": "2",
                                    "foglalas_db": "1",
                                    "helyezes": "24"
                                },
                                {
                                    "szoba_id": "217",
                                    "ferohely": "2",
                                    "foglalas_db": "1",
                                    "helyezes": "24"
                                },
                                {
                                    "szoba_id": "219",
                                    "ferohely": "2",
                                    "foglalas_db": "1",
                                    "helyezes": "24"
                                },
                                {
                                    "szoba_id": "206",
                                    "ferohely": "2",
                                    "foglalas_db": "1",
                                    "helyezes": "24"
                                },
                                {
                                    "szoba_id": "207",
                                    "ferohely": "2",
                                    "foglalas_db": "1",
                                    "helyezes": "24"
                                },
                                {
                                    "szoba_id": "208",
                                    "ferohely": "2",
                                    "foglalas_db": "1",
                                    "helyezes": "24"
                                },
                                {
                                    "szoba_id": "210",
                                    "ferohely": "2",
                                    "foglalas_db": "1",
                                    "helyezes": "24"
                                },
                                {
                                    "szoba_id": "211",
                                    "ferohely": "2",
                                    "foglalas_db": "1",
                                    "helyezes": "24"
                                },
                                {
                                    "szoba_id": "32",
                                    "ferohely": "2",
                                    "foglalas_db": "1",
                                    "helyezes": "24"
                                },
                                {
                                    "szoba_id": "65",
                                    "ferohely": "2",
                                    "foglalas_db": "1",
                                    "helyezes": "24"
                                },
                                {
                                    "szoba_id": "147",
                                    "ferohely": "2",
                                    "foglalas_db": "1",
                                    "helyezes": "24"
                                },
                                {
                                    "szoba_id": "125",
                                    "ferohely": "2",
                                    "foglalas_db": "1",
                                    "helyezes": "24"
                                },
                                {
                                    "szoba_id": "60",
                                    "ferohely": "3",
                                    "foglalas_db": "1",
                                    "helyezes": "25"
                                },
                                {
                                    "szoba_id": "212",
                                    "ferohely": "3",
                                    "foglalas_db": "1",
                                    "helyezes": "25"
                                },
                                {
                                    "szoba_id": "213",
                                    "ferohely": "3",
                                    "foglalas_db": "1",
                                    "helyezes": "25"
                                },
                                {
                                    "szoba_id": "214",
                                    "ferohely": "3",
                                    "foglalas_db": "1",
                                    "helyezes": "25"
                                },
                                {
                                    "szoba_id": "209",
                                    "ferohely": "3",
                                    "foglalas_db": "1",
                                    "helyezes": "25"
                                },
                                {
                                    "szoba_id": "220",
                                    "ferohely": "3",
                                    "foglalas_db": "1",
                                    "helyezes": "25"
                                },
                                {
                                    "szoba_id": "221",
                                    "ferohely": "3",
                                    "foglalas_db": "1",
                                    "helyezes": "25"
                                },
                                {
                                    "szoba_id": "218",
                                    "ferohely": "3",
                                    "foglalas_db": "1",
                                    "helyezes": "25"
                                },
                                {
                                    "szoba_id": "216",
                                    "ferohely": "3",
                                    "foglalas_db": "1",
                                    "helyezes": "25"
                                },
                                {
                                    "szoba_id": "199",
                                    "ferohely": "3",
                                    "foglalas_db": "1",
                                    "helyezes": "25"
                                },
                                {
                                    "szoba_id": "201",
                                    "ferohely": "3",
                                    "foglalas_db": "1",
                                    "helyezes": "25"
                                },
                                {
                                    "szoba_id": "202",
                                    "ferohely": "3",
                                    "foglalas_db": "1",
                                    "helyezes": "25"
                                },
                                {
                                    "szoba_id": "203",
                                    "ferohely": "3",
                                    "foglalas_db": "1",
                                    "helyezes": "25"
                                },
                                {
                                    "szoba_id": "204",
                                    "ferohely": "3",
                                    "foglalas_db": "1",
                                    "helyezes": "25"
                                },
                                {
                                    "szoba_id": "205",
                                    "ferohely": "3",
                                    "foglalas_db": "1",
                                    "helyezes": "25"
                                },
                                {
                                    "szoba_id": "159",
                                    "ferohely": "3",
                                    "foglalas_db": "1",
                                    "helyezes": "25"
                                },
                                {
                                    "szoba_id": "255",
                                    "ferohely": "3",
                                    "foglalas_db": "1",
                                    "helyezes": "25"
                                },
                                {
                                    "szoba_id": "256",
                                    "ferohely": "3",
                                    "foglalas_db": "1",
                                    "helyezes": "25"
                                },
                                {
                                    "szoba_id": "250",
                                    "ferohely": "3",
                                    "foglalas_db": "1",
                                    "helyezes": "25"
                                },
                                {
                                    "szoba_id": "251",
                                    "ferohely": "3",
                                    "foglalas_db": "1",
                                    "helyezes": "25"
                                },
                                {
                                    "szoba_id": "252",
                                    "ferohely": "3",
                                    "foglalas_db": "1",
                                    "helyezes": "25"
                                },
                                {
                                    "szoba_id": "240",
                                    "ferohely": "3",
                                    "foglalas_db": "1",
                                    "helyezes": "25"
                                },
                                {
                                    "szoba_id": "238",
                                    "ferohely": "3",
                                    "foglalas_db": "1",
                                    "helyezes": "25"
                                },
                                {
                                    "szoba_id": "233",
                                    "ferohely": "3",
                                    "foglalas_db": "1",
                                    "helyezes": "25"
                                },
                                {
                                    "szoba_id": "234",
                                    "ferohely": "3",
                                    "foglalas_db": "1",
                                    "helyezes": "25"
                                },
                                {
                                    "szoba_id": "235",
                                    "ferohely": "3",
                                    "foglalas_db": "1",
                                    "helyezes": "25"
                                },
                                {
                                    "szoba_id": "236",
                                    "ferohely": "3",
                                    "foglalas_db": "1",
                                    "helyezes": "25"
                                },
                                {
                                    "szoba_id": "230",
                                    "ferohely": "3",
                                    "foglalas_db": "1",
                                    "helyezes": "25"
                                },
                                {
                                    "szoba_id": "228",
                                    "ferohely": "3",
                                    "foglalas_db": "1",
                                    "helyezes": "25"
                                },
                                {
                                    "szoba_id": "226",
                                    "ferohely": "3",
                                    "foglalas_db": "1",
                                    "helyezes": "25"
                                },
                                {
                                    "szoba_id": "289",
                                    "ferohely": "3",
                                    "foglalas_db": "1",
                                    "helyezes": "25"
                                },
                                {
                                    "szoba_id": "294",
                                    "ferohely": "3",
                                    "foglalas_db": "1",
                                    "helyezes": "25"
                                },
                                {
                                    "szoba_id": "286",
                                    "ferohely": "3",
                                    "foglalas_db": "1",
                                    "helyezes": "25"
                                },
                                {
                                    "szoba_id": "287",
                                    "ferohely": "3",
                                    "foglalas_db": "1",
                                    "helyezes": "25"
                                },
                                {
                                    "szoba_id": "280",
                                    "ferohely": "3",
                                    "foglalas_db": "1",
                                    "helyezes": "25"
                                },
                                {
                                    "szoba_id": "274",
                                    "ferohely": "3",
                                    "foglalas_db": "1",
                                    "helyezes": "25"
                                },
                                {
                                    "szoba_id": "278",
                                    "ferohely": "3",
                                    "foglalas_db": "1",
                                    "helyezes": "25"
                                },
                                {
                                    "szoba_id": "270",
                                    "ferohely": "3",
                                    "foglalas_db": "1",
                                    "helyezes": "25"
                                },
                                {
                                    "szoba_id": "271",
                                    "ferohely": "3",
                                    "foglalas_db": "1",
                                    "helyezes": "25"
                                },
                                {
                                    "szoba_id": "272",
                                    "ferohely": "3",
                                    "foglalas_db": "1",
                                    "helyezes": "25"
                                },
                                {
                                    "szoba_id": "264",
                                    "ferohely": "3",
                                    "foglalas_db": "1",
                                    "helyezes": "25"
                                },
                                {
                                    "szoba_id": "265",
                                    "ferohely": "3",
                                    "foglalas_db": "1",
                                    "helyezes": "25"
                                }
                            ]
                        },
                        "text/html": "<table><tr><th>szoba_id</th><th>ferohely</th><th>foglalas_db</th><th>helyezes</th></tr><tr><td>58</td><td>2</td><td>13</td><td>1</td></tr><tr><td>182</td><td>2</td><td>12</td><td>2</td></tr><tr><td>185</td><td>3</td><td>12</td><td>3</td></tr><tr><td>70</td><td>2</td><td>11</td><td>4</td></tr><tr><td>94</td><td>2</td><td>10</td><td>5</td></tr><tr><td>12</td><td>2</td><td>9</td><td>6</td></tr><tr><td>172</td><td>2</td><td>9</td><td>6</td></tr><tr><td>35</td><td>3</td><td>9</td><td>7</td></tr><tr><td>48</td><td>3</td><td>9</td><td>7</td></tr><tr><td>74</td><td>3</td><td>9</td><td>7</td></tr><tr><td>122</td><td>3</td><td>9</td><td>7</td></tr><tr><td>121</td><td>2</td><td>8</td><td>8</td></tr><tr><td>140</td><td>2</td><td>8</td><td>8</td></tr><tr><td>110</td><td>2</td><td>8</td><td>8</td></tr><tr><td>55</td><td>2</td><td>8</td><td>8</td></tr><tr><td>38</td><td>2</td><td>8</td><td>8</td></tr><tr><td>1</td><td>3</td><td>8</td><td>9</td></tr><tr><td>3</td><td>3</td><td>8</td><td>9</td></tr><tr><td>43</td><td>3</td><td>8</td><td>9</td></tr><tr><td>83</td><td>3</td><td>8</td><td>9</td></tr><tr><td>88</td><td>3</td><td>8</td><td>9</td></tr><tr><td>89</td><td>3</td><td>8</td><td>9</td></tr><tr><td>117</td><td>3</td><td>8</td><td>9</td></tr><tr><td>198</td><td>3</td><td>8</td><td>9</td></tr><tr><td>165</td><td>2</td><td>7</td><td>10</td></tr><tr><td>149</td><td>2</td><td>7</td><td>10</td></tr><tr><td>156</td><td>2</td><td>7</td><td>10</td></tr><tr><td>163</td><td>2</td><td>7</td><td>10</td></tr><tr><td>118</td><td>2</td><td>7</td><td>10</td></tr><tr><td>109</td><td>2</td><td>7</td><td>10</td></tr><tr><td>127</td><td>2</td><td>7</td><td>10</td></tr><tr><td>139</td><td>2</td><td>7</td><td>10</td></tr><tr><td>80</td><td>2</td><td>7</td><td>10</td></tr><tr><td>59</td><td>2</td><td>7</td><td>10</td></tr><tr><td>39</td><td>2</td><td>7</td><td>10</td></tr><tr><td>27</td><td>3</td><td>7</td><td>11</td></tr><tr><td>49</td><td>3</td><td>7</td><td>11</td></tr><tr><td>96</td><td>3</td><td>7</td><td>11</td></tr><tr><td>97</td><td>3</td><td>7</td><td>11</td></tr><tr><td>138</td><td>3</td><td>7</td><td>11</td></tr><tr><td>143</td><td>3</td><td>7</td><td>11</td></tr><tr><td>115</td><td>3</td><td>7</td><td>11</td></tr><tr><td>193</td><td>3</td><td>7</td><td>11</td></tr><tr><td>187</td><td>3</td><td>7</td><td>11</td></tr><tr><td>195</td><td>2</td><td>6</td><td>12</td></tr><tr><td>161</td><td>2</td><td>6</td><td>12</td></tr><tr><td>150</td><td>2</td><td>6</td><td>12</td></tr><tr><td>148</td><td>2</td><td>6</td><td>12</td></tr><tr><td>169</td><td>2</td><td>6</td><td>12</td></tr><tr><td>106</td><td>2</td><td>6</td><td>12</td></tr><tr><td>126</td><td>2</td><td>6</td><td>12</td></tr><tr><td>145</td><td>2</td><td>6</td><td>12</td></tr><tr><td>141</td><td>2</td><td>6</td><td>12</td></tr><tr><td>130</td><td>2</td><td>6</td><td>12</td></tr><tr><td>137</td><td>2</td><td>6</td><td>12</td></tr><tr><td>78</td><td>2</td><td>6</td><td>12</td></tr><tr><td>42</td><td>2</td><td>6</td><td>12</td></tr><tr><td>64</td><td>2</td><td>6</td><td>12</td></tr><tr><td>67</td><td>2</td><td>6</td><td>12</td></tr><tr><td>28</td><td>2</td><td>6</td><td>12</td></tr><tr><td>29</td><td>2</td><td>6</td><td>12</td></tr><tr><td>19</td><td>2</td><td>6</td><td>12</td></tr><tr><td>33</td><td>2</td><td>6</td><td>12</td></tr><tr><td>4</td><td>2</td><td>6</td><td>12</td></tr><tr><td>7</td><td>2</td><td>6</td><td>12</td></tr><tr><td>15</td><td>2</td><td>6</td><td>12</td></tr><tr><td>17</td><td>3</td><td>6</td><td>13</td></tr><tr><td>18</td><td>3</td><td>6</td><td>13</td></tr><tr><td>6</td><td>3</td><td>6</td><td>13</td></tr><tr><td>9</td><td>3</td><td>6</td><td>13</td></tr><tr><td>22</td><td>3</td><td>6</td><td>13</td></tr><tr><td>36</td><td>3</td><td>6</td><td>13</td></tr><tr><td>44</td><td>3</td><td>6</td><td>13</td></tr><tr><td>54</td><td>3</td><td>6</td><td>13</td></tr><tr><td>77</td><td>3</td><td>6</td><td>13</td></tr><tr><td>82</td><td>3</td><td>6</td><td>13</td></tr><tr><td>92</td><td>3</td><td>6</td><td>13</td></tr><tr><td>132</td><td>3</td><td>6</td><td>13</td></tr><tr><td>133</td><td>3</td><td>6</td><td>13</td></tr><tr><td>134</td><td>3</td><td>6</td><td>13</td></tr><tr><td>146</td><td>3</td><td>6</td><td>13</td></tr><tr><td>124</td><td>3</td><td>6</td><td>13</td></tr><tr><td>120</td><td>3</td><td>6</td><td>13</td></tr><tr><td>181</td><td>3</td><td>6</td><td>13</td></tr><tr><td>176</td><td>3</td><td>6</td><td>13</td></tr><tr><td>197</td><td>3</td><td>6</td><td>13</td></tr><tr><td>188</td><td>3</td><td>6</td><td>13</td></tr><tr><td>189</td><td>2</td><td>5</td><td>14</td></tr><tr><td>190</td><td>2</td><td>5</td><td>14</td></tr><tr><td>191</td><td>2</td><td>5</td><td>14</td></tr><tr><td>170</td><td>2</td><td>5</td><td>14</td></tr><tr><td>171</td><td>2</td><td>5</td><td>14</td></tr><tr><td>168</td><td>2</td><td>5</td><td>14</td></tr><tr><td>175</td><td>2</td><td>5</td><td>14</td></tr><tr><td>157</td><td>2</td><td>5</td><td>14</td></tr><tr><td>164</td><td>2</td><td>5</td><td>14</td></tr><tr><td>154</td><td>2</td><td>5</td><td>14</td></tr><tr><td>119</td><td>2</td><td>5</td><td>14</td></tr><tr><td>107</td><td>2</td><td>5</td><td>14</td></tr><tr><td>128</td><td>2</td><td>5</td><td>14</td></tr><tr><td>131</td><td>2</td><td>5</td><td>14</td></tr><tr><td>99</td><td>2</td><td>5</td><td>14</td></tr><tr><td>111</td><td>2</td><td>5</td><td>14</td></tr><tr><td>81</td><td>2</td><td>5</td><td>14</td></tr><tr><td>86</td><td>2</td><td>5</td><td>14</td></tr><tr><td>52</td><td>2</td><td>5</td><td>14</td></tr><tr><td>45</td><td>2</td><td>5</td><td>14</td></tr><tr><td>62</td><td>2</td><td>5</td><td>14</td></tr><tr><td>61</td><td>3</td><td>5</td><td>15</td></tr><tr><td>51</td><td>3</td><td>5</td><td>15</td></tr><tr><td>20</td><td>3</td><td>5</td><td>15</td></tr><tr><td>8</td><td>3</td><td>5</td><td>15</td></tr><tr><td>16</td><td>3</td><td>5</td><td>15</td></tr><tr><td>87</td><td>3</td><td>5</td><td>15</td></tr><tr><td>79</td><td>3</td><td>5</td><td>15</td></tr><tr><td>112</td><td>3</td><td>5</td><td>15</td></tr><tr><td>113</td><td>3</td><td>5</td><td>15</td></tr><tr><td>93</td><td>3</td><td>5</td><td>15</td></tr><tr><td>144</td><td>3</td><td>5</td><td>15</td></tr><tr><td>123</td><td>3</td><td>5</td><td>15</td></tr><tr><td>155</td><td>3</td><td>5</td><td>15</td></tr><tr><td>153</td><td>3</td><td>5</td><td>15</td></tr><tr><td>160</td><td>3</td><td>5</td><td>15</td></tr><tr><td>152</td><td>2</td><td>4</td><td>16</td></tr><tr><td>173</td><td>2</td><td>4</td><td>16</td></tr><tr><td>174</td><td>2</td><td>4</td><td>16</td></tr><tr><td>186</td><td>2</td><td>4</td><td>16</td></tr><tr><td>184</td><td>2</td><td>4</td><td>16</td></tr><tr><td>196</td><td>2</td><td>4</td><td>16</td></tr><tr><td>129</td><td>2</td><td>4</td><td>16</td></tr><tr><td>100</td><td>2</td><td>4</td><td>16</td></tr><tr><td>114</td><td>2</td><td>4</td><td>16</td></tr><tr><td>98</td><td>2</td><td>4</td><td>16</td></tr><tr><td>103</td><td>2</td><td>4</td><td>16</td></tr><tr><td>85</td><td>2</td><td>4</td><td>16</td></tr><tr><td>91</td><td>2</td><td>4</td><td>16</td></tr><tr><td>11</td><td>2</td><td>4</td><td>16</td></tr><tr><td>5</td><td>2</td><td>4</td><td>16</td></tr><tr><td>21</td><td>2</td><td>4</td><td>16</td></tr><tr><td>50</td><td>2</td><td>4</td><td>16</td></tr><tr><td>57</td><td>2</td><td>4</td><td>16</td></tr><tr><td>63</td><td>2</td><td>4</td><td>16</td></tr><tr><td>72</td><td>2</td><td>4</td><td>16</td></tr><tr><td>73</td><td>2</td><td>4</td><td>16</td></tr><tr><td>66</td><td>3</td><td>4</td><td>17</td></tr><tr><td>69</td><td>3</td><td>4</td><td>17</td></tr><tr><td>46</td><td>3</td><td>4</td><td>17</td></tr><tr><td>34</td><td>3</td><td>4</td><td>17</td></tr><tr><td>40</td><td>3</td><td>4</td><td>17</td></tr><tr><td>2</td><td>3</td><td>4</td><td>17</td></tr><tr><td>10</td><td>3</td><td>4</td><td>17</td></tr><tr><td>13</td><td>3</td><td>4</td><td>17</td></tr><tr><td>90</td><td>3</td><td>4</td><td>17</td></tr><tr><td>84</td><td>3</td><td>4</td><td>17</td></tr><tr><td>104</td><td>3</td><td>4</td><td>17</td></tr><tr><td>95</td><td>3</td><td>4</td><td>17</td></tr><tr><td>177</td><td>3</td><td>4</td><td>17</td></tr><tr><td>178</td><td>3</td><td>4</td><td>17</td></tr><tr><td>183</td><td>3</td><td>4</td><td>17</td></tr><tr><td>180</td><td>2</td><td>3</td><td>18</td></tr><tr><td>166</td><td>2</td><td>3</td><td>18</td></tr><tr><td>151</td><td>2</td><td>3</td><td>18</td></tr><tr><td>158</td><td>2</td><td>3</td><td>18</td></tr><tr><td>101</td><td>2</td><td>3</td><td>18</td></tr><tr><td>75</td><td>2</td><td>3</td><td>18</td></tr><tr><td>76</td><td>2</td><td>3</td><td>18</td></tr><tr><td>136</td><td>2</td><td>3</td><td>18</td></tr><tr><td>23</td><td>2</td><td>3</td><td>18</td></tr><tr><td>37</td><td>2</td><td>3</td><td>18</td></tr><tr><td>68</td><td>2</td><td>3</td><td>18</td></tr><tr><td>71</td><td>3</td><td>3</td><td>19</td></tr><tr><td>30</td><td>3</td><td>3</td><td>19</td></tr><tr><td>31</td><td>3</td><td>3</td><td>19</td></tr><tr><td>14</td><td>3</td><td>3</td><td>19</td></tr><tr><td>135</td><td>3</td><td>3</td><td>19</td></tr><tr><td>162</td><td>3</td><td>3</td><td>19</td></tr><tr><td>179</td><td>3</td><td>3</td><td>19</td></tr><tr><td>24</td><td>4</td><td>3</td><td>20</td></tr><tr><td>26</td><td>2</td><td>2</td><td>21</td></tr><tr><td>47</td><td>2</td><td>2</td><td>21</td></tr><tr><td>53</td><td>2</td><td>2</td><td>21</td></tr><tr><td>56</td><td>2</td><td>2</td><td>21</td></tr><tr><td>108</td><td>2</td><td>2</td><td>21</td></tr><tr><td>102</td><td>2</td><td>2</td><td>21</td></tr><tr><td>105</td><td>2</td><td>2</td><td>21</td></tr><tr><td>192</td><td>2</td><td>2</td><td>21</td></tr><tr><td>167</td><td>3</td><td>2</td><td>22</td></tr><tr><td>116</td><td>3</td><td>2</td><td>22</td></tr><tr><td>142</td><td>3</td><td>2</td><td>22</td></tr><tr><td>25</td><td>3</td><td>2</td><td>22</td></tr><tr><td>41</td><td>3</td><td>2</td><td>22</td></tr><tr><td>261</td><td>1</td><td>1</td><td>23</td></tr><tr><td>262</td><td>1</td><td>1</td><td>23</td></tr><tr><td>263</td><td>2</td><td>1</td><td>24</td></tr><tr><td>266</td><td>2</td><td>1</td><td>24</td></tr><tr><td>267</td><td>2</td><td>1</td><td>24</td></tr><tr><td>268</td><td>2</td><td>1</td><td>24</td></tr><tr><td>269</td><td>2</td><td>1</td><td>24</td></tr><tr><td>275</td><td>2</td><td>1</td><td>24</td></tr><tr><td>276</td><td>2</td><td>1</td><td>24</td></tr><tr><td>277</td><td>2</td><td>1</td><td>24</td></tr><tr><td>273</td><td>2</td><td>1</td><td>24</td></tr><tr><td>279</td><td>2</td><td>1</td><td>24</td></tr><tr><td>281</td><td>2</td><td>1</td><td>24</td></tr><tr><td>282</td><td>2</td><td>1</td><td>24</td></tr><tr><td>283</td><td>2</td><td>1</td><td>24</td></tr><tr><td>284</td><td>2</td><td>1</td><td>24</td></tr><tr><td>285</td><td>2</td><td>1</td><td>24</td></tr><tr><td>290</td><td>2</td><td>1</td><td>24</td></tr><tr><td>291</td><td>2</td><td>1</td><td>24</td></tr><tr><td>292</td><td>2</td><td>1</td><td>24</td></tr><tr><td>293</td><td>2</td><td>1</td><td>24</td></tr><tr><td>288</td><td>2</td><td>1</td><td>24</td></tr><tr><td>222</td><td>2</td><td>1</td><td>24</td></tr><tr><td>223</td><td>2</td><td>1</td><td>24</td></tr><tr><td>224</td><td>2</td><td>1</td><td>24</td></tr><tr><td>225</td><td>2</td><td>1</td><td>24</td></tr><tr><td>227</td><td>2</td><td>1</td><td>24</td></tr><tr><td>229</td><td>2</td><td>1</td><td>24</td></tr><tr><td>231</td><td>2</td><td>1</td><td>24</td></tr><tr><td>232</td><td>2</td><td>1</td><td>24</td></tr><tr><td>237</td><td>2</td><td>1</td><td>24</td></tr><tr><td>239</td><td>2</td><td>1</td><td>24</td></tr><tr><td>241</td><td>2</td><td>1</td><td>24</td></tr><tr><td>242</td><td>2</td><td>1</td><td>24</td></tr><tr><td>243</td><td>2</td><td>1</td><td>24</td></tr><tr><td>244</td><td>2</td><td>1</td><td>24</td></tr><tr><td>245</td><td>2</td><td>1</td><td>24</td></tr><tr><td>246</td><td>2</td><td>1</td><td>24</td></tr><tr><td>247</td><td>2</td><td>1</td><td>24</td></tr><tr><td>248</td><td>2</td><td>1</td><td>24</td></tr><tr><td>249</td><td>2</td><td>1</td><td>24</td></tr><tr><td>253</td><td>2</td><td>1</td><td>24</td></tr><tr><td>254</td><td>2</td><td>1</td><td>24</td></tr><tr><td>257</td><td>2</td><td>1</td><td>24</td></tr><tr><td>258</td><td>2</td><td>1</td><td>24</td></tr><tr><td>259</td><td>2</td><td>1</td><td>24</td></tr><tr><td>260</td><td>2</td><td>1</td><td>24</td></tr><tr><td>194</td><td>2</td><td>1</td><td>24</td></tr><tr><td>200</td><td>2</td><td>1</td><td>24</td></tr><tr><td>215</td><td>2</td><td>1</td><td>24</td></tr><tr><td>217</td><td>2</td><td>1</td><td>24</td></tr><tr><td>219</td><td>2</td><td>1</td><td>24</td></tr><tr><td>206</td><td>2</td><td>1</td><td>24</td></tr><tr><td>207</td><td>2</td><td>1</td><td>24</td></tr><tr><td>208</td><td>2</td><td>1</td><td>24</td></tr><tr><td>210</td><td>2</td><td>1</td><td>24</td></tr><tr><td>211</td><td>2</td><td>1</td><td>24</td></tr><tr><td>32</td><td>2</td><td>1</td><td>24</td></tr><tr><td>65</td><td>2</td><td>1</td><td>24</td></tr><tr><td>147</td><td>2</td><td>1</td><td>24</td></tr><tr><td>125</td><td>2</td><td>1</td><td>24</td></tr><tr><td>60</td><td>3</td><td>1</td><td>25</td></tr><tr><td>212</td><td>3</td><td>1</td><td>25</td></tr><tr><td>213</td><td>3</td><td>1</td><td>25</td></tr><tr><td>214</td><td>3</td><td>1</td><td>25</td></tr><tr><td>209</td><td>3</td><td>1</td><td>25</td></tr><tr><td>220</td><td>3</td><td>1</td><td>25</td></tr><tr><td>221</td><td>3</td><td>1</td><td>25</td></tr><tr><td>218</td><td>3</td><td>1</td><td>25</td></tr><tr><td>216</td><td>3</td><td>1</td><td>25</td></tr><tr><td>199</td><td>3</td><td>1</td><td>25</td></tr><tr><td>201</td><td>3</td><td>1</td><td>25</td></tr><tr><td>202</td><td>3</td><td>1</td><td>25</td></tr><tr><td>203</td><td>3</td><td>1</td><td>25</td></tr><tr><td>204</td><td>3</td><td>1</td><td>25</td></tr><tr><td>205</td><td>3</td><td>1</td><td>25</td></tr><tr><td>159</td><td>3</td><td>1</td><td>25</td></tr><tr><td>255</td><td>3</td><td>1</td><td>25</td></tr><tr><td>256</td><td>3</td><td>1</td><td>25</td></tr><tr><td>250</td><td>3</td><td>1</td><td>25</td></tr><tr><td>251</td><td>3</td><td>1</td><td>25</td></tr><tr><td>252</td><td>3</td><td>1</td><td>25</td></tr><tr><td>240</td><td>3</td><td>1</td><td>25</td></tr><tr><td>238</td><td>3</td><td>1</td><td>25</td></tr><tr><td>233</td><td>3</td><td>1</td><td>25</td></tr><tr><td>234</td><td>3</td><td>1</td><td>25</td></tr><tr><td>235</td><td>3</td><td>1</td><td>25</td></tr><tr><td>236</td><td>3</td><td>1</td><td>25</td></tr><tr><td>230</td><td>3</td><td>1</td><td>25</td></tr><tr><td>228</td><td>3</td><td>1</td><td>25</td></tr><tr><td>226</td><td>3</td><td>1</td><td>25</td></tr><tr><td>289</td><td>3</td><td>1</td><td>25</td></tr><tr><td>294</td><td>3</td><td>1</td><td>25</td></tr><tr><td>286</td><td>3</td><td>1</td><td>25</td></tr><tr><td>287</td><td>3</td><td>1</td><td>25</td></tr><tr><td>280</td><td>3</td><td>1</td><td>25</td></tr><tr><td>274</td><td>3</td><td>1</td><td>25</td></tr><tr><td>278</td><td>3</td><td>1</td><td>25</td></tr><tr><td>270</td><td>3</td><td>1</td><td>25</td></tr><tr><td>271</td><td>3</td><td>1</td><td>25</td></tr><tr><td>272</td><td>3</td><td>1</td><td>25</td></tr><tr><td>264</td><td>3</td><td>1</td><td>25</td></tr><tr><td>265</td><td>3</td><td>1</td><td>25</td></tr></table>"
                    },
                    "metadata": {}
                }
            ],
            "execution_count": 15
        },
        {
            "cell_type": "markdown",
            "source": [
                "2\\. Feladat"
            ],
            "metadata": {
                "azdata_cell_guid": "e804b654-d066-448c-8d98-9df8a8e66891"
            },
            "attachments": {}
        },
        {
            "cell_type": "code",
            "source": [
                "  SELECT\r\n",
                "    s.szoba_id,\r\n",
                "    s.ferohely,\r\n",
                "    COUNT(*) AS 'foglalas_db',\r\n",
                "    DENSE_RANK() OVER (\r\n",
                "      ORDER BY COUNT(*) DESC, ferohely ASC\r\n",
                "    ) AS 'helyezes'\r\n",
                "  FROM SZOBA s\r\n",
                "  LEFT JOIN foglalas f ON s.szoba_id = f.szoba_fk\r\n",
                "  GROUP BY s.szoba_id, s.ferohely\r\n",
                ""
            ],
            "metadata": {
                "azdata_cell_guid": "1c8a27f9-aee2-480b-8cd9-3e24b6b01f47",
                "language": "sql"
            },
            "outputs": [
                {
                    "output_type": "display_data",
                    "data": {
                        "text/html": "(189 rows affected)"
                    },
                    "metadata": {}
                },
                {
                    "output_type": "display_data",
                    "data": {
                        "text/html": "Total execution time: 00:00:00.012"
                    },
                    "metadata": {}
                },
                {
                    "output_type": "execute_result",
                    "execution_count": 14,
                    "data": {
                        "application/vnd.dataresource+json": {
                            "schema": {
                                "fields": [
                                    {
                                        "name": "szoba_fk"
                                    },
                                    {
                                        "name": "foglalások száma"
                                    }
                                ]
                            },
                            "data": [
                                {
                                    "szoba_fk": "1",
                                    "foglalások száma": "7"
                                },
                                {
                                    "szoba_fk": "2",
                                    "foglalások száma": "2"
                                },
                                {
                                    "szoba_fk": "3",
                                    "foglalások száma": "3"
                                },
                                {
                                    "szoba_fk": "4",
                                    "foglalások száma": "5"
                                },
                                {
                                    "szoba_fk": "5",
                                    "foglalások száma": "2"
                                },
                                {
                                    "szoba_fk": "6",
                                    "foglalások száma": "5"
                                },
                                {
                                    "szoba_fk": "7",
                                    "foglalások száma": "6"
                                },
                                {
                                    "szoba_fk": "8",
                                    "foglalások száma": "5"
                                },
                                {
                                    "szoba_fk": "9",
                                    "foglalások száma": "4"
                                },
                                {
                                    "szoba_fk": "10",
                                    "foglalások száma": "4"
                                },
                                {
                                    "szoba_fk": "11",
                                    "foglalások száma": "4"
                                },
                                {
                                    "szoba_fk": "12",
                                    "foglalások száma": "7"
                                },
                                {
                                    "szoba_fk": "13",
                                    "foglalások száma": "4"
                                },
                                {
                                    "szoba_fk": "14",
                                    "foglalások száma": "3"
                                },
                                {
                                    "szoba_fk": "15",
                                    "foglalások száma": "4"
                                },
                                {
                                    "szoba_fk": "16",
                                    "foglalások száma": "1"
                                },
                                {
                                    "szoba_fk": "17",
                                    "foglalások száma": "2"
                                },
                                {
                                    "szoba_fk": "18",
                                    "foglalások száma": "3"
                                },
                                {
                                    "szoba_fk": "19",
                                    "foglalások száma": "4"
                                },
                                {
                                    "szoba_fk": "20",
                                    "foglalások száma": "5"
                                },
                                {
                                    "szoba_fk": "21",
                                    "foglalások száma": "1"
                                },
                                {
                                    "szoba_fk": "22",
                                    "foglalások száma": "2"
                                },
                                {
                                    "szoba_fk": "23",
                                    "foglalások száma": "3"
                                },
                                {
                                    "szoba_fk": "24",
                                    "foglalások száma": "3"
                                },
                                {
                                    "szoba_fk": "25",
                                    "foglalások száma": "1"
                                },
                                {
                                    "szoba_fk": "27",
                                    "foglalások száma": "5"
                                },
                                {
                                    "szoba_fk": "28",
                                    "foglalások száma": "5"
                                },
                                {
                                    "szoba_fk": "29",
                                    "foglalások száma": "3"
                                },
                                {
                                    "szoba_fk": "30",
                                    "foglalások száma": "2"
                                },
                                {
                                    "szoba_fk": "31",
                                    "foglalások száma": "1"
                                },
                                {
                                    "szoba_fk": "32",
                                    "foglalások száma": "1"
                                },
                                {
                                    "szoba_fk": "33",
                                    "foglalások száma": "3"
                                },
                                {
                                    "szoba_fk": "34",
                                    "foglalások száma": "3"
                                },
                                {
                                    "szoba_fk": "35",
                                    "foglalások száma": "6"
                                },
                                {
                                    "szoba_fk": "36",
                                    "foglalások száma": "4"
                                },
                                {
                                    "szoba_fk": "37",
                                    "foglalások száma": "2"
                                },
                                {
                                    "szoba_fk": "38",
                                    "foglalások száma": "5"
                                },
                                {
                                    "szoba_fk": "39",
                                    "foglalások száma": "4"
                                },
                                {
                                    "szoba_fk": "40",
                                    "foglalások száma": "3"
                                },
                                {
                                    "szoba_fk": "41",
                                    "foglalások száma": "1"
                                },
                                {
                                    "szoba_fk": "42",
                                    "foglalások száma": "5"
                                },
                                {
                                    "szoba_fk": "43",
                                    "foglalások száma": "4"
                                },
                                {
                                    "szoba_fk": "44",
                                    "foglalások száma": "6"
                                },
                                {
                                    "szoba_fk": "45",
                                    "foglalások száma": "4"
                                },
                                {
                                    "szoba_fk": "46",
                                    "foglalások száma": "3"
                                },
                                {
                                    "szoba_fk": "47",
                                    "foglalások száma": "2"
                                },
                                {
                                    "szoba_fk": "48",
                                    "foglalások száma": "6"
                                },
                                {
                                    "szoba_fk": "49",
                                    "foglalások száma": "5"
                                },
                                {
                                    "szoba_fk": "50",
                                    "foglalások száma": "3"
                                },
                                {
                                    "szoba_fk": "51",
                                    "foglalások száma": "3"
                                },
                                {
                                    "szoba_fk": "52",
                                    "foglalások száma": "5"
                                },
                                {
                                    "szoba_fk": "54",
                                    "foglalások száma": "4"
                                },
                                {
                                    "szoba_fk": "55",
                                    "foglalások száma": "3"
                                },
                                {
                                    "szoba_fk": "56",
                                    "foglalások száma": "1"
                                },
                                {
                                    "szoba_fk": "57",
                                    "foglalások száma": "3"
                                },
                                {
                                    "szoba_fk": "58",
                                    "foglalások száma": "8"
                                },
                                {
                                    "szoba_fk": "59",
                                    "foglalások száma": "4"
                                },
                                {
                                    "szoba_fk": "60",
                                    "foglalások száma": "1"
                                },
                                {
                                    "szoba_fk": "61",
                                    "foglalások száma": "4"
                                },
                                {
                                    "szoba_fk": "62",
                                    "foglalások száma": "3"
                                },
                                {
                                    "szoba_fk": "63",
                                    "foglalások száma": "3"
                                },
                                {
                                    "szoba_fk": "64",
                                    "foglalások száma": "5"
                                },
                                {
                                    "szoba_fk": "66",
                                    "foglalások száma": "3"
                                },
                                {
                                    "szoba_fk": "67",
                                    "foglalások száma": "2"
                                },
                                {
                                    "szoba_fk": "69",
                                    "foglalások száma": "2"
                                },
                                {
                                    "szoba_fk": "70",
                                    "foglalások száma": "8"
                                },
                                {
                                    "szoba_fk": "71",
                                    "foglalások száma": "2"
                                },
                                {
                                    "szoba_fk": "72",
                                    "foglalások száma": "2"
                                },
                                {
                                    "szoba_fk": "73",
                                    "foglalások száma": "4"
                                },
                                {
                                    "szoba_fk": "74",
                                    "foglalások száma": "8"
                                },
                                {
                                    "szoba_fk": "75",
                                    "foglalások száma": "2"
                                },
                                {
                                    "szoba_fk": "76",
                                    "foglalások száma": "2"
                                },
                                {
                                    "szoba_fk": "77",
                                    "foglalások száma": "3"
                                },
                                {
                                    "szoba_fk": "78",
                                    "foglalások száma": "3"
                                },
                                {
                                    "szoba_fk": "79",
                                    "foglalások száma": "4"
                                },
                                {
                                    "szoba_fk": "80",
                                    "foglalások száma": "5"
                                },
                                {
                                    "szoba_fk": "81",
                                    "foglalások száma": "3"
                                },
                                {
                                    "szoba_fk": "82",
                                    "foglalások száma": "5"
                                },
                                {
                                    "szoba_fk": "83",
                                    "foglalások száma": "5"
                                },
                                {
                                    "szoba_fk": "84",
                                    "foglalások száma": "3"
                                },
                                {
                                    "szoba_fk": "85",
                                    "foglalások száma": "2"
                                },
                                {
                                    "szoba_fk": "86",
                                    "foglalások száma": "4"
                                },
                                {
                                    "szoba_fk": "87",
                                    "foglalások száma": "5"
                                },
                                {
                                    "szoba_fk": "88",
                                    "foglalások száma": "5"
                                },
                                {
                                    "szoba_fk": "89",
                                    "foglalások száma": "8"
                                },
                                {
                                    "szoba_fk": "90",
                                    "foglalások száma": "3"
                                },
                                {
                                    "szoba_fk": "91",
                                    "foglalások száma": "2"
                                },
                                {
                                    "szoba_fk": "92",
                                    "foglalások száma": "5"
                                },
                                {
                                    "szoba_fk": "93",
                                    "foglalások száma": "3"
                                },
                                {
                                    "szoba_fk": "94",
                                    "foglalások száma": "6"
                                },
                                {
                                    "szoba_fk": "95",
                                    "foglalások száma": "3"
                                },
                                {
                                    "szoba_fk": "96",
                                    "foglalások száma": "6"
                                },
                                {
                                    "szoba_fk": "97",
                                    "foglalások száma": "5"
                                },
                                {
                                    "szoba_fk": "98",
                                    "foglalások száma": "4"
                                },
                                {
                                    "szoba_fk": "99",
                                    "foglalások száma": "4"
                                },
                                {
                                    "szoba_fk": "100",
                                    "foglalások száma": "2"
                                },
                                {
                                    "szoba_fk": "101",
                                    "foglalások száma": "1"
                                },
                                {
                                    "szoba_fk": "102",
                                    "foglalások száma": "1"
                                },
                                {
                                    "szoba_fk": "103",
                                    "foglalások száma": "1"
                                },
                                {
                                    "szoba_fk": "104",
                                    "foglalások száma": "3"
                                },
                                {
                                    "szoba_fk": "106",
                                    "foglalások száma": "4"
                                },
                                {
                                    "szoba_fk": "107",
                                    "foglalások száma": "4"
                                },
                                {
                                    "szoba_fk": "108",
                                    "foglalások száma": "1"
                                },
                                {
                                    "szoba_fk": "109",
                                    "foglalások száma": "2"
                                },
                                {
                                    "szoba_fk": "110",
                                    "foglalások száma": "5"
                                },
                                {
                                    "szoba_fk": "111",
                                    "foglalások száma": "1"
                                },
                                {
                                    "szoba_fk": "112",
                                    "foglalások száma": "4"
                                },
                                {
                                    "szoba_fk": "113",
                                    "foglalások száma": "2"
                                },
                                {
                                    "szoba_fk": "114",
                                    "foglalások száma": "1"
                                },
                                {
                                    "szoba_fk": "115",
                                    "foglalások száma": "5"
                                },
                                {
                                    "szoba_fk": "117",
                                    "foglalások száma": "4"
                                },
                                {
                                    "szoba_fk": "118",
                                    "foglalások száma": "2"
                                },
                                {
                                    "szoba_fk": "119",
                                    "foglalások száma": "4"
                                },
                                {
                                    "szoba_fk": "120",
                                    "foglalások száma": "2"
                                },
                                {
                                    "szoba_fk": "121",
                                    "foglalások száma": "5"
                                },
                                {
                                    "szoba_fk": "122",
                                    "foglalások száma": "3"
                                },
                                {
                                    "szoba_fk": "123",
                                    "foglalások száma": "5"
                                },
                                {
                                    "szoba_fk": "124",
                                    "foglalások száma": "4"
                                },
                                {
                                    "szoba_fk": "126",
                                    "foglalások száma": "4"
                                },
                                {
                                    "szoba_fk": "127",
                                    "foglalások száma": "5"
                                },
                                {
                                    "szoba_fk": "129",
                                    "foglalások száma": "3"
                                },
                                {
                                    "szoba_fk": "130",
                                    "foglalások száma": "5"
                                },
                                {
                                    "szoba_fk": "131",
                                    "foglalások száma": "4"
                                },
                                {
                                    "szoba_fk": "132",
                                    "foglalások száma": "4"
                                },
                                {
                                    "szoba_fk": "133",
                                    "foglalások száma": "4"
                                },
                                {
                                    "szoba_fk": "134",
                                    "foglalások száma": "4"
                                },
                                {
                                    "szoba_fk": "135",
                                    "foglalások száma": "3"
                                },
                                {
                                    "szoba_fk": "136",
                                    "foglalások száma": "2"
                                },
                                {
                                    "szoba_fk": "137",
                                    "foglalások száma": "2"
                                },
                                {
                                    "szoba_fk": "138",
                                    "foglalások száma": "5"
                                },
                                {
                                    "szoba_fk": "139",
                                    "foglalások száma": "6"
                                },
                                {
                                    "szoba_fk": "140",
                                    "foglalások száma": "5"
                                },
                                {
                                    "szoba_fk": "141",
                                    "foglalások száma": "4"
                                },
                                {
                                    "szoba_fk": "142",
                                    "foglalások száma": "1"
                                },
                                {
                                    "szoba_fk": "143",
                                    "foglalások száma": "5"
                                },
                                {
                                    "szoba_fk": "144",
                                    "foglalások száma": "2"
                                },
                                {
                                    "szoba_fk": "145",
                                    "foglalások száma": "2"
                                },
                                {
                                    "szoba_fk": "146",
                                    "foglalások száma": "3"
                                },
                                {
                                    "szoba_fk": "147",
                                    "foglalások száma": "1"
                                },
                                {
                                    "szoba_fk": "148",
                                    "foglalások száma": "5"
                                },
                                {
                                    "szoba_fk": "149",
                                    "foglalások száma": "5"
                                },
                                {
                                    "szoba_fk": "150",
                                    "foglalások száma": "6"
                                },
                                {
                                    "szoba_fk": "151",
                                    "foglalások száma": "2"
                                },
                                {
                                    "szoba_fk": "152",
                                    "foglalások száma": "3"
                                },
                                {
                                    "szoba_fk": "153",
                                    "foglalások száma": "4"
                                },
                                {
                                    "szoba_fk": "154",
                                    "foglalások száma": "3"
                                },
                                {
                                    "szoba_fk": "155",
                                    "foglalások száma": "3"
                                },
                                {
                                    "szoba_fk": "156",
                                    "foglalások száma": "2"
                                },
                                {
                                    "szoba_fk": "157",
                                    "foglalások száma": "2"
                                },
                                {
                                    "szoba_fk": "158",
                                    "foglalások száma": "3"
                                },
                                {
                                    "szoba_fk": "160",
                                    "foglalások száma": "2"
                                },
                                {
                                    "szoba_fk": "161",
                                    "foglalások száma": "3"
                                },
                                {
                                    "szoba_fk": "162",
                                    "foglalások száma": "2"
                                },
                                {
                                    "szoba_fk": "163",
                                    "foglalások száma": "5"
                                },
                                {
                                    "szoba_fk": "164",
                                    "foglalások száma": "4"
                                },
                                {
                                    "szoba_fk": "165",
                                    "foglalások száma": "5"
                                },
                                {
                                    "szoba_fk": "166",
                                    "foglalások száma": "3"
                                },
                                {
                                    "szoba_fk": "167",
                                    "foglalások száma": "2"
                                },
                                {
                                    "szoba_fk": "168",
                                    "foglalások száma": "1"
                                },
                                {
                                    "szoba_fk": "169",
                                    "foglalások száma": "3"
                                },
                                {
                                    "szoba_fk": "170",
                                    "foglalások száma": "3"
                                },
                                {
                                    "szoba_fk": "171",
                                    "foglalások száma": "5"
                                },
                                {
                                    "szoba_fk": "172",
                                    "foglalások száma": "6"
                                },
                                {
                                    "szoba_fk": "173",
                                    "foglalások száma": "3"
                                },
                                {
                                    "szoba_fk": "174",
                                    "foglalások száma": "4"
                                },
                                {
                                    "szoba_fk": "175",
                                    "foglalások száma": "3"
                                },
                                {
                                    "szoba_fk": "176",
                                    "foglalások száma": "2"
                                },
                                {
                                    "szoba_fk": "177",
                                    "foglalások száma": "1"
                                },
                                {
                                    "szoba_fk": "178",
                                    "foglalások száma": "1"
                                },
                                {
                                    "szoba_fk": "179",
                                    "foglalások száma": "2"
                                },
                                {
                                    "szoba_fk": "180",
                                    "foglalások száma": "1"
                                },
                                {
                                    "szoba_fk": "181",
                                    "foglalások száma": "5"
                                },
                                {
                                    "szoba_fk": "182",
                                    "foglalások száma": "11"
                                },
                                {
                                    "szoba_fk": "183",
                                    "foglalások száma": "3"
                                },
                                {
                                    "szoba_fk": "184",
                                    "foglalások száma": "4"
                                },
                                {
                                    "szoba_fk": "185",
                                    "foglalások száma": "10"
                                },
                                {
                                    "szoba_fk": "186",
                                    "foglalások száma": "1"
                                },
                                {
                                    "szoba_fk": "187",
                                    "foglalások száma": "6"
                                },
                                {
                                    "szoba_fk": "188",
                                    "foglalások száma": "2"
                                },
                                {
                                    "szoba_fk": "189",
                                    "foglalások száma": "1"
                                },
                                {
                                    "szoba_fk": "190",
                                    "foglalások száma": "5"
                                },
                                {
                                    "szoba_fk": "191",
                                    "foglalások száma": "3"
                                },
                                {
                                    "szoba_fk": "192",
                                    "foglalások száma": "1"
                                },
                                {
                                    "szoba_fk": "193",
                                    "foglalások száma": "2"
                                },
                                {
                                    "szoba_fk": "194",
                                    "foglalások száma": "1"
                                },
                                {
                                    "szoba_fk": "195",
                                    "foglalások száma": "5"
                                },
                                {
                                    "szoba_fk": "196",
                                    "foglalások száma": "2"
                                },
                                {
                                    "szoba_fk": "197",
                                    "foglalások száma": "6"
                                },
                                {
                                    "szoba_fk": "198",
                                    "foglalások száma": "7"
                                }
                            ]
                        },
                        "text/html": "<table><tr><th>szoba_fk</th><th>foglalások száma</th></tr><tr><td>1</td><td>7</td></tr><tr><td>2</td><td>2</td></tr><tr><td>3</td><td>3</td></tr><tr><td>4</td><td>5</td></tr><tr><td>5</td><td>2</td></tr><tr><td>6</td><td>5</td></tr><tr><td>7</td><td>6</td></tr><tr><td>8</td><td>5</td></tr><tr><td>9</td><td>4</td></tr><tr><td>10</td><td>4</td></tr><tr><td>11</td><td>4</td></tr><tr><td>12</td><td>7</td></tr><tr><td>13</td><td>4</td></tr><tr><td>14</td><td>3</td></tr><tr><td>15</td><td>4</td></tr><tr><td>16</td><td>1</td></tr><tr><td>17</td><td>2</td></tr><tr><td>18</td><td>3</td></tr><tr><td>19</td><td>4</td></tr><tr><td>20</td><td>5</td></tr><tr><td>21</td><td>1</td></tr><tr><td>22</td><td>2</td></tr><tr><td>23</td><td>3</td></tr><tr><td>24</td><td>3</td></tr><tr><td>25</td><td>1</td></tr><tr><td>27</td><td>5</td></tr><tr><td>28</td><td>5</td></tr><tr><td>29</td><td>3</td></tr><tr><td>30</td><td>2</td></tr><tr><td>31</td><td>1</td></tr><tr><td>32</td><td>1</td></tr><tr><td>33</td><td>3</td></tr><tr><td>34</td><td>3</td></tr><tr><td>35</td><td>6</td></tr><tr><td>36</td><td>4</td></tr><tr><td>37</td><td>2</td></tr><tr><td>38</td><td>5</td></tr><tr><td>39</td><td>4</td></tr><tr><td>40</td><td>3</td></tr><tr><td>41</td><td>1</td></tr><tr><td>42</td><td>5</td></tr><tr><td>43</td><td>4</td></tr><tr><td>44</td><td>6</td></tr><tr><td>45</td><td>4</td></tr><tr><td>46</td><td>3</td></tr><tr><td>47</td><td>2</td></tr><tr><td>48</td><td>6</td></tr><tr><td>49</td><td>5</td></tr><tr><td>50</td><td>3</td></tr><tr><td>51</td><td>3</td></tr><tr><td>52</td><td>5</td></tr><tr><td>54</td><td>4</td></tr><tr><td>55</td><td>3</td></tr><tr><td>56</td><td>1</td></tr><tr><td>57</td><td>3</td></tr><tr><td>58</td><td>8</td></tr><tr><td>59</td><td>4</td></tr><tr><td>60</td><td>1</td></tr><tr><td>61</td><td>4</td></tr><tr><td>62</td><td>3</td></tr><tr><td>63</td><td>3</td></tr><tr><td>64</td><td>5</td></tr><tr><td>66</td><td>3</td></tr><tr><td>67</td><td>2</td></tr><tr><td>69</td><td>2</td></tr><tr><td>70</td><td>8</td></tr><tr><td>71</td><td>2</td></tr><tr><td>72</td><td>2</td></tr><tr><td>73</td><td>4</td></tr><tr><td>74</td><td>8</td></tr><tr><td>75</td><td>2</td></tr><tr><td>76</td><td>2</td></tr><tr><td>77</td><td>3</td></tr><tr><td>78</td><td>3</td></tr><tr><td>79</td><td>4</td></tr><tr><td>80</td><td>5</td></tr><tr><td>81</td><td>3</td></tr><tr><td>82</td><td>5</td></tr><tr><td>83</td><td>5</td></tr><tr><td>84</td><td>3</td></tr><tr><td>85</td><td>2</td></tr><tr><td>86</td><td>4</td></tr><tr><td>87</td><td>5</td></tr><tr><td>88</td><td>5</td></tr><tr><td>89</td><td>8</td></tr><tr><td>90</td><td>3</td></tr><tr><td>91</td><td>2</td></tr><tr><td>92</td><td>5</td></tr><tr><td>93</td><td>3</td></tr><tr><td>94</td><td>6</td></tr><tr><td>95</td><td>3</td></tr><tr><td>96</td><td>6</td></tr><tr><td>97</td><td>5</td></tr><tr><td>98</td><td>4</td></tr><tr><td>99</td><td>4</td></tr><tr><td>100</td><td>2</td></tr><tr><td>101</td><td>1</td></tr><tr><td>102</td><td>1</td></tr><tr><td>103</td><td>1</td></tr><tr><td>104</td><td>3</td></tr><tr><td>106</td><td>4</td></tr><tr><td>107</td><td>4</td></tr><tr><td>108</td><td>1</td></tr><tr><td>109</td><td>2</td></tr><tr><td>110</td><td>5</td></tr><tr><td>111</td><td>1</td></tr><tr><td>112</td><td>4</td></tr><tr><td>113</td><td>2</td></tr><tr><td>114</td><td>1</td></tr><tr><td>115</td><td>5</td></tr><tr><td>117</td><td>4</td></tr><tr><td>118</td><td>2</td></tr><tr><td>119</td><td>4</td></tr><tr><td>120</td><td>2</td></tr><tr><td>121</td><td>5</td></tr><tr><td>122</td><td>3</td></tr><tr><td>123</td><td>5</td></tr><tr><td>124</td><td>4</td></tr><tr><td>126</td><td>4</td></tr><tr><td>127</td><td>5</td></tr><tr><td>129</td><td>3</td></tr><tr><td>130</td><td>5</td></tr><tr><td>131</td><td>4</td></tr><tr><td>132</td><td>4</td></tr><tr><td>133</td><td>4</td></tr><tr><td>134</td><td>4</td></tr><tr><td>135</td><td>3</td></tr><tr><td>136</td><td>2</td></tr><tr><td>137</td><td>2</td></tr><tr><td>138</td><td>5</td></tr><tr><td>139</td><td>6</td></tr><tr><td>140</td><td>5</td></tr><tr><td>141</td><td>4</td></tr><tr><td>142</td><td>1</td></tr><tr><td>143</td><td>5</td></tr><tr><td>144</td><td>2</td></tr><tr><td>145</td><td>2</td></tr><tr><td>146</td><td>3</td></tr><tr><td>147</td><td>1</td></tr><tr><td>148</td><td>5</td></tr><tr><td>149</td><td>5</td></tr><tr><td>150</td><td>6</td></tr><tr><td>151</td><td>2</td></tr><tr><td>152</td><td>3</td></tr><tr><td>153</td><td>4</td></tr><tr><td>154</td><td>3</td></tr><tr><td>155</td><td>3</td></tr><tr><td>156</td><td>2</td></tr><tr><td>157</td><td>2</td></tr><tr><td>158</td><td>3</td></tr><tr><td>160</td><td>2</td></tr><tr><td>161</td><td>3</td></tr><tr><td>162</td><td>2</td></tr><tr><td>163</td><td>5</td></tr><tr><td>164</td><td>4</td></tr><tr><td>165</td><td>5</td></tr><tr><td>166</td><td>3</td></tr><tr><td>167</td><td>2</td></tr><tr><td>168</td><td>1</td></tr><tr><td>169</td><td>3</td></tr><tr><td>170</td><td>3</td></tr><tr><td>171</td><td>5</td></tr><tr><td>172</td><td>6</td></tr><tr><td>173</td><td>3</td></tr><tr><td>174</td><td>4</td></tr><tr><td>175</td><td>3</td></tr><tr><td>176</td><td>2</td></tr><tr><td>177</td><td>1</td></tr><tr><td>178</td><td>1</td></tr><tr><td>179</td><td>2</td></tr><tr><td>180</td><td>1</td></tr><tr><td>181</td><td>5</td></tr><tr><td>182</td><td>11</td></tr><tr><td>183</td><td>3</td></tr><tr><td>184</td><td>4</td></tr><tr><td>185</td><td>10</td></tr><tr><td>186</td><td>1</td></tr><tr><td>187</td><td>6</td></tr><tr><td>188</td><td>2</td></tr><tr><td>189</td><td>1</td></tr><tr><td>190</td><td>5</td></tr><tr><td>191</td><td>3</td></tr><tr><td>192</td><td>1</td></tr><tr><td>193</td><td>2</td></tr><tr><td>194</td><td>1</td></tr><tr><td>195</td><td>5</td></tr><tr><td>196</td><td>2</td></tr><tr><td>197</td><td>6</td></tr><tr><td>198</td><td>7</td></tr></table>"
                    },
                    "metadata": {}
                }
            ],
            "execution_count": 14
        },
        {
            "cell_type": "markdown",
            "source": [
                "3\\. Feladat"
            ],
            "metadata": {
                "azdata_cell_guid": "ae8e76ff-ac62-482a-9707-cd4c226c579d"
            },
            "attachments": {}
        },
        {
            "cell_type": "code",
            "source": [
                "SELECT TOP 1\r\n",
                "  szh.szallas_nev,\r\n",
                "  SUM(f.FELNOTT_SZAM + f.GYERMEK_SZAM) AS 'Osszfoglalas',\r\n",
                "  count(FOGLALAS_PK)\r\n",
                "FROM szallashely szh \r\n",
                "    LEFT JOIN szoba sz ON szh.SZALLAS_ID = sz.SZALLAS_FK\r\n",
                "    LEFT JOIN Foglalas f ON sz.SZOBA_ID = f. SZOBA_FK\r\n",
                "GROUP BY szh.szallas_id, szh.szallas_nev\r\n",
                "ORDER BY osszfoglalas ASC\r\n",
                ""
            ],
            "metadata": {
                "azdata_cell_guid": "40727338-d72e-4b72-b12b-6f49421a85de",
                "language": "sql"
            },
            "outputs": [
                {
                    "output_type": "display_data",
                    "data": {
                        "text/html": "Warning: Null value is eliminated by an aggregate or other SET operation."
                    },
                    "metadata": {}
                },
                {
                    "output_type": "display_data",
                    "data": {
                        "text/html": "(1 row affected)"
                    },
                    "metadata": {}
                },
                {
                    "output_type": "display_data",
                    "data": {
                        "text/html": "Total execution time: 00:00:00.008"
                    },
                    "metadata": {}
                },
                {
                    "output_type": "execute_result",
                    "execution_count": 21,
                    "data": {
                        "application/vnd.dataresource+json": {
                            "schema": {
                                "fields": [
                                    {
                                        "name": "szallas_nev"
                                    },
                                    {
                                        "name": "Osszfoglalas"
                                    },
                                    {
                                        "name": "(No column name)"
                                    }
                                ]
                            },
                            "data": [
                                {
                                    "szallas_nev": "Tímárház Panzió",
                                    "Osszfoglalas": "NULL",
                                    "(No column name)": "0"
                                }
                            ]
                        },
                        "text/html": "<table><tr><th>szallas_nev</th><th>Osszfoglalas</th><th>(No column name)</th></tr><tr><td>Tímárház Panzió</td><td>NULL</td><td>0</td></tr></table>"
                    },
                    "metadata": {}
                }
            ],
            "execution_count": 21
        }
    ]
}