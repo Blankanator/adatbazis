{
    "metadata": {
        "kernelspec": {
            "name": "SQL",
            "display_name": "SQL",
            "language": "sql"
        },
        "language_info": {
            "name": "sql",
            "version": ""
        }
    },
    "nbformat_minor": 2,
    "nbformat": 4,
    "cells": [
        {
            "cell_type": "code",
            "source": [
                "SELECT\r\n",
                "    VENDEG.NEV,\r\n",
                "    VENDEG.EMAIL,\r\n",
                "    VENDEG.USERNEV\r\n",
                "FROM FOGLALAS\r\n",
                "JOIN VENDEG ON FOGLALAS.UGYFEL_FK = VENDEG.USERNEV\r\n",
                "GROUP BY VENDEG.NEV, VENDEG.EMAIL, VENDEG.USERNEV, VENDEG.SZUL_DAT\r\n",
                "HAVING COUNT(FOGLALAS.UGYFEL_FK) > 1 \r\n",
                "AND MONTH(VENDEG.SZUL_DAT) <> 5;\r\n",
                ""
            ],
            "metadata": {
                "azdata_cell_guid": "1698df21-13d3-4177-a26e-7fa17955f434",
                "language": "sql"
            },
            "outputs": [
                {
                    "output_type": "display_data",
                    "data": {
                        "text/html": "(169 rows affected)"
                    },
                    "metadata": {}
                },
                {
                    "output_type": "display_data",
                    "data": {
                        "text/html": "Total execution time: 00:00:00.073"
                    },
                    "metadata": {}
                },
                {
                    "output_type": "execute_result",
                    "metadata": {},
                    "execution_count": 6,
                    "data": {
                        "application/vnd.dataresource+json": {
                            "schema": {
                                "fields": [
                                    {
                                        "name": "NEV"
                                    },
                                    {
                                        "name": "EMAIL"
                                    },
                                    {
                                        "name": "USERNEV"
                                    }
                                ]
                            },
                            "data": [
                                {
                                    "NEV": "Kiss Ádám",
                                    "EMAIL": "ádám.kiss@mail.hu",
                                    "USERNEV": "adam1"
                                },
                                {
                                    "NEV": "Barkóci Ádám",
                                    "EMAIL": "adam3@gmail.com",
                                    "USERNEV": "adam3"
                                },
                                {
                                    "NEV": "Bieniek Ádám",
                                    "EMAIL": "ádám.bieniek@mail.hu",
                                    "USERNEV": "adam4"
                                },
                                {
                                    "NEV": "Lengyel Ágnes",
                                    "EMAIL": "agnes@gmail.com",
                                    "USERNEV": "agnes"
                                },
                                {
                                    "NEV": "Hartyánszky Ágnes",
                                    "EMAIL": "agnes3@gmail.com",
                                    "USERNEV": "agnes3"
                                },
                                {
                                    "NEV": "Horváth Ágnes",
                                    "EMAIL": "AGNESH@gmail.com",
                                    "USERNEV": "AGNESH"
                                },
                                {
                                    "NEV": "Kovács Ágnes",
                                    "EMAIL": "AGNESK@gmail.com",
                                    "USERNEV": "AGNESK"
                                },
                                {
                                    "NEV": "Bíró Ákos",
                                    "EMAIL": "ákos.bíró@mail.hu",
                                    "USERNEV": "akos"
                                },
                                {
                                    "NEV": "Dunai Aladár",
                                    "EMAIL": "aladár.dunai@mail.hu",
                                    "USERNEV": "aladar"
                                },
                                {
                                    "NEV": "Bagóczki Alexandra",
                                    "EMAIL": "alexandra.bagóczki@mail.hu",
                                    "USERNEV": "alexandra"
                                },
                                {
                                    "NEV": "Tóth András",
                                    "EMAIL": "andrás.tóth@mail.hu",
                                    "USERNEV": "andras2"
                                },
                                {
                                    "NEV": "Molnár András",
                                    "EMAIL": "andrás.molnár@mail.hu",
                                    "USERNEV": "andras21"
                                },
                                {
                                    "NEV": "Vígh András",
                                    "EMAIL": "andrás.vígh@mail.hu",
                                    "USERNEV": "andras3"
                                },
                                {
                                    "NEV": "Back András",
                                    "EMAIL": "andras4@gmail.com",
                                    "USERNEV": "andras4"
                                },
                                {
                                    "NEV": "Komjáti András",
                                    "EMAIL": "andras41@gmail.com",
                                    "USERNEV": "andras41"
                                },
                                {
                                    "NEV": "Kiss Andrea",
                                    "EMAIL": "andrea.kiss@mail.hu",
                                    "USERNEV": "andrea"
                                },
                                {
                                    "NEV": "Tornyos Andrea",
                                    "EMAIL": "ANDREAT@gmail.com",
                                    "USERNEV": "ANDREAT"
                                },
                                {
                                    "NEV": "Pivarcsi Anett",
                                    "EMAIL": "anett.pivarcsi@mail.hu",
                                    "USERNEV": "anett3"
                                },
                                {
                                    "NEV": "Tóth Anikó",
                                    "EMAIL": "aniko@gmail.com",
                                    "USERNEV": "aniko"
                                },
                                {
                                    "NEV": "Böröcz Anikó",
                                    "EMAIL": "aniko4@gmail.com",
                                    "USERNEV": "aniko4"
                                },
                                {
                                    "NEV": "Simon Anikó",
                                    "EMAIL": "ANIKOS@gmail.com",
                                    "USERNEV": "ANIKOS"
                                },
                                {
                                    "NEV": "Hamvay-Kovács Anita",
                                    "EMAIL": "anita.hamvay-kovács@mail.hu",
                                    "USERNEV": "anita"
                                },
                                {
                                    "NEV": "Szűcs Annamária",
                                    "EMAIL": "annamária.szűcs@mail.hu",
                                    "USERNEV": "annamaria1"
                                },
                                {
                                    "NEV": "Regős Annamária",
                                    "EMAIL": "ANNAMARIAR@gmail.com",
                                    "USERNEV": "ANNAMARIAR"
                                },
                                {
                                    "NEV": "Jakab Áron",
                                    "EMAIL": "aron2@gmail.com",
                                    "USERNEV": "aron2"
                                },
                                {
                                    "NEV": "Kelemen Áron",
                                    "EMAIL": "áron.kelemen@mail.hu",
                                    "USERNEV": "ARONK"
                                },
                                {
                                    "NEV": "Ötvös Árpád",
                                    "EMAIL": "árpád.ötvös@mail.hu",
                                    "USERNEV": "arpad2"
                                },
                                {
                                    "NEV": "Móricz Árpád",
                                    "EMAIL": "árpád.móricz@mail.hu",
                                    "USERNEV": "ARPADM"
                                },
                                {
                                    "NEV": "Csóti Attila",
                                    "EMAIL": "attila@gmail.com",
                                    "USERNEV": "attila"
                                },
                                {
                                    "NEV": "Gulyás Attila",
                                    "EMAIL": "attila.gulyás@mail.hu",
                                    "USERNEV": "attila1"
                                },
                                {
                                    "NEV": "Baróti Attila",
                                    "EMAIL": "attila.baróti@mail.hu",
                                    "USERNEV": "attila4"
                                },
                                {
                                    "NEV": "Bozsik Balázs",
                                    "EMAIL": "balázs.bozsik@mail.hu",
                                    "USERNEV": "balazs1"
                                },
                                {
                                    "NEV": "Szűcs Balázs",
                                    "EMAIL": "balázs.szűcs@mail.hu",
                                    "USERNEV": "balazs2"
                                },
                                {
                                    "NEV": "Bakódy Balázs",
                                    "EMAIL": "balazs3@gmail.com",
                                    "USERNEV": "balazs3"
                                },
                                {
                                    "NEV": "Horváth Bálint",
                                    "EMAIL": "balint@gmail.com",
                                    "USERNEV": "balint"
                                },
                                {
                                    "NEV": "Molnár Bálint",
                                    "EMAIL": "balint1@gmail.com",
                                    "USERNEV": "balint1"
                                },
                                {
                                    "NEV": "Vukasinovity Bálint",
                                    "EMAIL": "balint2@gmail.com",
                                    "USERNEV": "balint2"
                                },
                                {
                                    "NEV": "Endresz Bálint",
                                    "EMAIL": "bálint.endresz@mail.hu",
                                    "USERNEV": "balu"
                                },
                                {
                                    "NEV": "Bagi Beáta",
                                    "EMAIL": "beáta.bagi@mail.hu",
                                    "USERNEV": "beata4"
                                },
                                {
                                    "NEV": "Kerényi Beatrix",
                                    "EMAIL": "beatrix.kerényi@mail.hu",
                                    "USERNEV": "BEATRIXK"
                                },
                                {
                                    "NEV": "Szekendi Beatrix",
                                    "EMAIL": "beatrix.szekendi@mail.hu",
                                    "USERNEV": "BEATRIXS"
                                },
                                {
                                    "NEV": "Farkas Béla",
                                    "EMAIL": "BELAF@gmail.com",
                                    "USERNEV": "BELAF"
                                },
                                {
                                    "NEV": "Győrffy Bence",
                                    "EMAIL": "bence@gmail.com",
                                    "USERNEV": "bence"
                                },
                                {
                                    "NEV": "Bajusz Bence",
                                    "EMAIL": "bence.bajusz@mail.hu",
                                    "USERNEV": "BENCEB"
                                },
                                {
                                    "NEV": "Simon Bernadett",
                                    "EMAIL": "bernadett1@gmail.com",
                                    "USERNEV": "bernadett1"
                                },
                                {
                                    "NEV": "Kovács Bernadett",
                                    "EMAIL": "bernadett.kovács@mail.hu",
                                    "USERNEV": "bernadett2"
                                },
                                {
                                    "NEV": "Orbán Bernadett",
                                    "EMAIL": "bernadett.orbán@mail.hu",
                                    "USERNEV": "BERNADETTO"
                                },
                                {
                                    "NEV": "Csiger Bertalan",
                                    "EMAIL": "bertalan@gmail.com",
                                    "USERNEV": "bertalan"
                                },
                                {
                                    "NEV": "Székely Brigitta",
                                    "EMAIL": "brigitta.székely@mail.hu",
                                    "USERNEV": "brigitta"
                                },
                                {
                                    "NEV": "Nagymihály Csongor",
                                    "EMAIL": "csongor.nagymihály@mail.hu",
                                    "USERNEV": "csongor3"
                                },
                                {
                                    "NEV": "Vörös Dániel",
                                    "EMAIL": "daniel@gmail.com",
                                    "USERNEV": "dani"
                                },
                                {
                                    "NEV": "Rácz Dániel",
                                    "EMAIL": "dániel.rácz@mail.hu",
                                    "USERNEV": "daniel"
                                },
                                {
                                    "NEV": "Keszler Dániel",
                                    "EMAIL": "dániel.keszler@mail.hu",
                                    "USERNEV": "daniel1"
                                },
                                {
                                    "NEV": "Ambrus Dávid",
                                    "EMAIL": "david@gmail.com",
                                    "USERNEV": "david"
                                },
                                {
                                    "NEV": "Sobják Dávid",
                                    "EMAIL": "david1@gmail.com",
                                    "USERNEV": "david1"
                                },
                                {
                                    "NEV": "Barna Debóra",
                                    "EMAIL": "debóra.barna@mail.hu",
                                    "USERNEV": "debora"
                                },
                                {
                                    "NEV": "Tömböly Dénes",
                                    "EMAIL": "denes@gmail.com",
                                    "USERNEV": "denes"
                                },
                                {
                                    "NEV": "Bittmann Edit",
                                    "EMAIL": "edit.bittmann@mail.hu",
                                    "USERNEV": "edit"
                                },
                                {
                                    "NEV": "Kuruc Emese",
                                    "EMAIL": "emese.kuruc@mail.hu",
                                    "USERNEV": "emese"
                                },
                                {
                                    "NEV": "Balogh Eszter",
                                    "EMAIL": "eszter.balogh@mail.hu",
                                    "USERNEV": "eszter2"
                                },
                                {
                                    "NEV": "Fülöp Eszter",
                                    "EMAIL": "eszter.fülöp@mail.hu",
                                    "USERNEV": "eszter4"
                                },
                                {
                                    "NEV": "Érsek Eszter",
                                    "EMAIL": "eszter.érsek@mail.hu",
                                    "USERNEV": "ESZTERE"
                                },
                                {
                                    "NEV": "Enyedi Éva",
                                    "EMAIL": "eva@gmail.com",
                                    "USERNEV": "eva"
                                },
                                {
                                    "NEV": "Perlinger Éva",
                                    "EMAIL": "eva2@gmail.com",
                                    "USERNEV": "eva2"
                                },
                                {
                                    "NEV": "Viktor Éva",
                                    "EMAIL": "EVAV@gmail.com",
                                    "USERNEV": "EVAV"
                                },
                                {
                                    "NEV": "Orosz Ferenc",
                                    "EMAIL": "ferenc.orosz@mail.hu",
                                    "USERNEV": "ferenc1"
                                },
                                {
                                    "NEV": "Frank Fruzsina",
                                    "EMAIL": "fruzsina4@gmail.com",
                                    "USERNEV": "fruzsina4"
                                },
                                {
                                    "NEV": "Köves Gábor",
                                    "EMAIL": "gabor1@gmail.com",
                                    "USERNEV": "gabor1"
                                },
                                {
                                    "NEV": "Telek Gábor",
                                    "EMAIL": "gábor.telek@mail.hu",
                                    "USERNEV": "gabor4"
                                },
                                {
                                    "NEV": "Nagy Gabriella",
                                    "EMAIL": "gabriella1@gmail.com",
                                    "USERNEV": "gabriella1"
                                },
                                {
                                    "NEV": "Nyíri Georgij",
                                    "EMAIL": "georgij.nyíri@mail.hu",
                                    "USERNEV": "georgij"
                                },
                                {
                                    "NEV": "Bárci Gusztáv",
                                    "EMAIL": "gusztav@gmail.com",
                                    "USERNEV": "gusztav"
                                },
                                {
                                    "NEV": "Kornseé Gyöngyi",
                                    "EMAIL": "gyöngyi.kornseé@mail.hu",
                                    "USERNEV": "GYONGYIK"
                                },
                                {
                                    "NEV": "Oroszi György",
                                    "EMAIL": "GYORGYO@gmail.com",
                                    "USERNEV": "GYORGYO"
                                },
                                {
                                    "NEV": "Nádudvari Henrik",
                                    "EMAIL": "henrik.nádudvari@mail.hu",
                                    "USERNEV": "henrik3"
                                },
                                {
                                    "NEV": "Andor Ibolya",
                                    "EMAIL": "ibolya.andor@mail.hu",
                                    "USERNEV": "IBOLYAA"
                                },
                                {
                                    "NEV": "Bosnyák Ilona",
                                    "EMAIL": "ilona3@gmail.com",
                                    "USERNEV": "ilona3"
                                },
                                {
                                    "NEV": "Búza Imre",
                                    "EMAIL": "imre.búza@mail.hu",
                                    "USERNEV": "imre"
                                },
                                {
                                    "NEV": "Papp Imre",
                                    "EMAIL": "imre.papp@mail.hu",
                                    "USERNEV": "imre1"
                                },
                                {
                                    "NEV": "Soós István",
                                    "EMAIL": "istvan@gmail.com",
                                    "USERNEV": "istvan"
                                },
                                {
                                    "NEV": "Vizi István",
                                    "EMAIL": "istván.vizi@mail.hu",
                                    "USERNEV": "istvan1"
                                },
                                {
                                    "NEV": "Varga István",
                                    "EMAIL": "ISTVANV@gmail.com",
                                    "USERNEV": "ISTVANV"
                                },
                                {
                                    "NEV": "Harangozó János",
                                    "EMAIL": "janos3@gmail.com",
                                    "USERNEV": "janos3"
                                },
                                {
                                    "NEV": "Giliga János",
                                    "EMAIL": "JANOSG@gmail.com",
                                    "USERNEV": "JANOSG"
                                },
                                {
                                    "NEV": "Pálinkás János",
                                    "EMAIL": "JANOSP@gmail.com",
                                    "USERNEV": "JANOSP"
                                },
                                {
                                    "NEV": "Gergely József",
                                    "EMAIL": "jozsef@gmail.com",
                                    "USERNEV": "jozsef"
                                },
                                {
                                    "NEV": "Vajda József",
                                    "EMAIL": "józsef.vajda@mail.hu",
                                    "USERNEV": "jozsef2"
                                },
                                {
                                    "NEV": "Hídasi Judit",
                                    "EMAIL": "JUDITH@gmail.com",
                                    "USERNEV": "JUDITH"
                                },
                                {
                                    "NEV": "Tóth Júlia",
                                    "EMAIL": "julia@gmail.com",
                                    "USERNEV": "julia"
                                },
                                {
                                    "NEV": "Nagy Júlia",
                                    "EMAIL": "julia4@gmail.com",
                                    "USERNEV": "julia4"
                                },
                                {
                                    "NEV": "Szabó Julianna",
                                    "EMAIL": "julianna4@gmail.com",
                                    "USERNEV": "julianna4"
                                },
                                {
                                    "NEV": "Gondos Katalin",
                                    "EMAIL": "katalin.gondos@mail.hu",
                                    "USERNEV": "kata"
                                },
                                {
                                    "NEV": "Horváth Katalin",
                                    "EMAIL": "katalin.horváth@mail.hu",
                                    "USERNEV": "katalin"
                                },
                                {
                                    "NEV": "Kertész Katalin",
                                    "EMAIL": "katalin4@gmail.com",
                                    "USERNEV": "katalin4"
                                },
                                {
                                    "NEV": "Kovács Katalin",
                                    "EMAIL": "katalin.kovács@mail.hu",
                                    "USERNEV": "katka"
                                },
                                {
                                    "NEV": "Bakó Klaudia",
                                    "EMAIL": "klaudia.bakó@mail.hu",
                                    "USERNEV": "klaudia2"
                                },
                                {
                                    "NEV": "Lukács Kornél",
                                    "EMAIL": "kornél.lukács@mail.hu",
                                    "USERNEV": "kornel4"
                                },
                                {
                                    "NEV": "Poprádi Kristóf",
                                    "EMAIL": "kristof4@gmail.com",
                                    "USERNEV": "kristof4"
                                },
                                {
                                    "NEV": "Horváth Krisztina",
                                    "EMAIL": "kriszti@gmail.com",
                                    "USERNEV": "kriszti"
                                },
                                {
                                    "NEV": "Czérna Krisztián",
                                    "EMAIL": "krisztián.czérna@mail.hu",
                                    "USERNEV": "krisztian4"
                                },
                                {
                                    "NEV": "Bori Krisztina",
                                    "EMAIL": "krisztina.bori@mail.hu",
                                    "USERNEV": "krisztina1"
                                },
                                {
                                    "NEV": "Gyárfás Krisztina",
                                    "EMAIL": "KRISZTINAG@gmail.com",
                                    "USERNEV": "KRISZTINAG"
                                },
                                {
                                    "NEV": "Kiss Lajos",
                                    "EMAIL": "lajos.kiss@mail.hu",
                                    "USERNEV": "lajos"
                                },
                                {
                                    "NEV": "Nagymihály Lajos",
                                    "EMAIL": "lajos.nagymihály@mail.hu",
                                    "USERNEV": "lala"
                                },
                                {
                                    "NEV": "Móra László",
                                    "EMAIL": "lászló.móra@mail.hu",
                                    "USERNEV": "laszlo2"
                                },
                                {
                                    "NEV": "Antal László",
                                    "EMAIL": "lászló.antal@mail.hu",
                                    "USERNEV": "LASZLOA"
                                },
                                {
                                    "NEV": "Nagy László",
                                    "EMAIL": "lászló.nagy@mail.hu",
                                    "USERNEV": "LASZLON"
                                },
                                {
                                    "NEV": "Baráth Mária",
                                    "EMAIL": "mária.baráth@mail.hu",
                                    "USERNEV": "maria1"
                                },
                                {
                                    "NEV": "Kispál Márk",
                                    "EMAIL": "márk.kispál@mail.hu",
                                    "USERNEV": "mark"
                                },
                                {
                                    "NEV": "Horváth Márk",
                                    "EMAIL": "márk.horváth@mail.hu",
                                    "USERNEV": "MARKH"
                                },
                                {
                                    "NEV": "Kalacsi Márton",
                                    "EMAIL": "marton@gmail.com",
                                    "USERNEV": "marton"
                                },
                                {
                                    "NEV": "Koza Máté",
                                    "EMAIL": "máté.koza@mail.hu",
                                    "USERNEV": "MATEK"
                                },
                                {
                                    "NEV": "Botka Mátyás",
                                    "EMAIL": "matyas2@gmail.com",
                                    "USERNEV": "matyas2"
                                },
                                {
                                    "NEV": "Szilágyi Mátyás",
                                    "EMAIL": "mátyás.szilágyi@mail.hu",
                                    "USERNEV": "MATYASS"
                                },
                                {
                                    "NEV": "Juhász Mihály",
                                    "EMAIL": "mihály.juhász@mail.hu",
                                    "USERNEV": "MIHALYJ"
                                },
                                {
                                    "NEV": "Gondos Miklós",
                                    "EMAIL": "miklos2@gmail.com",
                                    "USERNEV": "miklos2"
                                },
                                {
                                    "NEV": "Balla Miklós",
                                    "EMAIL": "miklós.balla@mail.hu",
                                    "USERNEV": "MIKLOSB"
                                },
                                {
                                    "NEV": "Mohos Mónika",
                                    "EMAIL": "mónika.mohos@mail.hu",
                                    "USERNEV": "MONIKAM"
                                },
                                {
                                    "NEV": "Fő Nándor",
                                    "EMAIL": "nándor.fő@mail.hu",
                                    "USERNEV": "NANDORF"
                                },
                                {
                                    "NEV": "Horváth Nikolett",
                                    "EMAIL": "nikolett3@gmail.com",
                                    "USERNEV": "nikolett3"
                                },
                                {
                                    "NEV": "Kő Nikoletta",
                                    "EMAIL": "nikoletta4@gmail.com",
                                    "USERNEV": "nikoletta4"
                                },
                                {
                                    "NEV": "Tatár Nikoletta",
                                    "EMAIL": "nikoletta.tatár@mail.hu",
                                    "USERNEV": "NIKOLETTAT"
                                },
                                {
                                    "NEV": "Szűcs Norbert",
                                    "EMAIL": "norbert@gmail.com",
                                    "USERNEV": "norbert"
                                },
                                {
                                    "NEV": "Hegedűs Norbert",
                                    "EMAIL": "norbert.hegedűs@mail.hu",
                                    "USERNEV": "norbert2"
                                },
                                {
                                    "NEV": "Mile Norbert",
                                    "EMAIL": "norbert4@gmail.com",
                                    "USERNEV": "norbert4"
                                },
                                {
                                    "NEV": "Béres Norbert",
                                    "EMAIL": "norbert5@gmail.com",
                                    "USERNEV": "norbert5"
                                },
                                {
                                    "NEV": "Barabás Pál",
                                    "EMAIL": "pál.barabás@mail.hu",
                                    "USERNEV": "pal"
                                },
                                {
                                    "NEV": "Kozma Péter",
                                    "EMAIL": "peter1@gmail.com",
                                    "USERNEV": "peter1"
                                },
                                {
                                    "NEV": "Bozsó Péter",
                                    "EMAIL": "peter2@gmail.com",
                                    "USERNEV": "peter2"
                                },
                                {
                                    "NEV": "Szalai Péter",
                                    "EMAIL": "peter3@gmail.com",
                                    "USERNEV": "peter3"
                                },
                                {
                                    "NEV": "Bíró Péter",
                                    "EMAIL": "péter.bíró@mail.hu",
                                    "USERNEV": "peter4"
                                },
                                {
                                    "NEV": "Berendi Péter",
                                    "EMAIL": "péter.berendi@mail.hu",
                                    "USERNEV": "PETERB"
                                },
                                {
                                    "NEV": "Palágyi Polla",
                                    "EMAIL": "polla@gmail.com",
                                    "USERNEV": "polla"
                                },
                                {
                                    "NEV": "Rácz Rajmond",
                                    "EMAIL": "rajmond.rácz@mail.hu",
                                    "USERNEV": "rajmond4"
                                },
                                {
                                    "NEV": "Szikszai Réka",
                                    "EMAIL": "réka.szikszai@mail.hu",
                                    "USERNEV": "reka4"
                                },
                                {
                                    "NEV": "Szirmai Renáta",
                                    "EMAIL": "RENATAS@gmail.com",
                                    "USERNEV": "RENATAS"
                                },
                                {
                                    "NEV": "Patay Róbert",
                                    "EMAIL": "robert2@gmail.com",
                                    "USERNEV": "robert2"
                                },
                                {
                                    "NEV": "Iván Róbert",
                                    "EMAIL": "róbert.iván@mail.hu",
                                    "USERNEV": "ROBERTI"
                                },
                                {
                                    "NEV": "Tóth Roland",
                                    "EMAIL": "roland@gmail.com",
                                    "USERNEV": "roland"
                                },
                                {
                                    "NEV": "Ferencz Roland",
                                    "EMAIL": "roland.ferencz@mail.hu",
                                    "USERNEV": "roland1"
                                },
                                {
                                    "NEV": "Bucskó Róza",
                                    "EMAIL": "roza2@gmail.com",
                                    "USERNEV": "roza2"
                                },
                                {
                                    "NEV": "Karasz Sándor",
                                    "EMAIL": "sandor@gmail.com",
                                    "USERNEV": "sandor"
                                },
                                {
                                    "NEV": "Farkas Sándor",
                                    "EMAIL": "sándor.farkas@mail.hu",
                                    "USERNEV": "sandor3"
                                },
                                {
                                    "NEV": "Nagy Sándor",
                                    "EMAIL": "sandor4@gmail.com",
                                    "USERNEV": "sandor4"
                                },
                                {
                                    "NEV": "Farkas Sára",
                                    "EMAIL": "sára.farkas@mail.hu",
                                    "USERNEV": "sara"
                                },
                                {
                                    "NEV": "Foltényi Sebastián",
                                    "EMAIL": "SEBASTIANF@gmail.com",
                                    "USERNEV": "SEBASTIANF"
                                },
                                {
                                    "NEV": "Rab Sebestyén",
                                    "EMAIL": "sebestyen@gmail.com",
                                    "USERNEV": "sebestyen"
                                },
                                {
                                    "NEV": "Miklós Szabolcs",
                                    "EMAIL": "szabolcs.miklós@mail.hu",
                                    "USERNEV": "SZABOLCSM"
                                },
                                {
                                    "NEV": "Szalai Szilárd",
                                    "EMAIL": "szilárd.szalai@mail.hu",
                                    "USERNEV": "SZILARDS"
                                },
                                {
                                    "NEV": "Tari Szilvia",
                                    "EMAIL": "szilvia.tari@mail.hu",
                                    "USERNEV": "szilvia1"
                                },
                                {
                                    "NEV": "Miklós Tamara",
                                    "EMAIL": "tamara.miklós@mail.hu",
                                    "USERNEV": "tamara2"
                                },
                                {
                                    "NEV": "Antal Tamás",
                                    "EMAIL": "tamás.antal@mail.hu",
                                    "USERNEV": "tamas"
                                },
                                {
                                    "NEV": "Fényes Tamás",
                                    "EMAIL": "TAMASF@gmail.com",
                                    "USERNEV": "TAMASF"
                                },
                                {
                                    "NEV": "Gombos Tibor",
                                    "EMAIL": "tibor.gombos@mail.hu",
                                    "USERNEV": "tibor"
                                },
                                {
                                    "NEV": "Kazy Tihamér",
                                    "EMAIL": "tihamér.kazy@mail.hu",
                                    "USERNEV": "tihamer"
                                },
                                {
                                    "NEV": "Dusha Tímea",
                                    "EMAIL": "tímea.dusha@mail.hu",
                                    "USERNEV": "timea2"
                                },
                                {
                                    "NEV": "Turcsik Tünde",
                                    "EMAIL": "tunde@gmail.com",
                                    "USERNEV": "tunde"
                                },
                                {
                                    "NEV": "Feró Valentin",
                                    "EMAIL": "valentin.feró@mail.hu",
                                    "USERNEV": "valentin"
                                },
                                {
                                    "NEV": "Tankó Veronika",
                                    "EMAIL": "veronika4@gmail.com",
                                    "USERNEV": "veronika4"
                                },
                                {
                                    "NEV": "Boros Vivien",
                                    "EMAIL": "vivien3@gmail.com",
                                    "USERNEV": "vivien3"
                                },
                                {
                                    "NEV": "Fodor Zoltán",
                                    "EMAIL": "zoltán.fodor@mail.hu",
                                    "USERNEV": "zoltan"
                                },
                                {
                                    "NEV": "Pintér Zoltán",
                                    "EMAIL": "zoltán.pintér@mail.hu",
                                    "USERNEV": "ZOLTANP"
                                },
                                {
                                    "NEV": "Tóth Zoltán",
                                    "EMAIL": "zoltán.tóth@mail.hu",
                                    "USERNEV": "ZOLTANT"
                                },
                                {
                                    "NEV": "Molnár Zsófi",
                                    "EMAIL": "zsofi1@gmail.com",
                                    "USERNEV": "zsofi1"
                                },
                                {
                                    "NEV": "Józsa Zsolt",
                                    "EMAIL": "ZSOLTJ@gmail.com",
                                    "USERNEV": "ZSOLTJ"
                                },
                                {
                                    "NEV": "Pusztai Zsuzsanna",
                                    "EMAIL": "zsuzsanna@gmail.com",
                                    "USERNEV": "zsuzsa"
                                },
                                {
                                    "NEV": "Varsányi Zsuzsa",
                                    "EMAIL": "zsuzsa.varsányi@mail.hu",
                                    "USERNEV": "zsuzsa3"
                                },
                                {
                                    "NEV": "Barta Zsuzsanna",
                                    "EMAIL": "zsuzsanna.barta@mail.hu",
                                    "USERNEV": "zsuzsanna"
                                },
                                {
                                    "NEV": "Vajda Zsuzsa",
                                    "EMAIL": "zsuzsa.vajda@mail.hu",
                                    "USERNEV": "ZSUZSAV"
                                }
                            ]
                        },
                        "text/html": [
                            "<table>",
                            "<tr><th>NEV</th><th>EMAIL</th><th>USERNEV</th></tr>",
                            "<tr><td>Kiss Ádám</td><td>ádám.kiss@mail.hu</td><td>adam1</td></tr>",
                            "<tr><td>Barkóci Ádám</td><td>adam3@gmail.com</td><td>adam3</td></tr>",
                            "<tr><td>Bieniek Ádám</td><td>ádám.bieniek@mail.hu</td><td>adam4</td></tr>",
                            "<tr><td>Lengyel Ágnes</td><td>agnes@gmail.com</td><td>agnes</td></tr>",
                            "<tr><td>Hartyánszky Ágnes</td><td>agnes3@gmail.com</td><td>agnes3</td></tr>",
                            "<tr><td>Horváth Ágnes</td><td>AGNESH@gmail.com</td><td>AGNESH</td></tr>",
                            "<tr><td>Kovács Ágnes</td><td>AGNESK@gmail.com</td><td>AGNESK</td></tr>",
                            "<tr><td>Bíró Ákos</td><td>ákos.bíró@mail.hu</td><td>akos</td></tr>",
                            "<tr><td>Dunai Aladár</td><td>aladár.dunai@mail.hu</td><td>aladar</td></tr>",
                            "<tr><td>Bagóczki Alexandra</td><td>alexandra.bagóczki@mail.hu</td><td>alexandra</td></tr>",
                            "<tr><td>Tóth András</td><td>andrás.tóth@mail.hu</td><td>andras2</td></tr>",
                            "<tr><td>Molnár András</td><td>andrás.molnár@mail.hu</td><td>andras21</td></tr>",
                            "<tr><td>Vígh András</td><td>andrás.vígh@mail.hu</td><td>andras3</td></tr>",
                            "<tr><td>Back András</td><td>andras4@gmail.com</td><td>andras4</td></tr>",
                            "<tr><td>Komjáti András</td><td>andras41@gmail.com</td><td>andras41</td></tr>",
                            "<tr><td>Kiss Andrea</td><td>andrea.kiss@mail.hu</td><td>andrea</td></tr>",
                            "<tr><td>Tornyos Andrea</td><td>ANDREAT@gmail.com</td><td>ANDREAT</td></tr>",
                            "<tr><td>Pivarcsi Anett</td><td>anett.pivarcsi@mail.hu</td><td>anett3</td></tr>",
                            "<tr><td>Tóth Anikó</td><td>aniko@gmail.com</td><td>aniko</td></tr>",
                            "<tr><td>Böröcz Anikó</td><td>aniko4@gmail.com</td><td>aniko4</td></tr>",
                            "<tr><td>Simon Anikó</td><td>ANIKOS@gmail.com</td><td>ANIKOS</td></tr>",
                            "<tr><td>Hamvay-Kovács Anita</td><td>anita.hamvay-kovács@mail.hu</td><td>anita</td></tr>",
                            "<tr><td>Szűcs Annamária</td><td>annamária.szűcs@mail.hu</td><td>annamaria1</td></tr>",
                            "<tr><td>Regős Annamária</td><td>ANNAMARIAR@gmail.com</td><td>ANNAMARIAR</td></tr>",
                            "<tr><td>Jakab Áron</td><td>aron2@gmail.com</td><td>aron2</td></tr>",
                            "<tr><td>Kelemen Áron</td><td>áron.kelemen@mail.hu</td><td>ARONK</td></tr>",
                            "<tr><td>Ötvös Árpád</td><td>árpád.ötvös@mail.hu</td><td>arpad2</td></tr>",
                            "<tr><td>Móricz Árpád</td><td>árpád.móricz@mail.hu</td><td>ARPADM</td></tr>",
                            "<tr><td>Csóti Attila</td><td>attila@gmail.com</td><td>attila</td></tr>",
                            "<tr><td>Gulyás Attila</td><td>attila.gulyás@mail.hu</td><td>attila1</td></tr>",
                            "<tr><td>Baróti Attila</td><td>attila.baróti@mail.hu</td><td>attila4</td></tr>",
                            "<tr><td>Bozsik Balázs</td><td>balázs.bozsik@mail.hu</td><td>balazs1</td></tr>",
                            "<tr><td>Szűcs Balázs</td><td>balázs.szűcs@mail.hu</td><td>balazs2</td></tr>",
                            "<tr><td>Bakódy Balázs</td><td>balazs3@gmail.com</td><td>balazs3</td></tr>",
                            "<tr><td>Horváth Bálint</td><td>balint@gmail.com</td><td>balint</td></tr>",
                            "<tr><td>Molnár Bálint</td><td>balint1@gmail.com</td><td>balint1</td></tr>",
                            "<tr><td>Vukasinovity Bálint</td><td>balint2@gmail.com</td><td>balint2</td></tr>",
                            "<tr><td>Endresz Bálint</td><td>bálint.endresz@mail.hu</td><td>balu</td></tr>",
                            "<tr><td>Bagi Beáta</td><td>beáta.bagi@mail.hu</td><td>beata4</td></tr>",
                            "<tr><td>Kerényi Beatrix</td><td>beatrix.kerényi@mail.hu</td><td>BEATRIXK</td></tr>",
                            "<tr><td>Szekendi Beatrix</td><td>beatrix.szekendi@mail.hu</td><td>BEATRIXS</td></tr>",
                            "<tr><td>Farkas Béla</td><td>BELAF@gmail.com</td><td>BELAF</td></tr>",
                            "<tr><td>Győrffy Bence</td><td>bence@gmail.com</td><td>bence</td></tr>",
                            "<tr><td>Bajusz Bence</td><td>bence.bajusz@mail.hu</td><td>BENCEB</td></tr>",
                            "<tr><td>Simon Bernadett</td><td>bernadett1@gmail.com</td><td>bernadett1</td></tr>",
                            "<tr><td>Kovács Bernadett</td><td>bernadett.kovács@mail.hu</td><td>bernadett2</td></tr>",
                            "<tr><td>Orbán Bernadett</td><td>bernadett.orbán@mail.hu</td><td>BERNADETTO</td></tr>",
                            "<tr><td>Csiger Bertalan</td><td>bertalan@gmail.com</td><td>bertalan</td></tr>",
                            "<tr><td>Székely Brigitta</td><td>brigitta.székely@mail.hu</td><td>brigitta</td></tr>",
                            "<tr><td>Nagymihály Csongor</td><td>csongor.nagymihály@mail.hu</td><td>csongor3</td></tr>",
                            "<tr><td>Vörös Dániel</td><td>daniel@gmail.com</td><td>dani</td></tr>",
                            "<tr><td>Rácz Dániel</td><td>dániel.rácz@mail.hu</td><td>daniel</td></tr>",
                            "<tr><td>Keszler Dániel</td><td>dániel.keszler@mail.hu</td><td>daniel1</td></tr>",
                            "<tr><td>Ambrus Dávid</td><td>david@gmail.com</td><td>david</td></tr>",
                            "<tr><td>Sobják Dávid</td><td>david1@gmail.com</td><td>david1</td></tr>",
                            "<tr><td>Barna Debóra</td><td>debóra.barna@mail.hu</td><td>debora</td></tr>",
                            "<tr><td>Tömböly Dénes</td><td>denes@gmail.com</td><td>denes</td></tr>",
                            "<tr><td>Bittmann Edit</td><td>edit.bittmann@mail.hu</td><td>edit</td></tr>",
                            "<tr><td>Kuruc Emese</td><td>emese.kuruc@mail.hu</td><td>emese</td></tr>",
                            "<tr><td>Balogh Eszter</td><td>eszter.balogh@mail.hu</td><td>eszter2</td></tr>",
                            "<tr><td>Fülöp Eszter</td><td>eszter.fülöp@mail.hu</td><td>eszter4</td></tr>",
                            "<tr><td>Érsek Eszter</td><td>eszter.érsek@mail.hu</td><td>ESZTERE</td></tr>",
                            "<tr><td>Enyedi Éva</td><td>eva@gmail.com</td><td>eva</td></tr>",
                            "<tr><td>Perlinger Éva</td><td>eva2@gmail.com</td><td>eva2</td></tr>",
                            "<tr><td>Viktor Éva</td><td>EVAV@gmail.com</td><td>EVAV</td></tr>",
                            "<tr><td>Orosz Ferenc</td><td>ferenc.orosz@mail.hu</td><td>ferenc1</td></tr>",
                            "<tr><td>Frank Fruzsina</td><td>fruzsina4@gmail.com</td><td>fruzsina4</td></tr>",
                            "<tr><td>Köves Gábor</td><td>gabor1@gmail.com</td><td>gabor1</td></tr>",
                            "<tr><td>Telek Gábor</td><td>gábor.telek@mail.hu</td><td>gabor4</td></tr>",
                            "<tr><td>Nagy Gabriella</td><td>gabriella1@gmail.com</td><td>gabriella1</td></tr>",
                            "<tr><td>Nyíri Georgij</td><td>georgij.nyíri@mail.hu</td><td>georgij</td></tr>",
                            "<tr><td>Bárci Gusztáv</td><td>gusztav@gmail.com</td><td>gusztav</td></tr>",
                            "<tr><td>Kornseé Gyöngyi</td><td>gyöngyi.kornseé@mail.hu</td><td>GYONGYIK</td></tr>",
                            "<tr><td>Oroszi György</td><td>GYORGYO@gmail.com</td><td>GYORGYO</td></tr>",
                            "<tr><td>Nádudvari Henrik</td><td>henrik.nádudvari@mail.hu</td><td>henrik3</td></tr>",
                            "<tr><td>Andor Ibolya</td><td>ibolya.andor@mail.hu</td><td>IBOLYAA</td></tr>",
                            "<tr><td>Bosnyák Ilona</td><td>ilona3@gmail.com</td><td>ilona3</td></tr>",
                            "<tr><td>Búza Imre</td><td>imre.búza@mail.hu</td><td>imre</td></tr>",
                            "<tr><td>Papp Imre</td><td>imre.papp@mail.hu</td><td>imre1</td></tr>",
                            "<tr><td>Soós István</td><td>istvan@gmail.com</td><td>istvan</td></tr>",
                            "<tr><td>Vizi István</td><td>istván.vizi@mail.hu</td><td>istvan1</td></tr>",
                            "<tr><td>Varga István</td><td>ISTVANV@gmail.com</td><td>ISTVANV</td></tr>",
                            "<tr><td>Harangozó János</td><td>janos3@gmail.com</td><td>janos3</td></tr>",
                            "<tr><td>Giliga János</td><td>JANOSG@gmail.com</td><td>JANOSG</td></tr>",
                            "<tr><td>Pálinkás János</td><td>JANOSP@gmail.com</td><td>JANOSP</td></tr>",
                            "<tr><td>Gergely József</td><td>jozsef@gmail.com</td><td>jozsef</td></tr>",
                            "<tr><td>Vajda József</td><td>józsef.vajda@mail.hu</td><td>jozsef2</td></tr>",
                            "<tr><td>Hídasi Judit</td><td>JUDITH@gmail.com</td><td>JUDITH</td></tr>",
                            "<tr><td>Tóth Júlia</td><td>julia@gmail.com</td><td>julia</td></tr>",
                            "<tr><td>Nagy Júlia</td><td>julia4@gmail.com</td><td>julia4</td></tr>",
                            "<tr><td>Szabó Julianna</td><td>julianna4@gmail.com</td><td>julianna4</td></tr>",
                            "<tr><td>Gondos Katalin</td><td>katalin.gondos@mail.hu</td><td>kata</td></tr>",
                            "<tr><td>Horváth Katalin</td><td>katalin.horváth@mail.hu</td><td>katalin</td></tr>",
                            "<tr><td>Kertész Katalin</td><td>katalin4@gmail.com</td><td>katalin4</td></tr>",
                            "<tr><td>Kovács Katalin</td><td>katalin.kovács@mail.hu</td><td>katka</td></tr>",
                            "<tr><td>Bakó Klaudia</td><td>klaudia.bakó@mail.hu</td><td>klaudia2</td></tr>",
                            "<tr><td>Lukács Kornél</td><td>kornél.lukács@mail.hu</td><td>kornel4</td></tr>",
                            "<tr><td>Poprádi Kristóf</td><td>kristof4@gmail.com</td><td>kristof4</td></tr>",
                            "<tr><td>Horváth Krisztina</td><td>kriszti@gmail.com</td><td>kriszti</td></tr>",
                            "<tr><td>Czérna Krisztián</td><td>krisztián.czérna@mail.hu</td><td>krisztian4</td></tr>",
                            "<tr><td>Bori Krisztina</td><td>krisztina.bori@mail.hu</td><td>krisztina1</td></tr>",
                            "<tr><td>Gyárfás Krisztina</td><td>KRISZTINAG@gmail.com</td><td>KRISZTINAG</td></tr>",
                            "<tr><td>Kiss Lajos</td><td>lajos.kiss@mail.hu</td><td>lajos</td></tr>",
                            "<tr><td>Nagymihály Lajos</td><td>lajos.nagymihály@mail.hu</td><td>lala</td></tr>",
                            "<tr><td>Móra László</td><td>lászló.móra@mail.hu</td><td>laszlo2</td></tr>",
                            "<tr><td>Antal László</td><td>lászló.antal@mail.hu</td><td>LASZLOA</td></tr>",
                            "<tr><td>Nagy László</td><td>lászló.nagy@mail.hu</td><td>LASZLON</td></tr>",
                            "<tr><td>Baráth Mária</td><td>mária.baráth@mail.hu</td><td>maria1</td></tr>",
                            "<tr><td>Kispál Márk</td><td>márk.kispál@mail.hu</td><td>mark</td></tr>",
                            "<tr><td>Horváth Márk</td><td>márk.horváth@mail.hu</td><td>MARKH</td></tr>",
                            "<tr><td>Kalacsi Márton</td><td>marton@gmail.com</td><td>marton</td></tr>",
                            "<tr><td>Koza Máté</td><td>máté.koza@mail.hu</td><td>MATEK</td></tr>",
                            "<tr><td>Botka Mátyás</td><td>matyas2@gmail.com</td><td>matyas2</td></tr>",
                            "<tr><td>Szilágyi Mátyás</td><td>mátyás.szilágyi@mail.hu</td><td>MATYASS</td></tr>",
                            "<tr><td>Juhász Mihály</td><td>mihály.juhász@mail.hu</td><td>MIHALYJ</td></tr>",
                            "<tr><td>Gondos Miklós</td><td>miklos2@gmail.com</td><td>miklos2</td></tr>",
                            "<tr><td>Balla Miklós</td><td>miklós.balla@mail.hu</td><td>MIKLOSB</td></tr>",
                            "<tr><td>Mohos Mónika</td><td>mónika.mohos@mail.hu</td><td>MONIKAM</td></tr>",
                            "<tr><td>Fő Nándor</td><td>nándor.fő@mail.hu</td><td>NANDORF</td></tr>",
                            "<tr><td>Horváth Nikolett</td><td>nikolett3@gmail.com</td><td>nikolett3</td></tr>",
                            "<tr><td>Kő Nikoletta</td><td>nikoletta4@gmail.com</td><td>nikoletta4</td></tr>",
                            "<tr><td>Tatár Nikoletta</td><td>nikoletta.tatár@mail.hu</td><td>NIKOLETTAT</td></tr>",
                            "<tr><td>Szűcs Norbert</td><td>norbert@gmail.com</td><td>norbert</td></tr>",
                            "<tr><td>Hegedűs Norbert</td><td>norbert.hegedűs@mail.hu</td><td>norbert2</td></tr>",
                            "<tr><td>Mile Norbert</td><td>norbert4@gmail.com</td><td>norbert4</td></tr>",
                            "<tr><td>Béres Norbert</td><td>norbert5@gmail.com</td><td>norbert5</td></tr>",
                            "<tr><td>Barabás Pál</td><td>pál.barabás@mail.hu</td><td>pal</td></tr>",
                            "<tr><td>Kozma Péter</td><td>peter1@gmail.com</td><td>peter1</td></tr>",
                            "<tr><td>Bozsó Péter</td><td>peter2@gmail.com</td><td>peter2</td></tr>",
                            "<tr><td>Szalai Péter</td><td>peter3@gmail.com</td><td>peter3</td></tr>",
                            "<tr><td>Bíró Péter</td><td>péter.bíró@mail.hu</td><td>peter4</td></tr>",
                            "<tr><td>Berendi Péter</td><td>péter.berendi@mail.hu</td><td>PETERB</td></tr>",
                            "<tr><td>Palágyi Polla</td><td>polla@gmail.com</td><td>polla</td></tr>",
                            "<tr><td>Rácz Rajmond</td><td>rajmond.rácz@mail.hu</td><td>rajmond4</td></tr>",
                            "<tr><td>Szikszai Réka</td><td>réka.szikszai@mail.hu</td><td>reka4</td></tr>",
                            "<tr><td>Szirmai Renáta</td><td>RENATAS@gmail.com</td><td>RENATAS</td></tr>",
                            "<tr><td>Patay Róbert</td><td>robert2@gmail.com</td><td>robert2</td></tr>",
                            "<tr><td>Iván Róbert</td><td>róbert.iván@mail.hu</td><td>ROBERTI</td></tr>",
                            "<tr><td>Tóth Roland</td><td>roland@gmail.com</td><td>roland</td></tr>",
                            "<tr><td>Ferencz Roland</td><td>roland.ferencz@mail.hu</td><td>roland1</td></tr>",
                            "<tr><td>Bucskó Róza</td><td>roza2@gmail.com</td><td>roza2</td></tr>",
                            "<tr><td>Karasz Sándor</td><td>sandor@gmail.com</td><td>sandor</td></tr>",
                            "<tr><td>Farkas Sándor</td><td>sándor.farkas@mail.hu</td><td>sandor3</td></tr>",
                            "<tr><td>Nagy Sándor</td><td>sandor4@gmail.com</td><td>sandor4</td></tr>",
                            "<tr><td>Farkas Sára</td><td>sára.farkas@mail.hu</td><td>sara</td></tr>",
                            "<tr><td>Foltényi Sebastián</td><td>SEBASTIANF@gmail.com</td><td>SEBASTIANF</td></tr>",
                            "<tr><td>Rab Sebestyén</td><td>sebestyen@gmail.com</td><td>sebestyen</td></tr>",
                            "<tr><td>Miklós Szabolcs</td><td>szabolcs.miklós@mail.hu</td><td>SZABOLCSM</td></tr>",
                            "<tr><td>Szalai Szilárd</td><td>szilárd.szalai@mail.hu</td><td>SZILARDS</td></tr>",
                            "<tr><td>Tari Szilvia</td><td>szilvia.tari@mail.hu</td><td>szilvia1</td></tr>",
                            "<tr><td>Miklós Tamara</td><td>tamara.miklós@mail.hu</td><td>tamara2</td></tr>",
                            "<tr><td>Antal Tamás</td><td>tamás.antal@mail.hu</td><td>tamas</td></tr>",
                            "<tr><td>Fényes Tamás</td><td>TAMASF@gmail.com</td><td>TAMASF</td></tr>",
                            "<tr><td>Gombos Tibor</td><td>tibor.gombos@mail.hu</td><td>tibor</td></tr>",
                            "<tr><td>Kazy Tihamér</td><td>tihamér.kazy@mail.hu</td><td>tihamer</td></tr>",
                            "<tr><td>Dusha Tímea</td><td>tímea.dusha@mail.hu</td><td>timea2</td></tr>",
                            "<tr><td>Turcsik Tünde</td><td>tunde@gmail.com</td><td>tunde</td></tr>",
                            "<tr><td>Feró Valentin</td><td>valentin.feró@mail.hu</td><td>valentin</td></tr>",
                            "<tr><td>Tankó Veronika</td><td>veronika4@gmail.com</td><td>veronika4</td></tr>",
                            "<tr><td>Boros Vivien</td><td>vivien3@gmail.com</td><td>vivien3</td></tr>",
                            "<tr><td>Fodor Zoltán</td><td>zoltán.fodor@mail.hu</td><td>zoltan</td></tr>",
                            "<tr><td>Pintér Zoltán</td><td>zoltán.pintér@mail.hu</td><td>ZOLTANP</td></tr>",
                            "<tr><td>Tóth Zoltán</td><td>zoltán.tóth@mail.hu</td><td>ZOLTANT</td></tr>",
                            "<tr><td>Molnár Zsófi</td><td>zsofi1@gmail.com</td><td>zsofi1</td></tr>",
                            "<tr><td>Józsa Zsolt</td><td>ZSOLTJ@gmail.com</td><td>ZSOLTJ</td></tr>",
                            "<tr><td>Pusztai Zsuzsanna</td><td>zsuzsanna@gmail.com</td><td>zsuzsa</td></tr>",
                            "<tr><td>Varsányi Zsuzsa</td><td>zsuzsa.varsányi@mail.hu</td><td>zsuzsa3</td></tr>",
                            "<tr><td>Barta Zsuzsanna</td><td>zsuzsanna.barta@mail.hu</td><td>zsuzsanna</td></tr>",
                            "<tr><td>Vajda Zsuzsa</td><td>zsuzsa.vajda@mail.hu</td><td>ZSUZSAV</td></tr>",
                            "</table>"
                        ]
                    }
                }
            ],
            "execution_count": 6
        },
        {
            "cell_type": "code",
            "source": [
                "SELECT TOP 1\r\n",
                "    VENDEG.USERNEV,\r\n",
                "    VENDEG.NEV,\r\n",
                "    VENDEG.EMAIL,\r\n",
                "    VENDEG.SZUL_DAT,\r\n",
                "    COUNT(FOGLALAS.FOGLALAS_PK) AS foglalas_szam\r\n",
                "FROM FOGLALAS\r\n",
                "    INNER JOIN VENDEG ON FOGLALAS.UGYFEL_FK = VENDEG.USERNEV\r\n",
                "    INNER JOIN SZOBA ON FOGLALAS.SZOBA_FK = SZOBA.SZOBA_ID\r\n",
                "WHERE SZOBA.KLIMAS = 'i'\r\n",
                "GROUP BY VENDEG.USERNEV, VENDEG.NEV, VENDEG.EMAIL, VENDEG.SZUL_DAT\r\n",
                "ORDER BY foglalas_szam DESC;\r\n",
                "\r\n",
                ""
            ],
            "metadata": {
                "azdata_cell_guid": "bdd05960-62a1-4e4d-8994-fe6a123f3bb2",
                "language": "sql"
            },
            "outputs": [
                {
                    "output_type": "display_data",
                    "data": {
                        "text/html": "(1 row affected)"
                    },
                    "metadata": {}
                },
                {
                    "output_type": "display_data",
                    "data": {
                        "text/html": "Total execution time: 00:00:00.016"
                    },
                    "metadata": {}
                },
                {
                    "output_type": "execute_result",
                    "metadata": {},
                    "execution_count": 15,
                    "data": {
                        "application/vnd.dataresource+json": {
                            "schema": {
                                "fields": [
                                    {
                                        "name": "USERNEV"
                                    },
                                    {
                                        "name": "NEV"
                                    },
                                    {
                                        "name": "EMAIL"
                                    },
                                    {
                                        "name": "SZUL_DAT"
                                    },
                                    {
                                        "name": "foglalas_szam"
                                    }
                                ]
                            },
                            "data": [
                                {
                                    "USERNEV": "andras41",
                                    "NEV": "Komjáti András",
                                    "EMAIL": "andras41@gmail.com",
                                    "SZUL_DAT": "1997-10-25",
                                    "foglalas_szam": "11"
                                }
                            ]
                        },
                        "text/html": [
                            "<table>",
                            "<tr><th>USERNEV</th><th>NEV</th><th>EMAIL</th><th>SZUL_DAT</th><th>foglalas_szam</th></tr>",
                            "<tr><td>andras41</td><td>Komjáti András</td><td>andras41@gmail.com</td><td>1997-10-25</td><td>11</td></tr>",
                            "</table>"
                        ]
                    }
                }
            ],
            "execution_count": 15
        },
        {
            "cell_type": "code",
            "source": [
                "WITH FoglalasSzam AS (\r\n",
                "    SELECT\r\n",
                "        VENDEG.USERNEV AS vendeg_id,\r\n",
                "        VENDEG.NEV AS vendeg_nev,\r\n",
                "        COUNT(FOGLALAS.FOGLALAS_PK) AS foglalas_szam\r\n",
                "    FROM FOGLALAS\r\n",
                "    INNER JOIN VENDEG ON FOGLALAS.UGYFEL_FK = VENDEG.USERNEV\r\n",
                "    GROUP BY VENDEG.USERNEV, VENDEG.NEV\r\n",
                "),\r\n",
                "RankedReservations AS (\r\n",
                "    SELECT\r\n",
                "        vendeg_id,\r\n",
                "        vendeg_nev,\r\n",
                "        foglalas_szam,\r\n",
                "        RANK() OVER (ORDER BY foglalas_szam DESC) AS sorszám\r\n",
                "    FROM FoglalasSzam\r\n",
                ")\r\n",
                "SELECT \r\n",
                "    sorszám,\r\n",
                "    vendeg_id,\r\n",
                "    vendeg_nev,\r\n",
                "    foglalas_szam\r\n",
                "FROM RankedReservations\r\n",
                "ORDER BY sorszám, vendeg_id;\r\n",
                ""
            ],
            "metadata": {
                "azdata_cell_guid": "a430f742-3392-40a4-ad92-6405894ec36c",
                "language": "sql"
            },
            "outputs": [
                {
                    "output_type": "display_data",
                    "data": {
                        "text/html": "(195 rows affected)"
                    },
                    "metadata": {}
                },
                {
                    "output_type": "display_data",
                    "data": {
                        "text/html": "Total execution time: 00:00:00.015"
                    },
                    "metadata": {}
                },
                {
                    "output_type": "execute_result",
                    "metadata": {},
                    "execution_count": 18,
                    "data": {
                        "application/vnd.dataresource+json": {
                            "schema": {
                                "fields": [
                                    {
                                        "name": "sorszám"
                                    },
                                    {
                                        "name": "vendeg_id"
                                    },
                                    {
                                        "name": "vendeg_nev"
                                    },
                                    {
                                        "name": "foglalas_szam"
                                    }
                                ]
                            },
                            "data": [
                                {
                                    "sorszám": "1",
                                    "vendeg_id": "andras41",
                                    "vendeg_nev": "Komjáti András",
                                    "foglalas_szam": "13"
                                },
                                {
                                    "sorszám": "1",
                                    "vendeg_id": "ARONK",
                                    "vendeg_nev": "Kelemen Áron",
                                    "foglalas_szam": "13"
                                },
                                {
                                    "sorszám": "3",
                                    "vendeg_id": "krisztian4",
                                    "vendeg_nev": "Czérna Krisztián",
                                    "foglalas_szam": "12"
                                },
                                {
                                    "sorszám": "3",
                                    "vendeg_id": "peter4",
                                    "vendeg_nev": "Bíró Péter",
                                    "foglalas_szam": "12"
                                },
                                {
                                    "sorszám": "3",
                                    "vendeg_id": "sara",
                                    "vendeg_nev": "Farkas Sára",
                                    "foglalas_szam": "12"
                                },
                                {
                                    "sorszám": "3",
                                    "vendeg_id": "zoltan4",
                                    "vendeg_nev": "Barna Zoltán",
                                    "foglalas_szam": "12"
                                },
                                {
                                    "sorszám": "7",
                                    "vendeg_id": "akos",
                                    "vendeg_nev": "Bíró Ákos",
                                    "foglalas_szam": "10"
                                },
                                {
                                    "sorszám": "7",
                                    "vendeg_id": "balazs2",
                                    "vendeg_nev": "Szűcs Balázs",
                                    "foglalas_szam": "10"
                                },
                                {
                                    "sorszám": "7",
                                    "vendeg_id": "balint1",
                                    "vendeg_nev": "Molnár Bálint",
                                    "foglalas_szam": "10"
                                },
                                {
                                    "sorszám": "7",
                                    "vendeg_id": "eszter2",
                                    "vendeg_nev": "Balogh Eszter",
                                    "foglalas_szam": "10"
                                },
                                {
                                    "sorszám": "7",
                                    "vendeg_id": "kata",
                                    "vendeg_nev": "Gondos Katalin",
                                    "foglalas_szam": "10"
                                },
                                {
                                    "sorszám": "12",
                                    "vendeg_id": "ANIKOS",
                                    "vendeg_nev": "Simon Anikó",
                                    "foglalas_szam": "9"
                                },
                                {
                                    "sorszám": "12",
                                    "vendeg_id": "BEATRIXK",
                                    "vendeg_nev": "Kerényi Beatrix",
                                    "foglalas_szam": "9"
                                },
                                {
                                    "sorszám": "12",
                                    "vendeg_id": "bence",
                                    "vendeg_nev": "Győrffy Bence",
                                    "foglalas_szam": "9"
                                },
                                {
                                    "sorszám": "12",
                                    "vendeg_id": "dani",
                                    "vendeg_nev": "Vörös Dániel",
                                    "foglalas_szam": "9"
                                },
                                {
                                    "sorszám": "12",
                                    "vendeg_id": "daniel",
                                    "vendeg_nev": "Rácz Dániel",
                                    "foglalas_szam": "9"
                                },
                                {
                                    "sorszám": "12",
                                    "vendeg_id": "david",
                                    "vendeg_nev": "Ambrus Dávid",
                                    "foglalas_szam": "9"
                                },
                                {
                                    "sorszám": "12",
                                    "vendeg_id": "katalin",
                                    "vendeg_nev": "Horváth Katalin",
                                    "foglalas_szam": "9"
                                },
                                {
                                    "sorszám": "12",
                                    "vendeg_id": "katka",
                                    "vendeg_nev": "Kovács Katalin",
                                    "foglalas_szam": "9"
                                },
                                {
                                    "sorszám": "12",
                                    "vendeg_id": "norbert4",
                                    "vendeg_nev": "Mile Norbert",
                                    "foglalas_szam": "9"
                                },
                                {
                                    "sorszám": "12",
                                    "vendeg_id": "szilvia1",
                                    "vendeg_nev": "Tari Szilvia",
                                    "foglalas_szam": "9"
                                },
                                {
                                    "sorszám": "12",
                                    "vendeg_id": "TAMASF",
                                    "vendeg_nev": "Fényes Tamás",
                                    "foglalas_szam": "9"
                                },
                                {
                                    "sorszám": "23",
                                    "vendeg_id": "andras3",
                                    "vendeg_nev": "Vígh András",
                                    "foglalas_szam": "8"
                                },
                                {
                                    "sorszám": "23",
                                    "vendeg_id": "anett3",
                                    "vendeg_nev": "Pivarcsi Anett",
                                    "foglalas_szam": "8"
                                },
                                {
                                    "sorszám": "23",
                                    "vendeg_id": "bernadett2",
                                    "vendeg_nev": "Kovács Bernadett",
                                    "foglalas_szam": "8"
                                },
                                {
                                    "sorszám": "23",
                                    "vendeg_id": "csongor3",
                                    "vendeg_nev": "Nagymihály Csongor",
                                    "foglalas_szam": "8"
                                },
                                {
                                    "sorszám": "23",
                                    "vendeg_id": "fruzsina4",
                                    "vendeg_nev": "Frank Fruzsina",
                                    "foglalas_szam": "8"
                                },
                                {
                                    "sorszám": "23",
                                    "vendeg_id": "GYORGYO",
                                    "vendeg_nev": "Oroszi György",
                                    "foglalas_szam": "8"
                                },
                                {
                                    "sorszám": "23",
                                    "vendeg_id": "krisztina",
                                    "vendeg_nev": "Szedlár Krisztina",
                                    "foglalas_szam": "8"
                                },
                                {
                                    "sorszám": "23",
                                    "vendeg_id": "maria1",
                                    "vendeg_nev": "Baráth Mária",
                                    "foglalas_szam": "8"
                                },
                                {
                                    "sorszám": "23",
                                    "vendeg_id": "MATYASS",
                                    "vendeg_nev": "Szilágyi Mátyás",
                                    "foglalas_szam": "8"
                                },
                                {
                                    "sorszám": "23",
                                    "vendeg_id": "ROBERTI",
                                    "vendeg_nev": "Iván Róbert",
                                    "foglalas_szam": "8"
                                },
                                {
                                    "sorszám": "23",
                                    "vendeg_id": "tunde",
                                    "vendeg_nev": "Turcsik Tünde",
                                    "foglalas_szam": "8"
                                },
                                {
                                    "sorszám": "34",
                                    "vendeg_id": "alexandra",
                                    "vendeg_nev": "Bagóczki Alexandra",
                                    "foglalas_szam": "7"
                                },
                                {
                                    "sorszám": "34",
                                    "vendeg_id": "andras21",
                                    "vendeg_nev": "Molnár András",
                                    "foglalas_szam": "7"
                                },
                                {
                                    "sorszám": "34",
                                    "vendeg_id": "arpad2",
                                    "vendeg_nev": "Ötvös Árpád",
                                    "foglalas_szam": "7"
                                },
                                {
                                    "sorszám": "34",
                                    "vendeg_id": "ARPADH",
                                    "vendeg_nev": "Horváth Árpád",
                                    "foglalas_szam": "7"
                                },
                                {
                                    "sorszám": "34",
                                    "vendeg_id": "bernadett1",
                                    "vendeg_nev": "Simon Bernadett",
                                    "foglalas_szam": "7"
                                },
                                {
                                    "sorszám": "34",
                                    "vendeg_id": "BERNADETTO",
                                    "vendeg_nev": "Orbán Bernadett",
                                    "foglalas_szam": "7"
                                },
                                {
                                    "sorszám": "34",
                                    "vendeg_id": "daniel1",
                                    "vendeg_nev": "Keszler Dániel",
                                    "foglalas_szam": "7"
                                },
                                {
                                    "sorszám": "34",
                                    "vendeg_id": "edit",
                                    "vendeg_nev": "Bittmann Edit",
                                    "foglalas_szam": "7"
                                },
                                {
                                    "sorszám": "34",
                                    "vendeg_id": "emese",
                                    "vendeg_nev": "Kuruc Emese",
                                    "foglalas_szam": "7"
                                },
                                {
                                    "sorszám": "34",
                                    "vendeg_id": "GYONGYIK",
                                    "vendeg_nev": "Kornseé Gyöngyi",
                                    "foglalas_szam": "7"
                                },
                                {
                                    "sorszám": "34",
                                    "vendeg_id": "imre1",
                                    "vendeg_nev": "Papp Imre",
                                    "foglalas_szam": "7"
                                },
                                {
                                    "sorszám": "34",
                                    "vendeg_id": "JANOSG",
                                    "vendeg_nev": "Giliga János",
                                    "foglalas_szam": "7"
                                },
                                {
                                    "sorszám": "34",
                                    "vendeg_id": "JOZSEFG",
                                    "vendeg_nev": "Gyuris József",
                                    "foglalas_szam": "7"
                                },
                                {
                                    "sorszám": "34",
                                    "vendeg_id": "kati",
                                    "vendeg_nev": "Zatykó Katalin",
                                    "foglalas_szam": "7"
                                },
                                {
                                    "sorszám": "34",
                                    "vendeg_id": "marton",
                                    "vendeg_nev": "Kalacsi Márton",
                                    "foglalas_szam": "7"
                                },
                                {
                                    "sorszám": "34",
                                    "vendeg_id": "nikoletta4",
                                    "vendeg_nev": "Kő Nikoletta",
                                    "foglalas_szam": "7"
                                },
                                {
                                    "sorszám": "34",
                                    "vendeg_id": "norbert2",
                                    "vendeg_nev": "Hegedűs Norbert",
                                    "foglalas_szam": "7"
                                },
                                {
                                    "sorszám": "34",
                                    "vendeg_id": "SZABOLCSM",
                                    "vendeg_nev": "Miklós Szabolcs",
                                    "foglalas_szam": "7"
                                },
                                {
                                    "sorszám": "34",
                                    "vendeg_id": "SZILARDS",
                                    "vendeg_nev": "Szalai Szilárd",
                                    "foglalas_szam": "7"
                                },
                                {
                                    "sorszám": "34",
                                    "vendeg_id": "vivien3",
                                    "vendeg_nev": "Boros Vivien",
                                    "foglalas_szam": "7"
                                },
                                {
                                    "sorszám": "54",
                                    "vendeg_id": "adam4",
                                    "vendeg_nev": "Bieniek Ádám",
                                    "foglalas_szam": "6"
                                },
                                {
                                    "sorszám": "54",
                                    "vendeg_id": "AGNESH",
                                    "vendeg_nev": "Horváth Ágnes",
                                    "foglalas_szam": "6"
                                },
                                {
                                    "sorszám": "54",
                                    "vendeg_id": "andrea",
                                    "vendeg_nev": "Kiss Andrea",
                                    "foglalas_szam": "6"
                                },
                                {
                                    "sorszám": "54",
                                    "vendeg_id": "ANNAMARIAR",
                                    "vendeg_nev": "Regős Annamária",
                                    "foglalas_szam": "6"
                                },
                                {
                                    "sorszám": "54",
                                    "vendeg_id": "aron2",
                                    "vendeg_nev": "Jakab Áron",
                                    "foglalas_szam": "6"
                                },
                                {
                                    "sorszám": "54",
                                    "vendeg_id": "ARPADM",
                                    "vendeg_nev": "Móricz Árpád",
                                    "foglalas_szam": "6"
                                },
                                {
                                    "sorszám": "54",
                                    "vendeg_id": "attila1",
                                    "vendeg_nev": "Gulyás Attila",
                                    "foglalas_szam": "6"
                                },
                                {
                                    "sorszám": "54",
                                    "vendeg_id": "balazs1",
                                    "vendeg_nev": "Bozsik Balázs",
                                    "foglalas_szam": "6"
                                },
                                {
                                    "sorszám": "54",
                                    "vendeg_id": "balazs3",
                                    "vendeg_nev": "Bakódy Balázs",
                                    "foglalas_szam": "6"
                                },
                                {
                                    "sorszám": "54",
                                    "vendeg_id": "beata4",
                                    "vendeg_nev": "Bagi Beáta",
                                    "foglalas_szam": "6"
                                },
                                {
                                    "sorszám": "54",
                                    "vendeg_id": "BEATRIXS",
                                    "vendeg_nev": "Szekendi Beatrix",
                                    "foglalas_szam": "6"
                                },
                                {
                                    "sorszám": "54",
                                    "vendeg_id": "BELAF",
                                    "vendeg_nev": "Farkas Béla",
                                    "foglalas_szam": "6"
                                },
                                {
                                    "sorszám": "54",
                                    "vendeg_id": "BENCEB",
                                    "vendeg_nev": "Bajusz Bence",
                                    "foglalas_szam": "6"
                                },
                                {
                                    "sorszám": "54",
                                    "vendeg_id": "bertalan",
                                    "vendeg_nev": "Csiger Bertalan",
                                    "foglalas_szam": "6"
                                },
                                {
                                    "sorszám": "54",
                                    "vendeg_id": "david1",
                                    "vendeg_nev": "Sobják Dávid",
                                    "foglalas_szam": "6"
                                },
                                {
                                    "sorszám": "54",
                                    "vendeg_id": "denes",
                                    "vendeg_nev": "Tömböly Dénes",
                                    "foglalas_szam": "6"
                                },
                                {
                                    "sorszám": "54",
                                    "vendeg_id": "gabor1",
                                    "vendeg_nev": "Köves Gábor",
                                    "foglalas_szam": "6"
                                },
                                {
                                    "sorszám": "54",
                                    "vendeg_id": "gabriella1",
                                    "vendeg_nev": "Nagy Gabriella",
                                    "foglalas_szam": "6"
                                },
                                {
                                    "sorszám": "54",
                                    "vendeg_id": "katalin4",
                                    "vendeg_nev": "Kertész Katalin",
                                    "foglalas_szam": "6"
                                },
                                {
                                    "sorszám": "54",
                                    "vendeg_id": "kriszti",
                                    "vendeg_nev": "Horváth Krisztina",
                                    "foglalas_szam": "6"
                                },
                                {
                                    "sorszám": "54",
                                    "vendeg_id": "KRISZTIANM",
                                    "vendeg_nev": "Mogyródi Krisztián",
                                    "foglalas_szam": "6"
                                },
                                {
                                    "sorszám": "54",
                                    "vendeg_id": "krisztina1",
                                    "vendeg_nev": "Bori Krisztina",
                                    "foglalas_szam": "6"
                                },
                                {
                                    "sorszám": "54",
                                    "vendeg_id": "lala",
                                    "vendeg_nev": "Nagymihály Lajos",
                                    "foglalas_szam": "6"
                                },
                                {
                                    "sorszám": "54",
                                    "vendeg_id": "LASZLON",
                                    "vendeg_nev": "Nagy László",
                                    "foglalas_szam": "6"
                                },
                                {
                                    "sorszám": "54",
                                    "vendeg_id": "MONIKAM",
                                    "vendeg_nev": "Mohos Mónika",
                                    "foglalas_szam": "6"
                                },
                                {
                                    "sorszám": "54",
                                    "vendeg_id": "peter3",
                                    "vendeg_nev": "Szalai Péter",
                                    "foglalas_szam": "6"
                                },
                                {
                                    "sorszám": "54",
                                    "vendeg_id": "polla",
                                    "vendeg_nev": "Palágyi Polla",
                                    "foglalas_szam": "6"
                                },
                                {
                                    "sorszám": "54",
                                    "vendeg_id": "RENATAK",
                                    "vendeg_nev": "Kardos Renáta",
                                    "foglalas_szam": "6"
                                },
                                {
                                    "sorszám": "54",
                                    "vendeg_id": "tihamer",
                                    "vendeg_nev": "Kazy Tihamér",
                                    "foglalas_szam": "6"
                                },
                                {
                                    "sorszám": "54",
                                    "vendeg_id": "veronika4",
                                    "vendeg_nev": "Tankó Veronika",
                                    "foglalas_szam": "6"
                                },
                                {
                                    "sorszám": "54",
                                    "vendeg_id": "ZOLTANP",
                                    "vendeg_nev": "Pintér Zoltán",
                                    "foglalas_szam": "6"
                                },
                                {
                                    "sorszám": "54",
                                    "vendeg_id": "ZSOLTJ",
                                    "vendeg_nev": "Józsa Zsolt",
                                    "foglalas_szam": "6"
                                },
                                {
                                    "sorszám": "54",
                                    "vendeg_id": "ZSUZSAV",
                                    "vendeg_nev": "Vajda Zsuzsa",
                                    "foglalas_szam": "6"
                                },
                                {
                                    "sorszám": "87",
                                    "vendeg_id": "agnes",
                                    "vendeg_nev": "Lengyel Ágnes",
                                    "foglalas_szam": "5"
                                },
                                {
                                    "sorszám": "87",
                                    "vendeg_id": "andi",
                                    "vendeg_nev": "Maródi Andrea",
                                    "foglalas_szam": "5"
                                },
                                {
                                    "sorszám": "87",
                                    "vendeg_id": "andras2",
                                    "vendeg_nev": "Tóth András",
                                    "foglalas_szam": "5"
                                },
                                {
                                    "sorszám": "87",
                                    "vendeg_id": "ANDRASE",
                                    "vendeg_nev": "Erdei András",
                                    "foglalas_szam": "5"
                                },
                                {
                                    "sorszám": "87",
                                    "vendeg_id": "brigitta",
                                    "vendeg_nev": "Székely Brigitta",
                                    "foglalas_szam": "5"
                                },
                                {
                                    "sorszám": "87",
                                    "vendeg_id": "brigitta3",
                                    "vendeg_nev": "Pataki Brigitta",
                                    "foglalas_szam": "5"
                                },
                                {
                                    "sorszám": "87",
                                    "vendeg_id": "dora3",
                                    "vendeg_nev": "Sarodi Dóra",
                                    "foglalas_szam": "5"
                                },
                                {
                                    "sorszám": "87",
                                    "vendeg_id": "EVAV",
                                    "vendeg_nev": "Viktor Éva",
                                    "foglalas_szam": "5"
                                },
                                {
                                    "sorszám": "87",
                                    "vendeg_id": "gusztav",
                                    "vendeg_nev": "Bárci Gusztáv",
                                    "foglalas_szam": "5"
                                },
                                {
                                    "sorszám": "87",
                                    "vendeg_id": "janos3",
                                    "vendeg_nev": "Harangozó János",
                                    "foglalas_szam": "5"
                                },
                                {
                                    "sorszám": "87",
                                    "vendeg_id": "jozsef2",
                                    "vendeg_nev": "Vajda József",
                                    "foglalas_szam": "5"
                                },
                                {
                                    "sorszám": "87",
                                    "vendeg_id": "julia",
                                    "vendeg_nev": "Tóth Júlia",
                                    "foglalas_szam": "5"
                                },
                                {
                                    "sorszám": "87",
                                    "vendeg_id": "KRISZTINAG",
                                    "vendeg_nev": "Gyárfás Krisztina",
                                    "foglalas_szam": "5"
                                },
                                {
                                    "sorszám": "87",
                                    "vendeg_id": "laszlo2",
                                    "vendeg_nev": "Móra László",
                                    "foglalas_szam": "5"
                                },
                                {
                                    "sorszám": "87",
                                    "vendeg_id": "mark",
                                    "vendeg_nev": "Kispál Márk",
                                    "foglalas_szam": "5"
                                },
                                {
                                    "sorszám": "87",
                                    "vendeg_id": "MIHALYJ",
                                    "vendeg_nev": "Juhász Mihály",
                                    "foglalas_szam": "5"
                                },
                                {
                                    "sorszám": "87",
                                    "vendeg_id": "norbert",
                                    "vendeg_nev": "Szűcs Norbert",
                                    "foglalas_szam": "5"
                                },
                                {
                                    "sorszám": "87",
                                    "vendeg_id": "pal",
                                    "vendeg_nev": "Barabás Pál",
                                    "foglalas_szam": "5"
                                },
                                {
                                    "sorszám": "87",
                                    "vendeg_id": "PETERB",
                                    "vendeg_nev": "Berendi Péter",
                                    "foglalas_szam": "5"
                                },
                                {
                                    "sorszám": "87",
                                    "vendeg_id": "reka4",
                                    "vendeg_nev": "Szikszai Réka",
                                    "foglalas_szam": "5"
                                },
                                {
                                    "sorszám": "87",
                                    "vendeg_id": "RENATAS",
                                    "vendeg_nev": "Szirmai Renáta",
                                    "foglalas_szam": "5"
                                },
                                {
                                    "sorszám": "87",
                                    "vendeg_id": "sandor3",
                                    "vendeg_nev": "Farkas Sándor",
                                    "foglalas_szam": "5"
                                },
                                {
                                    "sorszám": "87",
                                    "vendeg_id": "SEBASTIANF",
                                    "vendeg_nev": "Foltényi Sebastián",
                                    "foglalas_szam": "5"
                                },
                                {
                                    "sorszám": "87",
                                    "vendeg_id": "timea2",
                                    "vendeg_nev": "Dusha Tímea",
                                    "foglalas_szam": "5"
                                },
                                {
                                    "sorszám": "87",
                                    "vendeg_id": "valentin",
                                    "vendeg_nev": "Feró Valentin",
                                    "foglalas_szam": "5"
                                },
                                {
                                    "sorszám": "112",
                                    "vendeg_id": "andrea4",
                                    "vendeg_nev": "Neizer Andrea",
                                    "foglalas_szam": "4"
                                },
                                {
                                    "sorszám": "112",
                                    "vendeg_id": "aniko4",
                                    "vendeg_nev": "Böröcz Anikó",
                                    "foglalas_szam": "4"
                                },
                                {
                                    "sorszám": "112",
                                    "vendeg_id": "anita",
                                    "vendeg_nev": "Hamvay-Kovács Anita",
                                    "foglalas_szam": "4"
                                },
                                {
                                    "sorszám": "112",
                                    "vendeg_id": "ATTILAO",
                                    "vendeg_nev": "Opra Attila",
                                    "foglalas_szam": "4"
                                },
                                {
                                    "sorszám": "112",
                                    "vendeg_id": "debora",
                                    "vendeg_nev": "Barna Debóra",
                                    "foglalas_szam": "4"
                                },
                                {
                                    "sorszám": "112",
                                    "vendeg_id": "eszter",
                                    "vendeg_nev": "Molnár Eszter",
                                    "foglalas_szam": "4"
                                },
                                {
                                    "sorszám": "112",
                                    "vendeg_id": "ESZTERE",
                                    "vendeg_nev": "Érsek Eszter",
                                    "foglalas_szam": "4"
                                },
                                {
                                    "sorszám": "112",
                                    "vendeg_id": "eva2",
                                    "vendeg_nev": "Perlinger Éva",
                                    "foglalas_szam": "4"
                                },
                                {
                                    "sorszám": "112",
                                    "vendeg_id": "ferenc1",
                                    "vendeg_nev": "Orosz Ferenc",
                                    "foglalas_szam": "4"
                                },
                                {
                                    "sorszám": "112",
                                    "vendeg_id": "gabor4",
                                    "vendeg_nev": "Telek Gábor",
                                    "foglalas_szam": "4"
                                },
                                {
                                    "sorszám": "112",
                                    "vendeg_id": "georgij",
                                    "vendeg_nev": "Nyíri Georgij",
                                    "foglalas_szam": "4"
                                },
                                {
                                    "sorszám": "112",
                                    "vendeg_id": "ilona3",
                                    "vendeg_nev": "Bosnyák Ilona",
                                    "foglalas_szam": "4"
                                },
                                {
                                    "sorszám": "112",
                                    "vendeg_id": "istvan1",
                                    "vendeg_nev": "Vizi István",
                                    "foglalas_szam": "4"
                                },
                                {
                                    "sorszám": "112",
                                    "vendeg_id": "JANOSP",
                                    "vendeg_nev": "Pálinkás János",
                                    "foglalas_szam": "4"
                                },
                                {
                                    "sorszám": "112",
                                    "vendeg_id": "julianna4",
                                    "vendeg_nev": "Szabó Julianna",
                                    "foglalas_szam": "4"
                                },
                                {
                                    "sorszám": "112",
                                    "vendeg_id": "LASZLOA",
                                    "vendeg_nev": "Antal László",
                                    "foglalas_szam": "4"
                                },
                                {
                                    "sorszám": "112",
                                    "vendeg_id": "MARKH",
                                    "vendeg_nev": "Horváth Márk",
                                    "foglalas_szam": "4"
                                },
                                {
                                    "sorszám": "112",
                                    "vendeg_id": "nikolett3",
                                    "vendeg_nev": "Horváth Nikolett",
                                    "foglalas_szam": "4"
                                },
                                {
                                    "sorszám": "112",
                                    "vendeg_id": "NIKOLETTAT",
                                    "vendeg_nev": "Tatár Nikoletta",
                                    "foglalas_szam": "4"
                                },
                                {
                                    "sorszám": "112",
                                    "vendeg_id": "peter1",
                                    "vendeg_nev": "Kozma Péter",
                                    "foglalas_szam": "4"
                                },
                                {
                                    "sorszám": "112",
                                    "vendeg_id": "peter2",
                                    "vendeg_nev": "Bozsó Péter",
                                    "foglalas_szam": "4"
                                },
                                {
                                    "sorszám": "112",
                                    "vendeg_id": "rajmond4",
                                    "vendeg_nev": "Rácz Rajmond",
                                    "foglalas_szam": "4"
                                },
                                {
                                    "sorszám": "112",
                                    "vendeg_id": "robert2",
                                    "vendeg_nev": "Patay Róbert",
                                    "foglalas_szam": "4"
                                },
                                {
                                    "sorszám": "112",
                                    "vendeg_id": "roland",
                                    "vendeg_nev": "Tóth Roland",
                                    "foglalas_szam": "4"
                                },
                                {
                                    "sorszám": "112",
                                    "vendeg_id": "roland1",
                                    "vendeg_nev": "Ferencz Roland",
                                    "foglalas_szam": "4"
                                },
                                {
                                    "sorszám": "112",
                                    "vendeg_id": "sandor",
                                    "vendeg_nev": "Karasz Sándor",
                                    "foglalas_szam": "4"
                                },
                                {
                                    "sorszám": "112",
                                    "vendeg_id": "sandor4",
                                    "vendeg_nev": "Nagy Sándor",
                                    "foglalas_szam": "4"
                                },
                                {
                                    "sorszám": "112",
                                    "vendeg_id": "sebestyen",
                                    "vendeg_nev": "Rab Sebestyén",
                                    "foglalas_szam": "4"
                                },
                                {
                                    "sorszám": "112",
                                    "vendeg_id": "tamas",
                                    "vendeg_nev": "Antal Tamás",
                                    "foglalas_szam": "4"
                                },
                                {
                                    "sorszám": "112",
                                    "vendeg_id": "VIKTORIAU",
                                    "vendeg_nev": "Urbán Viktoria",
                                    "foglalas_szam": "4"
                                },
                                {
                                    "sorszám": "112",
                                    "vendeg_id": "zsolt1",
                                    "vendeg_nev": "Pulai Zsolt",
                                    "foglalas_szam": "4"
                                },
                                {
                                    "sorszám": "112",
                                    "vendeg_id": "zsuzsa3",
                                    "vendeg_nev": "Varsányi Zsuzsa",
                                    "foglalas_szam": "4"
                                },
                                {
                                    "sorszám": "112",
                                    "vendeg_id": "zsuzsanna",
                                    "vendeg_nev": "Barta Zsuzsanna",
                                    "foglalas_szam": "4"
                                },
                                {
                                    "sorszám": "145",
                                    "vendeg_id": "adam1",
                                    "vendeg_nev": "Kiss Ádám",
                                    "foglalas_szam": "3"
                                },
                                {
                                    "sorszám": "145",
                                    "vendeg_id": "agnes3",
                                    "vendeg_nev": "Hartyánszky Ágnes",
                                    "foglalas_szam": "3"
                                },
                                {
                                    "sorszám": "145",
                                    "vendeg_id": "AGNESK",
                                    "vendeg_nev": "Kovács Ágnes",
                                    "foglalas_szam": "3"
                                },
                                {
                                    "sorszám": "145",
                                    "vendeg_id": "aladar",
                                    "vendeg_nev": "Dunai Aladár",
                                    "foglalas_szam": "3"
                                },
                                {
                                    "sorszám": "145",
                                    "vendeg_id": "andras4",
                                    "vendeg_nev": "Back András",
                                    "foglalas_szam": "3"
                                },
                                {
                                    "sorszám": "145",
                                    "vendeg_id": "ANDREAT",
                                    "vendeg_nev": "Tornyos Andrea",
                                    "foglalas_szam": "3"
                                },
                                {
                                    "sorszám": "145",
                                    "vendeg_id": "aniko",
                                    "vendeg_nev": "Tóth Anikó",
                                    "foglalas_szam": "3"
                                },
                                {
                                    "sorszám": "145",
                                    "vendeg_id": "attila",
                                    "vendeg_nev": "Csóti Attila",
                                    "foglalas_szam": "3"
                                },
                                {
                                    "sorszám": "145",
                                    "vendeg_id": "attila4",
                                    "vendeg_nev": "Baróti Attila",
                                    "foglalas_szam": "3"
                                },
                                {
                                    "sorszám": "145",
                                    "vendeg_id": "balint",
                                    "vendeg_nev": "Horváth Bálint",
                                    "foglalas_szam": "3"
                                },
                                {
                                    "sorszám": "145",
                                    "vendeg_id": "eszter4",
                                    "vendeg_nev": "Fülöp Eszter",
                                    "foglalas_szam": "3"
                                },
                                {
                                    "sorszám": "145",
                                    "vendeg_id": "henrik3",
                                    "vendeg_nev": "Nádudvari Henrik",
                                    "foglalas_szam": "3"
                                },
                                {
                                    "sorszám": "145",
                                    "vendeg_id": "IBOLYAA",
                                    "vendeg_nev": "Andor Ibolya",
                                    "foglalas_szam": "3"
                                },
                                {
                                    "sorszám": "145",
                                    "vendeg_id": "istvan",
                                    "vendeg_nev": "Soós István",
                                    "foglalas_szam": "3"
                                },
                                {
                                    "sorszám": "145",
                                    "vendeg_id": "jozsef",
                                    "vendeg_nev": "Gergely József",
                                    "foglalas_szam": "3"
                                },
                                {
                                    "sorszám": "145",
                                    "vendeg_id": "JUDITH",
                                    "vendeg_nev": "Hídasi Judit",
                                    "foglalas_szam": "3"
                                },
                                {
                                    "sorszám": "145",
                                    "vendeg_id": "klaudia2",
                                    "vendeg_nev": "Bakó Klaudia",
                                    "foglalas_szam": "3"
                                },
                                {
                                    "sorszám": "145",
                                    "vendeg_id": "kornel4",
                                    "vendeg_nev": "Lukács Kornél",
                                    "foglalas_szam": "3"
                                },
                                {
                                    "sorszám": "145",
                                    "vendeg_id": "lajos",
                                    "vendeg_nev": "Kiss Lajos",
                                    "foglalas_szam": "3"
                                },
                                {
                                    "sorszám": "145",
                                    "vendeg_id": "MATEK",
                                    "vendeg_nev": "Koza Máté",
                                    "foglalas_szam": "3"
                                },
                                {
                                    "sorszám": "145",
                                    "vendeg_id": "miklos2",
                                    "vendeg_nev": "Gondos Miklós",
                                    "foglalas_szam": "3"
                                },
                                {
                                    "sorszám": "145",
                                    "vendeg_id": "MIKLOSB",
                                    "vendeg_nev": "Balla Miklós",
                                    "foglalas_szam": "3"
                                },
                                {
                                    "sorszám": "145",
                                    "vendeg_id": "NANDORF",
                                    "vendeg_nev": "Fő Nándor",
                                    "foglalas_szam": "3"
                                },
                                {
                                    "sorszám": "145",
                                    "vendeg_id": "norbert5",
                                    "vendeg_nev": "Béres Norbert",
                                    "foglalas_szam": "3"
                                },
                                {
                                    "sorszám": "145",
                                    "vendeg_id": "roza2",
                                    "vendeg_nev": "Bucskó Róza",
                                    "foglalas_szam": "3"
                                },
                                {
                                    "sorszám": "145",
                                    "vendeg_id": "ZOLTANT",
                                    "vendeg_nev": "Tóth Zoltán",
                                    "foglalas_szam": "3"
                                },
                                {
                                    "sorszám": "145",
                                    "vendeg_id": "zsuzsa",
                                    "vendeg_nev": "Pusztai Zsuzsanna",
                                    "foglalas_szam": "3"
                                },
                                {
                                    "sorszám": "172",
                                    "vendeg_id": "adam3",
                                    "vendeg_nev": "Barkóci Ádám",
                                    "foglalas_szam": "2"
                                },
                                {
                                    "sorszám": "172",
                                    "vendeg_id": "annamaria1",
                                    "vendeg_nev": "Szűcs Annamária",
                                    "foglalas_szam": "2"
                                },
                                {
                                    "sorszám": "172",
                                    "vendeg_id": "balint2",
                                    "vendeg_nev": "Vukasinovity Bálint",
                                    "foglalas_szam": "2"
                                },
                                {
                                    "sorszám": "172",
                                    "vendeg_id": "balu",
                                    "vendeg_nev": "Endresz Bálint",
                                    "foglalas_szam": "2"
                                },
                                {
                                    "sorszám": "172",
                                    "vendeg_id": "eva",
                                    "vendeg_nev": "Enyedi Éva",
                                    "foglalas_szam": "2"
                                },
                                {
                                    "sorszám": "172",
                                    "vendeg_id": "imre",
                                    "vendeg_nev": "Búza Imre",
                                    "foglalas_szam": "2"
                                },
                                {
                                    "sorszám": "172",
                                    "vendeg_id": "ISTVANV",
                                    "vendeg_nev": "Varga István",
                                    "foglalas_szam": "2"
                                },
                                {
                                    "sorszám": "172",
                                    "vendeg_id": "julia4",
                                    "vendeg_nev": "Nagy Júlia",
                                    "foglalas_szam": "2"
                                },
                                {
                                    "sorszám": "172",
                                    "vendeg_id": "kristof4",
                                    "vendeg_nev": "Poprádi Kristóf",
                                    "foglalas_szam": "2"
                                },
                                {
                                    "sorszám": "172",
                                    "vendeg_id": "matyas2",
                                    "vendeg_nev": "Botka Mátyás",
                                    "foglalas_szam": "2"
                                },
                                {
                                    "sorszám": "172",
                                    "vendeg_id": "ROBERTP",
                                    "vendeg_nev": "Pásztor Róbert",
                                    "foglalas_szam": "2"
                                },
                                {
                                    "sorszám": "172",
                                    "vendeg_id": "tamara2",
                                    "vendeg_nev": "Miklós Tamara",
                                    "foglalas_szam": "2"
                                },
                                {
                                    "sorszám": "172",
                                    "vendeg_id": "tibor",
                                    "vendeg_nev": "Gombos Tibor",
                                    "foglalas_szam": "2"
                                },
                                {
                                    "sorszám": "172",
                                    "vendeg_id": "VIKTORK",
                                    "vendeg_nev": "Keresztúri Viktor",
                                    "foglalas_szam": "2"
                                },
                                {
                                    "sorszám": "172",
                                    "vendeg_id": "zoltan",
                                    "vendeg_nev": "Fodor Zoltán",
                                    "foglalas_szam": "2"
                                },
                                {
                                    "sorszám": "172",
                                    "vendeg_id": "zsofi1",
                                    "vendeg_nev": "Molnár Zsófi",
                                    "foglalas_szam": "2"
                                },
                                {
                                    "sorszám": "188",
                                    "vendeg_id": "ANDRASN",
                                    "vendeg_nev": "Nagy András",
                                    "foglalas_szam": "1"
                                },
                                {
                                    "sorszám": "188",
                                    "vendeg_id": "andrea3",
                                    "vendeg_nev": "Szomor Andrea",
                                    "foglalas_szam": "1"
                                },
                                {
                                    "sorszám": "188",
                                    "vendeg_id": "david4",
                                    "vendeg_nev": "Berta Dávid",
                                    "foglalas_szam": "1"
                                },
                                {
                                    "sorszám": "188",
                                    "vendeg_id": "gabriella10",
                                    "vendeg_nev": "Vida Gabriella",
                                    "foglalas_szam": "1"
                                },
                                {
                                    "sorszám": "188",
                                    "vendeg_id": "laszlo1",
                                    "vendeg_nev": "Farkas László",
                                    "foglalas_szam": "1"
                                },
                                {
                                    "sorszám": "188",
                                    "vendeg_id": "szabolcs",
                                    "vendeg_nev": "Bodor Szabolcs",
                                    "foglalas_szam": "1"
                                },
                                {
                                    "sorszám": "188",
                                    "vendeg_id": "tibor2",
                                    "vendeg_nev": "Dániel Tibor",
                                    "foglalas_szam": "1"
                                },
                                {
                                    "sorszám": "188",
                                    "vendeg_id": "timea",
                                    "vendeg_nev": "Papós Tímea",
                                    "foglalas_szam": "1"
                                }
                            ]
                        },
                        "text/html": [
                            "<table>",
                            "<tr><th>sorszám</th><th>vendeg_id</th><th>vendeg_nev</th><th>foglalas_szam</th></tr>",
                            "<tr><td>1</td><td>andras41</td><td>Komjáti András</td><td>13</td></tr>",
                            "<tr><td>1</td><td>ARONK</td><td>Kelemen Áron</td><td>13</td></tr>",
                            "<tr><td>3</td><td>krisztian4</td><td>Czérna Krisztián</td><td>12</td></tr>",
                            "<tr><td>3</td><td>peter4</td><td>Bíró Péter</td><td>12</td></tr>",
                            "<tr><td>3</td><td>sara</td><td>Farkas Sára</td><td>12</td></tr>",
                            "<tr><td>3</td><td>zoltan4</td><td>Barna Zoltán</td><td>12</td></tr>",
                            "<tr><td>7</td><td>akos</td><td>Bíró Ákos</td><td>10</td></tr>",
                            "<tr><td>7</td><td>balazs2</td><td>Szűcs Balázs</td><td>10</td></tr>",
                            "<tr><td>7</td><td>balint1</td><td>Molnár Bálint</td><td>10</td></tr>",
                            "<tr><td>7</td><td>eszter2</td><td>Balogh Eszter</td><td>10</td></tr>",
                            "<tr><td>7</td><td>kata</td><td>Gondos Katalin</td><td>10</td></tr>",
                            "<tr><td>12</td><td>ANIKOS</td><td>Simon Anikó</td><td>9</td></tr>",
                            "<tr><td>12</td><td>BEATRIXK</td><td>Kerényi Beatrix</td><td>9</td></tr>",
                            "<tr><td>12</td><td>bence</td><td>Győrffy Bence</td><td>9</td></tr>",
                            "<tr><td>12</td><td>dani</td><td>Vörös Dániel</td><td>9</td></tr>",
                            "<tr><td>12</td><td>daniel</td><td>Rácz Dániel</td><td>9</td></tr>",
                            "<tr><td>12</td><td>david</td><td>Ambrus Dávid</td><td>9</td></tr>",
                            "<tr><td>12</td><td>katalin</td><td>Horváth Katalin</td><td>9</td></tr>",
                            "<tr><td>12</td><td>katka</td><td>Kovács Katalin</td><td>9</td></tr>",
                            "<tr><td>12</td><td>norbert4</td><td>Mile Norbert</td><td>9</td></tr>",
                            "<tr><td>12</td><td>szilvia1</td><td>Tari Szilvia</td><td>9</td></tr>",
                            "<tr><td>12</td><td>TAMASF</td><td>Fényes Tamás</td><td>9</td></tr>",
                            "<tr><td>23</td><td>andras3</td><td>Vígh András</td><td>8</td></tr>",
                            "<tr><td>23</td><td>anett3</td><td>Pivarcsi Anett</td><td>8</td></tr>",
                            "<tr><td>23</td><td>bernadett2</td><td>Kovács Bernadett</td><td>8</td></tr>",
                            "<tr><td>23</td><td>csongor3</td><td>Nagymihály Csongor</td><td>8</td></tr>",
                            "<tr><td>23</td><td>fruzsina4</td><td>Frank Fruzsina</td><td>8</td></tr>",
                            "<tr><td>23</td><td>GYORGYO</td><td>Oroszi György</td><td>8</td></tr>",
                            "<tr><td>23</td><td>krisztina</td><td>Szedlár Krisztina</td><td>8</td></tr>",
                            "<tr><td>23</td><td>maria1</td><td>Baráth Mária</td><td>8</td></tr>",
                            "<tr><td>23</td><td>MATYASS</td><td>Szilágyi Mátyás</td><td>8</td></tr>",
                            "<tr><td>23</td><td>ROBERTI</td><td>Iván Róbert</td><td>8</td></tr>",
                            "<tr><td>23</td><td>tunde</td><td>Turcsik Tünde</td><td>8</td></tr>",
                            "<tr><td>34</td><td>alexandra</td><td>Bagóczki Alexandra</td><td>7</td></tr>",
                            "<tr><td>34</td><td>andras21</td><td>Molnár András</td><td>7</td></tr>",
                            "<tr><td>34</td><td>arpad2</td><td>Ötvös Árpád</td><td>7</td></tr>",
                            "<tr><td>34</td><td>ARPADH</td><td>Horváth Árpád</td><td>7</td></tr>",
                            "<tr><td>34</td><td>bernadett1</td><td>Simon Bernadett</td><td>7</td></tr>",
                            "<tr><td>34</td><td>BERNADETTO</td><td>Orbán Bernadett</td><td>7</td></tr>",
                            "<tr><td>34</td><td>daniel1</td><td>Keszler Dániel</td><td>7</td></tr>",
                            "<tr><td>34</td><td>edit</td><td>Bittmann Edit</td><td>7</td></tr>",
                            "<tr><td>34</td><td>emese</td><td>Kuruc Emese</td><td>7</td></tr>",
                            "<tr><td>34</td><td>GYONGYIK</td><td>Kornseé Gyöngyi</td><td>7</td></tr>",
                            "<tr><td>34</td><td>imre1</td><td>Papp Imre</td><td>7</td></tr>",
                            "<tr><td>34</td><td>JANOSG</td><td>Giliga János</td><td>7</td></tr>",
                            "<tr><td>34</td><td>JOZSEFG</td><td>Gyuris József</td><td>7</td></tr>",
                            "<tr><td>34</td><td>kati</td><td>Zatykó Katalin</td><td>7</td></tr>",
                            "<tr><td>34</td><td>marton</td><td>Kalacsi Márton</td><td>7</td></tr>",
                            "<tr><td>34</td><td>nikoletta4</td><td>Kő Nikoletta</td><td>7</td></tr>",
                            "<tr><td>34</td><td>norbert2</td><td>Hegedűs Norbert</td><td>7</td></tr>",
                            "<tr><td>34</td><td>SZABOLCSM</td><td>Miklós Szabolcs</td><td>7</td></tr>",
                            "<tr><td>34</td><td>SZILARDS</td><td>Szalai Szilárd</td><td>7</td></tr>",
                            "<tr><td>34</td><td>vivien3</td><td>Boros Vivien</td><td>7</td></tr>",
                            "<tr><td>54</td><td>adam4</td><td>Bieniek Ádám</td><td>6</td></tr>",
                            "<tr><td>54</td><td>AGNESH</td><td>Horváth Ágnes</td><td>6</td></tr>",
                            "<tr><td>54</td><td>andrea</td><td>Kiss Andrea</td><td>6</td></tr>",
                            "<tr><td>54</td><td>ANNAMARIAR</td><td>Regős Annamária</td><td>6</td></tr>",
                            "<tr><td>54</td><td>aron2</td><td>Jakab Áron</td><td>6</td></tr>",
                            "<tr><td>54</td><td>ARPADM</td><td>Móricz Árpád</td><td>6</td></tr>",
                            "<tr><td>54</td><td>attila1</td><td>Gulyás Attila</td><td>6</td></tr>",
                            "<tr><td>54</td><td>balazs1</td><td>Bozsik Balázs</td><td>6</td></tr>",
                            "<tr><td>54</td><td>balazs3</td><td>Bakódy Balázs</td><td>6</td></tr>",
                            "<tr><td>54</td><td>beata4</td><td>Bagi Beáta</td><td>6</td></tr>",
                            "<tr><td>54</td><td>BEATRIXS</td><td>Szekendi Beatrix</td><td>6</td></tr>",
                            "<tr><td>54</td><td>BELAF</td><td>Farkas Béla</td><td>6</td></tr>",
                            "<tr><td>54</td><td>BENCEB</td><td>Bajusz Bence</td><td>6</td></tr>",
                            "<tr><td>54</td><td>bertalan</td><td>Csiger Bertalan</td><td>6</td></tr>",
                            "<tr><td>54</td><td>david1</td><td>Sobják Dávid</td><td>6</td></tr>",
                            "<tr><td>54</td><td>denes</td><td>Tömböly Dénes</td><td>6</td></tr>",
                            "<tr><td>54</td><td>gabor1</td><td>Köves Gábor</td><td>6</td></tr>",
                            "<tr><td>54</td><td>gabriella1</td><td>Nagy Gabriella</td><td>6</td></tr>",
                            "<tr><td>54</td><td>katalin4</td><td>Kertész Katalin</td><td>6</td></tr>",
                            "<tr><td>54</td><td>kriszti</td><td>Horváth Krisztina</td><td>6</td></tr>",
                            "<tr><td>54</td><td>KRISZTIANM</td><td>Mogyródi Krisztián</td><td>6</td></tr>",
                            "<tr><td>54</td><td>krisztina1</td><td>Bori Krisztina</td><td>6</td></tr>",
                            "<tr><td>54</td><td>lala</td><td>Nagymihály Lajos</td><td>6</td></tr>",
                            "<tr><td>54</td><td>LASZLON</td><td>Nagy László</td><td>6</td></tr>",
                            "<tr><td>54</td><td>MONIKAM</td><td>Mohos Mónika</td><td>6</td></tr>",
                            "<tr><td>54</td><td>peter3</td><td>Szalai Péter</td><td>6</td></tr>",
                            "<tr><td>54</td><td>polla</td><td>Palágyi Polla</td><td>6</td></tr>",
                            "<tr><td>54</td><td>RENATAK</td><td>Kardos Renáta</td><td>6</td></tr>",
                            "<tr><td>54</td><td>tihamer</td><td>Kazy Tihamér</td><td>6</td></tr>",
                            "<tr><td>54</td><td>veronika4</td><td>Tankó Veronika</td><td>6</td></tr>",
                            "<tr><td>54</td><td>ZOLTANP</td><td>Pintér Zoltán</td><td>6</td></tr>",
                            "<tr><td>54</td><td>ZSOLTJ</td><td>Józsa Zsolt</td><td>6</td></tr>",
                            "<tr><td>54</td><td>ZSUZSAV</td><td>Vajda Zsuzsa</td><td>6</td></tr>",
                            "<tr><td>87</td><td>agnes</td><td>Lengyel Ágnes</td><td>5</td></tr>",
                            "<tr><td>87</td><td>andi</td><td>Maródi Andrea</td><td>5</td></tr>",
                            "<tr><td>87</td><td>andras2</td><td>Tóth András</td><td>5</td></tr>",
                            "<tr><td>87</td><td>ANDRASE</td><td>Erdei András</td><td>5</td></tr>",
                            "<tr><td>87</td><td>brigitta</td><td>Székely Brigitta</td><td>5</td></tr>",
                            "<tr><td>87</td><td>brigitta3</td><td>Pataki Brigitta</td><td>5</td></tr>",
                            "<tr><td>87</td><td>dora3</td><td>Sarodi Dóra</td><td>5</td></tr>",
                            "<tr><td>87</td><td>EVAV</td><td>Viktor Éva</td><td>5</td></tr>",
                            "<tr><td>87</td><td>gusztav</td><td>Bárci Gusztáv</td><td>5</td></tr>",
                            "<tr><td>87</td><td>janos3</td><td>Harangozó János</td><td>5</td></tr>",
                            "<tr><td>87</td><td>jozsef2</td><td>Vajda József</td><td>5</td></tr>",
                            "<tr><td>87</td><td>julia</td><td>Tóth Júlia</td><td>5</td></tr>",
                            "<tr><td>87</td><td>KRISZTINAG</td><td>Gyárfás Krisztina</td><td>5</td></tr>",
                            "<tr><td>87</td><td>laszlo2</td><td>Móra László</td><td>5</td></tr>",
                            "<tr><td>87</td><td>mark</td><td>Kispál Márk</td><td>5</td></tr>",
                            "<tr><td>87</td><td>MIHALYJ</td><td>Juhász Mihály</td><td>5</td></tr>",
                            "<tr><td>87</td><td>norbert</td><td>Szűcs Norbert</td><td>5</td></tr>",
                            "<tr><td>87</td><td>pal</td><td>Barabás Pál</td><td>5</td></tr>",
                            "<tr><td>87</td><td>PETERB</td><td>Berendi Péter</td><td>5</td></tr>",
                            "<tr><td>87</td><td>reka4</td><td>Szikszai Réka</td><td>5</td></tr>",
                            "<tr><td>87</td><td>RENATAS</td><td>Szirmai Renáta</td><td>5</td></tr>",
                            "<tr><td>87</td><td>sandor3</td><td>Farkas Sándor</td><td>5</td></tr>",
                            "<tr><td>87</td><td>SEBASTIANF</td><td>Foltényi Sebastián</td><td>5</td></tr>",
                            "<tr><td>87</td><td>timea2</td><td>Dusha Tímea</td><td>5</td></tr>",
                            "<tr><td>87</td><td>valentin</td><td>Feró Valentin</td><td>5</td></tr>",
                            "<tr><td>112</td><td>andrea4</td><td>Neizer Andrea</td><td>4</td></tr>",
                            "<tr><td>112</td><td>aniko4</td><td>Böröcz Anikó</td><td>4</td></tr>",
                            "<tr><td>112</td><td>anita</td><td>Hamvay-Kovács Anita</td><td>4</td></tr>",
                            "<tr><td>112</td><td>ATTILAO</td><td>Opra Attila</td><td>4</td></tr>",
                            "<tr><td>112</td><td>debora</td><td>Barna Debóra</td><td>4</td></tr>",
                            "<tr><td>112</td><td>eszter</td><td>Molnár Eszter</td><td>4</td></tr>",
                            "<tr><td>112</td><td>ESZTERE</td><td>Érsek Eszter</td><td>4</td></tr>",
                            "<tr><td>112</td><td>eva2</td><td>Perlinger Éva</td><td>4</td></tr>",
                            "<tr><td>112</td><td>ferenc1</td><td>Orosz Ferenc</td><td>4</td></tr>",
                            "<tr><td>112</td><td>gabor4</td><td>Telek Gábor</td><td>4</td></tr>",
                            "<tr><td>112</td><td>georgij</td><td>Nyíri Georgij</td><td>4</td></tr>",
                            "<tr><td>112</td><td>ilona3</td><td>Bosnyák Ilona</td><td>4</td></tr>",
                            "<tr><td>112</td><td>istvan1</td><td>Vizi István</td><td>4</td></tr>",
                            "<tr><td>112</td><td>JANOSP</td><td>Pálinkás János</td><td>4</td></tr>",
                            "<tr><td>112</td><td>julianna4</td><td>Szabó Julianna</td><td>4</td></tr>",
                            "<tr><td>112</td><td>LASZLOA</td><td>Antal László</td><td>4</td></tr>",
                            "<tr><td>112</td><td>MARKH</td><td>Horváth Márk</td><td>4</td></tr>",
                            "<tr><td>112</td><td>nikolett3</td><td>Horváth Nikolett</td><td>4</td></tr>",
                            "<tr><td>112</td><td>NIKOLETTAT</td><td>Tatár Nikoletta</td><td>4</td></tr>",
                            "<tr><td>112</td><td>peter1</td><td>Kozma Péter</td><td>4</td></tr>",
                            "<tr><td>112</td><td>peter2</td><td>Bozsó Péter</td><td>4</td></tr>",
                            "<tr><td>112</td><td>rajmond4</td><td>Rácz Rajmond</td><td>4</td></tr>",
                            "<tr><td>112</td><td>robert2</td><td>Patay Róbert</td><td>4</td></tr>",
                            "<tr><td>112</td><td>roland</td><td>Tóth Roland</td><td>4</td></tr>",
                            "<tr><td>112</td><td>roland1</td><td>Ferencz Roland</td><td>4</td></tr>",
                            "<tr><td>112</td><td>sandor</td><td>Karasz Sándor</td><td>4</td></tr>",
                            "<tr><td>112</td><td>sandor4</td><td>Nagy Sándor</td><td>4</td></tr>",
                            "<tr><td>112</td><td>sebestyen</td><td>Rab Sebestyén</td><td>4</td></tr>",
                            "<tr><td>112</td><td>tamas</td><td>Antal Tamás</td><td>4</td></tr>",
                            "<tr><td>112</td><td>VIKTORIAU</td><td>Urbán Viktoria</td><td>4</td></tr>",
                            "<tr><td>112</td><td>zsolt1</td><td>Pulai Zsolt</td><td>4</td></tr>",
                            "<tr><td>112</td><td>zsuzsa3</td><td>Varsányi Zsuzsa</td><td>4</td></tr>",
                            "<tr><td>112</td><td>zsuzsanna</td><td>Barta Zsuzsanna</td><td>4</td></tr>",
                            "<tr><td>145</td><td>adam1</td><td>Kiss Ádám</td><td>3</td></tr>",
                            "<tr><td>145</td><td>agnes3</td><td>Hartyánszky Ágnes</td><td>3</td></tr>",
                            "<tr><td>145</td><td>AGNESK</td><td>Kovács Ágnes</td><td>3</td></tr>",
                            "<tr><td>145</td><td>aladar</td><td>Dunai Aladár</td><td>3</td></tr>",
                            "<tr><td>145</td><td>andras4</td><td>Back András</td><td>3</td></tr>",
                            "<tr><td>145</td><td>ANDREAT</td><td>Tornyos Andrea</td><td>3</td></tr>",
                            "<tr><td>145</td><td>aniko</td><td>Tóth Anikó</td><td>3</td></tr>",
                            "<tr><td>145</td><td>attila</td><td>Csóti Attila</td><td>3</td></tr>",
                            "<tr><td>145</td><td>attila4</td><td>Baróti Attila</td><td>3</td></tr>",
                            "<tr><td>145</td><td>balint</td><td>Horváth Bálint</td><td>3</td></tr>",
                            "<tr><td>145</td><td>eszter4</td><td>Fülöp Eszter</td><td>3</td></tr>",
                            "<tr><td>145</td><td>henrik3</td><td>Nádudvari Henrik</td><td>3</td></tr>",
                            "<tr><td>145</td><td>IBOLYAA</td><td>Andor Ibolya</td><td>3</td></tr>",
                            "<tr><td>145</td><td>istvan</td><td>Soós István</td><td>3</td></tr>",
                            "<tr><td>145</td><td>jozsef</td><td>Gergely József</td><td>3</td></tr>",
                            "<tr><td>145</td><td>JUDITH</td><td>Hídasi Judit</td><td>3</td></tr>",
                            "<tr><td>145</td><td>klaudia2</td><td>Bakó Klaudia</td><td>3</td></tr>",
                            "<tr><td>145</td><td>kornel4</td><td>Lukács Kornél</td><td>3</td></tr>",
                            "<tr><td>145</td><td>lajos</td><td>Kiss Lajos</td><td>3</td></tr>",
                            "<tr><td>145</td><td>MATEK</td><td>Koza Máté</td><td>3</td></tr>",
                            "<tr><td>145</td><td>miklos2</td><td>Gondos Miklós</td><td>3</td></tr>",
                            "<tr><td>145</td><td>MIKLOSB</td><td>Balla Miklós</td><td>3</td></tr>",
                            "<tr><td>145</td><td>NANDORF</td><td>Fő Nándor</td><td>3</td></tr>",
                            "<tr><td>145</td><td>norbert5</td><td>Béres Norbert</td><td>3</td></tr>",
                            "<tr><td>145</td><td>roza2</td><td>Bucskó Róza</td><td>3</td></tr>",
                            "<tr><td>145</td><td>ZOLTANT</td><td>Tóth Zoltán</td><td>3</td></tr>",
                            "<tr><td>145</td><td>zsuzsa</td><td>Pusztai Zsuzsanna</td><td>3</td></tr>",
                            "<tr><td>172</td><td>adam3</td><td>Barkóci Ádám</td><td>2</td></tr>",
                            "<tr><td>172</td><td>annamaria1</td><td>Szűcs Annamária</td><td>2</td></tr>",
                            "<tr><td>172</td><td>balint2</td><td>Vukasinovity Bálint</td><td>2</td></tr>",
                            "<tr><td>172</td><td>balu</td><td>Endresz Bálint</td><td>2</td></tr>",
                            "<tr><td>172</td><td>eva</td><td>Enyedi Éva</td><td>2</td></tr>",
                            "<tr><td>172</td><td>imre</td><td>Búza Imre</td><td>2</td></tr>",
                            "<tr><td>172</td><td>ISTVANV</td><td>Varga István</td><td>2</td></tr>",
                            "<tr><td>172</td><td>julia4</td><td>Nagy Júlia</td><td>2</td></tr>",
                            "<tr><td>172</td><td>kristof4</td><td>Poprádi Kristóf</td><td>2</td></tr>",
                            "<tr><td>172</td><td>matyas2</td><td>Botka Mátyás</td><td>2</td></tr>",
                            "<tr><td>172</td><td>ROBERTP</td><td>Pásztor Róbert</td><td>2</td></tr>",
                            "<tr><td>172</td><td>tamara2</td><td>Miklós Tamara</td><td>2</td></tr>",
                            "<tr><td>172</td><td>tibor</td><td>Gombos Tibor</td><td>2</td></tr>",
                            "<tr><td>172</td><td>VIKTORK</td><td>Keresztúri Viktor</td><td>2</td></tr>",
                            "<tr><td>172</td><td>zoltan</td><td>Fodor Zoltán</td><td>2</td></tr>",
                            "<tr><td>172</td><td>zsofi1</td><td>Molnár Zsófi</td><td>2</td></tr>",
                            "<tr><td>188</td><td>ANDRASN</td><td>Nagy András</td><td>1</td></tr>",
                            "<tr><td>188</td><td>andrea3</td><td>Szomor Andrea</td><td>1</td></tr>",
                            "<tr><td>188</td><td>david4</td><td>Berta Dávid</td><td>1</td></tr>",
                            "<tr><td>188</td><td>gabriella10</td><td>Vida Gabriella</td><td>1</td></tr>",
                            "<tr><td>188</td><td>laszlo1</td><td>Farkas László</td><td>1</td></tr>",
                            "<tr><td>188</td><td>szabolcs</td><td>Bodor Szabolcs</td><td>1</td></tr>",
                            "<tr><td>188</td><td>tibor2</td><td>Dániel Tibor</td><td>1</td></tr>",
                            "<tr><td>188</td><td>timea</td><td>Papós Tímea</td><td>1</td></tr>",
                            "</table>"
                        ]
                    }
                }
            ],
            "execution_count": 18
        },
        {
            "cell_type": "code",
            "source": [
                "\r\n",
                "WITH SzobaSzam AS (\r\n",
                "    SELECT\r\n",
                "        SZOBA.SZOBA_ID,\r\n",
                "        FOGLALAS.METTOL,\r\n",
                "        COUNT(FOGLALAS_PK) AS napi_count\r\n",
                "    FROM FOGLALAS\r\n",
                "    INNER JOIN SZOBA ON FOGLALAS.SZOBA_FK = SZOBA.SZOBA_ID\r\n",
                "    GROUP BY SZOBA.SZOBA_ID, FOGLALAS.METTOL\r\n",
                "    HAVING COUNT(FOGLALAS.FOGLALAS_PK) >= 2\r\n",
                "),\r\n",
                "\r\n",
                "NapiSzam AS (\r\n",
                "    SELECT\r\n",
                "        SZOBA.SZOBA_ID,\r\n",
                "        COUNT(FOGLALAS.FOGLALAS_PK) AS szoba_count\r\n",
                "    FROM FOGLALAS\r\n",
                "    INNER JOIN SZOBA ON FOGLALAS.SZOBA_FK = SZOBA.SZOBA_ID\r\n",
                "    GROUP BY SZOBA.SZOBA_ID\r\n",
                "    HAVING COUNT(FOGLALAS.FOGLALAS_PK) >= 2\r\n",
                ")\r\n",
                "\r\n",
                "SELECT \r\n",
                "    'Naponkénti foglalások' AS viewpoint,\r\n",
                "    SZOBA_ID,\r\n",
                "    METTOL AS day,\r\n",
                "    napi_count AS booking_count\r\n",
                "FROM SzobaSzam\r\n",
                "\r\n",
                "UNION ALL\r\n",
                "\r\n",
                "SELECT\r\n",
                "    'Szobánkénti foglalások' AS viewpoint,\r\n",
                "    SZOBA_ID,\r\n",
                "    NULL AS day,\r\n",
                "    szoba_count AS booking_count\r\n",
                "FROM NapiSzam\r\n",
                "ORDER BY viewpoint, SZOBA_ID, day;\r\n",
                ""
            ],
            "metadata": {
                "azdata_cell_guid": "f127b7c3-bcc7-4b74-8e72-ee90f762ea08",
                "language": "sql"
            },
            "outputs": [
                {
                    "output_type": "display_data",
                    "data": {
                        "text/html": "(200 rows affected)"
                    },
                    "metadata": {}
                },
                {
                    "output_type": "display_data",
                    "data": {
                        "text/html": "Total execution time: 00:00:00.021"
                    },
                    "metadata": {}
                },
                {
                    "output_type": "execute_result",
                    "metadata": {},
                    "execution_count": 21,
                    "data": {
                        "application/vnd.dataresource+json": {
                            "schema": {
                                "fields": [
                                    {
                                        "name": "viewpoint"
                                    },
                                    {
                                        "name": "SZOBA_ID"
                                    },
                                    {
                                        "name": "day"
                                    },
                                    {
                                        "name": "booking_count"
                                    }
                                ]
                            },
                            "data": [
                                {
                                    "viewpoint": "Naponkénti foglalások",
                                    "SZOBA_ID": "20",
                                    "day": "2016-10-01",
                                    "booking_count": "2"
                                },
                                {
                                    "viewpoint": "Naponkénti foglalások",
                                    "SZOBA_ID": "40",
                                    "day": "2016-06-07",
                                    "booking_count": "2"
                                },
                                {
                                    "viewpoint": "Naponkénti foglalások",
                                    "SZOBA_ID": "45",
                                    "day": "2016-08-20",
                                    "booking_count": "2"
                                },
                                {
                                    "viewpoint": "Naponkénti foglalások",
                                    "SZOBA_ID": "97",
                                    "day": "2016-07-27",
                                    "booking_count": "2"
                                },
                                {
                                    "viewpoint": "Naponkénti foglalások",
                                    "SZOBA_ID": "148",
                                    "day": "2016-08-23",
                                    "booking_count": "2"
                                },
                                {
                                    "viewpoint": "Naponkénti foglalások",
                                    "SZOBA_ID": "150",
                                    "day": "2016-10-01",
                                    "booking_count": "2"
                                },
                                {
                                    "viewpoint": "Naponkénti foglalások",
                                    "SZOBA_ID": "160",
                                    "day": "2016-06-07",
                                    "booking_count": "2"
                                },
                                {
                                    "viewpoint": "Naponkénti foglalások",
                                    "SZOBA_ID": "165",
                                    "day": "2016-06-03",
                                    "booking_count": "3"
                                },
                                {
                                    "viewpoint": "Naponkénti foglalások",
                                    "SZOBA_ID": "182",
                                    "day": "2016-10-30",
                                    "booking_count": "2"
                                },
                                {
                                    "viewpoint": "Szobánkénti foglalások",
                                    "SZOBA_ID": "1",
                                    "day": "NULL",
                                    "booking_count": "8"
                                },
                                {
                                    "viewpoint": "Szobánkénti foglalások",
                                    "SZOBA_ID": "2",
                                    "day": "NULL",
                                    "booking_count": "4"
                                },
                                {
                                    "viewpoint": "Szobánkénti foglalások",
                                    "SZOBA_ID": "3",
                                    "day": "NULL",
                                    "booking_count": "8"
                                },
                                {
                                    "viewpoint": "Szobánkénti foglalások",
                                    "SZOBA_ID": "4",
                                    "day": "NULL",
                                    "booking_count": "6"
                                },
                                {
                                    "viewpoint": "Szobánkénti foglalások",
                                    "SZOBA_ID": "5",
                                    "day": "NULL",
                                    "booking_count": "4"
                                },
                                {
                                    "viewpoint": "Szobánkénti foglalások",
                                    "SZOBA_ID": "6",
                                    "day": "NULL",
                                    "booking_count": "6"
                                },
                                {
                                    "viewpoint": "Szobánkénti foglalások",
                                    "SZOBA_ID": "7",
                                    "day": "NULL",
                                    "booking_count": "6"
                                },
                                {
                                    "viewpoint": "Szobánkénti foglalások",
                                    "SZOBA_ID": "8",
                                    "day": "NULL",
                                    "booking_count": "5"
                                },
                                {
                                    "viewpoint": "Szobánkénti foglalások",
                                    "SZOBA_ID": "9",
                                    "day": "NULL",
                                    "booking_count": "6"
                                },
                                {
                                    "viewpoint": "Szobánkénti foglalások",
                                    "SZOBA_ID": "10",
                                    "day": "NULL",
                                    "booking_count": "4"
                                },
                                {
                                    "viewpoint": "Szobánkénti foglalások",
                                    "SZOBA_ID": "11",
                                    "day": "NULL",
                                    "booking_count": "4"
                                },
                                {
                                    "viewpoint": "Szobánkénti foglalások",
                                    "SZOBA_ID": "12",
                                    "day": "NULL",
                                    "booking_count": "9"
                                },
                                {
                                    "viewpoint": "Szobánkénti foglalások",
                                    "SZOBA_ID": "13",
                                    "day": "NULL",
                                    "booking_count": "4"
                                },
                                {
                                    "viewpoint": "Szobánkénti foglalások",
                                    "SZOBA_ID": "14",
                                    "day": "NULL",
                                    "booking_count": "3"
                                },
                                {
                                    "viewpoint": "Szobánkénti foglalások",
                                    "SZOBA_ID": "15",
                                    "day": "NULL",
                                    "booking_count": "6"
                                },
                                {
                                    "viewpoint": "Szobánkénti foglalások",
                                    "SZOBA_ID": "16",
                                    "day": "NULL",
                                    "booking_count": "5"
                                },
                                {
                                    "viewpoint": "Szobánkénti foglalások",
                                    "SZOBA_ID": "17",
                                    "day": "NULL",
                                    "booking_count": "6"
                                },
                                {
                                    "viewpoint": "Szobánkénti foglalások",
                                    "SZOBA_ID": "18",
                                    "day": "NULL",
                                    "booking_count": "6"
                                },
                                {
                                    "viewpoint": "Szobánkénti foglalások",
                                    "SZOBA_ID": "19",
                                    "day": "NULL",
                                    "booking_count": "6"
                                },
                                {
                                    "viewpoint": "Szobánkénti foglalások",
                                    "SZOBA_ID": "20",
                                    "day": "NULL",
                                    "booking_count": "5"
                                },
                                {
                                    "viewpoint": "Szobánkénti foglalások",
                                    "SZOBA_ID": "21",
                                    "day": "NULL",
                                    "booking_count": "4"
                                },
                                {
                                    "viewpoint": "Szobánkénti foglalások",
                                    "SZOBA_ID": "22",
                                    "day": "NULL",
                                    "booking_count": "6"
                                },
                                {
                                    "viewpoint": "Szobánkénti foglalások",
                                    "SZOBA_ID": "23",
                                    "day": "NULL",
                                    "booking_count": "3"
                                },
                                {
                                    "viewpoint": "Szobánkénti foglalások",
                                    "SZOBA_ID": "24",
                                    "day": "NULL",
                                    "booking_count": "3"
                                },
                                {
                                    "viewpoint": "Szobánkénti foglalások",
                                    "SZOBA_ID": "25",
                                    "day": "NULL",
                                    "booking_count": "2"
                                },
                                {
                                    "viewpoint": "Szobánkénti foglalások",
                                    "SZOBA_ID": "26",
                                    "day": "NULL",
                                    "booking_count": "2"
                                },
                                {
                                    "viewpoint": "Szobánkénti foglalások",
                                    "SZOBA_ID": "27",
                                    "day": "NULL",
                                    "booking_count": "7"
                                },
                                {
                                    "viewpoint": "Szobánkénti foglalások",
                                    "SZOBA_ID": "28",
                                    "day": "NULL",
                                    "booking_count": "6"
                                },
                                {
                                    "viewpoint": "Szobánkénti foglalások",
                                    "SZOBA_ID": "29",
                                    "day": "NULL",
                                    "booking_count": "6"
                                },
                                {
                                    "viewpoint": "Szobánkénti foglalások",
                                    "SZOBA_ID": "30",
                                    "day": "NULL",
                                    "booking_count": "3"
                                },
                                {
                                    "viewpoint": "Szobánkénti foglalások",
                                    "SZOBA_ID": "31",
                                    "day": "NULL",
                                    "booking_count": "3"
                                },
                                {
                                    "viewpoint": "Szobánkénti foglalások",
                                    "SZOBA_ID": "33",
                                    "day": "NULL",
                                    "booking_count": "6"
                                },
                                {
                                    "viewpoint": "Szobánkénti foglalások",
                                    "SZOBA_ID": "34",
                                    "day": "NULL",
                                    "booking_count": "4"
                                },
                                {
                                    "viewpoint": "Szobánkénti foglalások",
                                    "SZOBA_ID": "35",
                                    "day": "NULL",
                                    "booking_count": "9"
                                },
                                {
                                    "viewpoint": "Szobánkénti foglalások",
                                    "SZOBA_ID": "36",
                                    "day": "NULL",
                                    "booking_count": "6"
                                },
                                {
                                    "viewpoint": "Szobánkénti foglalások",
                                    "SZOBA_ID": "37",
                                    "day": "NULL",
                                    "booking_count": "3"
                                },
                                {
                                    "viewpoint": "Szobánkénti foglalások",
                                    "SZOBA_ID": "38",
                                    "day": "NULL",
                                    "booking_count": "8"
                                },
                                {
                                    "viewpoint": "Szobánkénti foglalások",
                                    "SZOBA_ID": "39",
                                    "day": "NULL",
                                    "booking_count": "7"
                                },
                                {
                                    "viewpoint": "Szobánkénti foglalások",
                                    "SZOBA_ID": "40",
                                    "day": "NULL",
                                    "booking_count": "4"
                                },
                                {
                                    "viewpoint": "Szobánkénti foglalások",
                                    "SZOBA_ID": "41",
                                    "day": "NULL",
                                    "booking_count": "2"
                                },
                                {
                                    "viewpoint": "Szobánkénti foglalások",
                                    "SZOBA_ID": "42",
                                    "day": "NULL",
                                    "booking_count": "6"
                                },
                                {
                                    "viewpoint": "Szobánkénti foglalások",
                                    "SZOBA_ID": "43",
                                    "day": "NULL",
                                    "booking_count": "8"
                                },
                                {
                                    "viewpoint": "Szobánkénti foglalások",
                                    "SZOBA_ID": "44",
                                    "day": "NULL",
                                    "booking_count": "6"
                                },
                                {
                                    "viewpoint": "Szobánkénti foglalások",
                                    "SZOBA_ID": "45",
                                    "day": "NULL",
                                    "booking_count": "5"
                                },
                                {
                                    "viewpoint": "Szobánkénti foglalások",
                                    "SZOBA_ID": "46",
                                    "day": "NULL",
                                    "booking_count": "4"
                                },
                                {
                                    "viewpoint": "Szobánkénti foglalások",
                                    "SZOBA_ID": "47",
                                    "day": "NULL",
                                    "booking_count": "2"
                                },
                                {
                                    "viewpoint": "Szobánkénti foglalások",
                                    "SZOBA_ID": "48",
                                    "day": "NULL",
                                    "booking_count": "9"
                                },
                                {
                                    "viewpoint": "Szobánkénti foglalások",
                                    "SZOBA_ID": "49",
                                    "day": "NULL",
                                    "booking_count": "7"
                                },
                                {
                                    "viewpoint": "Szobánkénti foglalások",
                                    "SZOBA_ID": "50",
                                    "day": "NULL",
                                    "booking_count": "4"
                                },
                                {
                                    "viewpoint": "Szobánkénti foglalások",
                                    "SZOBA_ID": "51",
                                    "day": "NULL",
                                    "booking_count": "5"
                                },
                                {
                                    "viewpoint": "Szobánkénti foglalások",
                                    "SZOBA_ID": "52",
                                    "day": "NULL",
                                    "booking_count": "5"
                                },
                                {
                                    "viewpoint": "Szobánkénti foglalások",
                                    "SZOBA_ID": "53",
                                    "day": "NULL",
                                    "booking_count": "2"
                                },
                                {
                                    "viewpoint": "Szobánkénti foglalások",
                                    "SZOBA_ID": "54",
                                    "day": "NULL",
                                    "booking_count": "6"
                                },
                                {
                                    "viewpoint": "Szobánkénti foglalások",
                                    "SZOBA_ID": "55",
                                    "day": "NULL",
                                    "booking_count": "8"
                                },
                                {
                                    "viewpoint": "Szobánkénti foglalások",
                                    "SZOBA_ID": "56",
                                    "day": "NULL",
                                    "booking_count": "2"
                                },
                                {
                                    "viewpoint": "Szobánkénti foglalások",
                                    "SZOBA_ID": "57",
                                    "day": "NULL",
                                    "booking_count": "4"
                                },
                                {
                                    "viewpoint": "Szobánkénti foglalások",
                                    "SZOBA_ID": "58",
                                    "day": "NULL",
                                    "booking_count": "13"
                                },
                                {
                                    "viewpoint": "Szobánkénti foglalások",
                                    "SZOBA_ID": "59",
                                    "day": "NULL",
                                    "booking_count": "7"
                                },
                                {
                                    "viewpoint": "Szobánkénti foglalások",
                                    "SZOBA_ID": "61",
                                    "day": "NULL",
                                    "booking_count": "5"
                                },
                                {
                                    "viewpoint": "Szobánkénti foglalások",
                                    "SZOBA_ID": "62",
                                    "day": "NULL",
                                    "booking_count": "5"
                                },
                                {
                                    "viewpoint": "Szobánkénti foglalások",
                                    "SZOBA_ID": "63",
                                    "day": "NULL",
                                    "booking_count": "4"
                                },
                                {
                                    "viewpoint": "Szobánkénti foglalások",
                                    "SZOBA_ID": "64",
                                    "day": "NULL",
                                    "booking_count": "6"
                                },
                                {
                                    "viewpoint": "Szobánkénti foglalások",
                                    "SZOBA_ID": "66",
                                    "day": "NULL",
                                    "booking_count": "4"
                                },
                                {
                                    "viewpoint": "Szobánkénti foglalások",
                                    "SZOBA_ID": "67",
                                    "day": "NULL",
                                    "booking_count": "6"
                                },
                                {
                                    "viewpoint": "Szobánkénti foglalások",
                                    "SZOBA_ID": "68",
                                    "day": "NULL",
                                    "booking_count": "3"
                                },
                                {
                                    "viewpoint": "Szobánkénti foglalások",
                                    "SZOBA_ID": "69",
                                    "day": "NULL",
                                    "booking_count": "4"
                                },
                                {
                                    "viewpoint": "Szobánkénti foglalások",
                                    "SZOBA_ID": "70",
                                    "day": "NULL",
                                    "booking_count": "11"
                                },
                                {
                                    "viewpoint": "Szobánkénti foglalások",
                                    "SZOBA_ID": "71",
                                    "day": "NULL",
                                    "booking_count": "3"
                                },
                                {
                                    "viewpoint": "Szobánkénti foglalások",
                                    "SZOBA_ID": "72",
                                    "day": "NULL",
                                    "booking_count": "4"
                                },
                                {
                                    "viewpoint": "Szobánkénti foglalások",
                                    "SZOBA_ID": "73",
                                    "day": "NULL",
                                    "booking_count": "4"
                                },
                                {
                                    "viewpoint": "Szobánkénti foglalások",
                                    "SZOBA_ID": "74",
                                    "day": "NULL",
                                    "booking_count": "9"
                                },
                                {
                                    "viewpoint": "Szobánkénti foglalások",
                                    "SZOBA_ID": "75",
                                    "day": "NULL",
                                    "booking_count": "3"
                                },
                                {
                                    "viewpoint": "Szobánkénti foglalások",
                                    "SZOBA_ID": "76",
                                    "day": "NULL",
                                    "booking_count": "3"
                                },
                                {
                                    "viewpoint": "Szobánkénti foglalások",
                                    "SZOBA_ID": "77",
                                    "day": "NULL",
                                    "booking_count": "6"
                                },
                                {
                                    "viewpoint": "Szobánkénti foglalások",
                                    "SZOBA_ID": "78",
                                    "day": "NULL",
                                    "booking_count": "6"
                                },
                                {
                                    "viewpoint": "Szobánkénti foglalások",
                                    "SZOBA_ID": "79",
                                    "day": "NULL",
                                    "booking_count": "5"
                                },
                                {
                                    "viewpoint": "Szobánkénti foglalások",
                                    "SZOBA_ID": "80",
                                    "day": "NULL",
                                    "booking_count": "7"
                                },
                                {
                                    "viewpoint": "Szobánkénti foglalások",
                                    "SZOBA_ID": "81",
                                    "day": "NULL",
                                    "booking_count": "5"
                                },
                                {
                                    "viewpoint": "Szobánkénti foglalások",
                                    "SZOBA_ID": "82",
                                    "day": "NULL",
                                    "booking_count": "6"
                                },
                                {
                                    "viewpoint": "Szobánkénti foglalások",
                                    "SZOBA_ID": "83",
                                    "day": "NULL",
                                    "booking_count": "8"
                                },
                                {
                                    "viewpoint": "Szobánkénti foglalások",
                                    "SZOBA_ID": "84",
                                    "day": "NULL",
                                    "booking_count": "4"
                                },
                                {
                                    "viewpoint": "Szobánkénti foglalások",
                                    "SZOBA_ID": "85",
                                    "day": "NULL",
                                    "booking_count": "4"
                                },
                                {
                                    "viewpoint": "Szobánkénti foglalások",
                                    "SZOBA_ID": "86",
                                    "day": "NULL",
                                    "booking_count": "5"
                                },
                                {
                                    "viewpoint": "Szobánkénti foglalások",
                                    "SZOBA_ID": "87",
                                    "day": "NULL",
                                    "booking_count": "5"
                                },
                                {
                                    "viewpoint": "Szobánkénti foglalások",
                                    "SZOBA_ID": "88",
                                    "day": "NULL",
                                    "booking_count": "8"
                                },
                                {
                                    "viewpoint": "Szobánkénti foglalások",
                                    "SZOBA_ID": "89",
                                    "day": "NULL",
                                    "booking_count": "8"
                                },
                                {
                                    "viewpoint": "Szobánkénti foglalások",
                                    "SZOBA_ID": "90",
                                    "day": "NULL",
                                    "booking_count": "4"
                                },
                                {
                                    "viewpoint": "Szobánkénti foglalások",
                                    "SZOBA_ID": "91",
                                    "day": "NULL",
                                    "booking_count": "4"
                                },
                                {
                                    "viewpoint": "Szobánkénti foglalások",
                                    "SZOBA_ID": "92",
                                    "day": "NULL",
                                    "booking_count": "6"
                                },
                                {
                                    "viewpoint": "Szobánkénti foglalások",
                                    "SZOBA_ID": "93",
                                    "day": "NULL",
                                    "booking_count": "5"
                                },
                                {
                                    "viewpoint": "Szobánkénti foglalások",
                                    "SZOBA_ID": "94",
                                    "day": "NULL",
                                    "booking_count": "10"
                                },
                                {
                                    "viewpoint": "Szobánkénti foglalások",
                                    "SZOBA_ID": "95",
                                    "day": "NULL",
                                    "booking_count": "4"
                                },
                                {
                                    "viewpoint": "Szobánkénti foglalások",
                                    "SZOBA_ID": "96",
                                    "day": "NULL",
                                    "booking_count": "7"
                                },
                                {
                                    "viewpoint": "Szobánkénti foglalások",
                                    "SZOBA_ID": "97",
                                    "day": "NULL",
                                    "booking_count": "7"
                                },
                                {
                                    "viewpoint": "Szobánkénti foglalások",
                                    "SZOBA_ID": "98",
                                    "day": "NULL",
                                    "booking_count": "4"
                                },
                                {
                                    "viewpoint": "Szobánkénti foglalások",
                                    "SZOBA_ID": "99",
                                    "day": "NULL",
                                    "booking_count": "5"
                                },
                                {
                                    "viewpoint": "Szobánkénti foglalások",
                                    "SZOBA_ID": "100",
                                    "day": "NULL",
                                    "booking_count": "4"
                                },
                                {
                                    "viewpoint": "Szobánkénti foglalások",
                                    "SZOBA_ID": "101",
                                    "day": "NULL",
                                    "booking_count": "3"
                                },
                                {
                                    "viewpoint": "Szobánkénti foglalások",
                                    "SZOBA_ID": "102",
                                    "day": "NULL",
                                    "booking_count": "2"
                                },
                                {
                                    "viewpoint": "Szobánkénti foglalások",
                                    "SZOBA_ID": "103",
                                    "day": "NULL",
                                    "booking_count": "4"
                                },
                                {
                                    "viewpoint": "Szobánkénti foglalások",
                                    "SZOBA_ID": "104",
                                    "day": "NULL",
                                    "booking_count": "4"
                                },
                                {
                                    "viewpoint": "Szobánkénti foglalások",
                                    "SZOBA_ID": "105",
                                    "day": "NULL",
                                    "booking_count": "2"
                                },
                                {
                                    "viewpoint": "Szobánkénti foglalások",
                                    "SZOBA_ID": "106",
                                    "day": "NULL",
                                    "booking_count": "6"
                                },
                                {
                                    "viewpoint": "Szobánkénti foglalások",
                                    "SZOBA_ID": "107",
                                    "day": "NULL",
                                    "booking_count": "5"
                                },
                                {
                                    "viewpoint": "Szobánkénti foglalások",
                                    "SZOBA_ID": "108",
                                    "day": "NULL",
                                    "booking_count": "2"
                                },
                                {
                                    "viewpoint": "Szobánkénti foglalások",
                                    "SZOBA_ID": "109",
                                    "day": "NULL",
                                    "booking_count": "7"
                                },
                                {
                                    "viewpoint": "Szobánkénti foglalások",
                                    "SZOBA_ID": "110",
                                    "day": "NULL",
                                    "booking_count": "8"
                                },
                                {
                                    "viewpoint": "Szobánkénti foglalások",
                                    "SZOBA_ID": "111",
                                    "day": "NULL",
                                    "booking_count": "5"
                                },
                                {
                                    "viewpoint": "Szobánkénti foglalások",
                                    "SZOBA_ID": "112",
                                    "day": "NULL",
                                    "booking_count": "5"
                                },
                                {
                                    "viewpoint": "Szobánkénti foglalások",
                                    "SZOBA_ID": "113",
                                    "day": "NULL",
                                    "booking_count": "5"
                                },
                                {
                                    "viewpoint": "Szobánkénti foglalások",
                                    "SZOBA_ID": "114",
                                    "day": "NULL",
                                    "booking_count": "4"
                                },
                                {
                                    "viewpoint": "Szobánkénti foglalások",
                                    "SZOBA_ID": "115",
                                    "day": "NULL",
                                    "booking_count": "7"
                                },
                                {
                                    "viewpoint": "Szobánkénti foglalások",
                                    "SZOBA_ID": "116",
                                    "day": "NULL",
                                    "booking_count": "2"
                                },
                                {
                                    "viewpoint": "Szobánkénti foglalások",
                                    "SZOBA_ID": "117",
                                    "day": "NULL",
                                    "booking_count": "8"
                                },
                                {
                                    "viewpoint": "Szobánkénti foglalások",
                                    "SZOBA_ID": "118",
                                    "day": "NULL",
                                    "booking_count": "7"
                                },
                                {
                                    "viewpoint": "Szobánkénti foglalások",
                                    "SZOBA_ID": "119",
                                    "day": "NULL",
                                    "booking_count": "5"
                                },
                                {
                                    "viewpoint": "Szobánkénti foglalások",
                                    "SZOBA_ID": "120",
                                    "day": "NULL",
                                    "booking_count": "6"
                                },
                                {
                                    "viewpoint": "Szobánkénti foglalások",
                                    "SZOBA_ID": "121",
                                    "day": "NULL",
                                    "booking_count": "8"
                                },
                                {
                                    "viewpoint": "Szobánkénti foglalások",
                                    "SZOBA_ID": "122",
                                    "day": "NULL",
                                    "booking_count": "9"
                                },
                                {
                                    "viewpoint": "Szobánkénti foglalások",
                                    "SZOBA_ID": "123",
                                    "day": "NULL",
                                    "booking_count": "5"
                                },
                                {
                                    "viewpoint": "Szobánkénti foglalások",
                                    "SZOBA_ID": "124",
                                    "day": "NULL",
                                    "booking_count": "6"
                                },
                                {
                                    "viewpoint": "Szobánkénti foglalások",
                                    "SZOBA_ID": "126",
                                    "day": "NULL",
                                    "booking_count": "6"
                                },
                                {
                                    "viewpoint": "Szobánkénti foglalások",
                                    "SZOBA_ID": "127",
                                    "day": "NULL",
                                    "booking_count": "7"
                                },
                                {
                                    "viewpoint": "Szobánkénti foglalások",
                                    "SZOBA_ID": "128",
                                    "day": "NULL",
                                    "booking_count": "5"
                                },
                                {
                                    "viewpoint": "Szobánkénti foglalások",
                                    "SZOBA_ID": "129",
                                    "day": "NULL",
                                    "booking_count": "4"
                                },
                                {
                                    "viewpoint": "Szobánkénti foglalások",
                                    "SZOBA_ID": "130",
                                    "day": "NULL",
                                    "booking_count": "6"
                                },
                                {
                                    "viewpoint": "Szobánkénti foglalások",
                                    "SZOBA_ID": "131",
                                    "day": "NULL",
                                    "booking_count": "5"
                                },
                                {
                                    "viewpoint": "Szobánkénti foglalások",
                                    "SZOBA_ID": "132",
                                    "day": "NULL",
                                    "booking_count": "6"
                                },
                                {
                                    "viewpoint": "Szobánkénti foglalások",
                                    "SZOBA_ID": "133",
                                    "day": "NULL",
                                    "booking_count": "6"
                                },
                                {
                                    "viewpoint": "Szobánkénti foglalások",
                                    "SZOBA_ID": "134",
                                    "day": "NULL",
                                    "booking_count": "6"
                                },
                                {
                                    "viewpoint": "Szobánkénti foglalások",
                                    "SZOBA_ID": "135",
                                    "day": "NULL",
                                    "booking_count": "3"
                                },
                                {
                                    "viewpoint": "Szobánkénti foglalások",
                                    "SZOBA_ID": "136",
                                    "day": "NULL",
                                    "booking_count": "3"
                                },
                                {
                                    "viewpoint": "Szobánkénti foglalások",
                                    "SZOBA_ID": "137",
                                    "day": "NULL",
                                    "booking_count": "6"
                                },
                                {
                                    "viewpoint": "Szobánkénti foglalások",
                                    "SZOBA_ID": "138",
                                    "day": "NULL",
                                    "booking_count": "7"
                                },
                                {
                                    "viewpoint": "Szobánkénti foglalások",
                                    "SZOBA_ID": "139",
                                    "day": "NULL",
                                    "booking_count": "7"
                                },
                                {
                                    "viewpoint": "Szobánkénti foglalások",
                                    "SZOBA_ID": "140",
                                    "day": "NULL",
                                    "booking_count": "8"
                                },
                                {
                                    "viewpoint": "Szobánkénti foglalások",
                                    "SZOBA_ID": "141",
                                    "day": "NULL",
                                    "booking_count": "6"
                                },
                                {
                                    "viewpoint": "Szobánkénti foglalások",
                                    "SZOBA_ID": "142",
                                    "day": "NULL",
                                    "booking_count": "2"
                                },
                                {
                                    "viewpoint": "Szobánkénti foglalások",
                                    "SZOBA_ID": "143",
                                    "day": "NULL",
                                    "booking_count": "7"
                                },
                                {
                                    "viewpoint": "Szobánkénti foglalások",
                                    "SZOBA_ID": "144",
                                    "day": "NULL",
                                    "booking_count": "5"
                                },
                                {
                                    "viewpoint": "Szobánkénti foglalások",
                                    "SZOBA_ID": "145",
                                    "day": "NULL",
                                    "booking_count": "6"
                                },
                                {
                                    "viewpoint": "Szobánkénti foglalások",
                                    "SZOBA_ID": "146",
                                    "day": "NULL",
                                    "booking_count": "6"
                                },
                                {
                                    "viewpoint": "Szobánkénti foglalások",
                                    "SZOBA_ID": "148",
                                    "day": "NULL",
                                    "booking_count": "6"
                                },
                                {
                                    "viewpoint": "Szobánkénti foglalások",
                                    "SZOBA_ID": "149",
                                    "day": "NULL",
                                    "booking_count": "7"
                                },
                                {
                                    "viewpoint": "Szobánkénti foglalások",
                                    "SZOBA_ID": "150",
                                    "day": "NULL",
                                    "booking_count": "6"
                                },
                                {
                                    "viewpoint": "Szobánkénti foglalások",
                                    "SZOBA_ID": "151",
                                    "day": "NULL",
                                    "booking_count": "3"
                                },
                                {
                                    "viewpoint": "Szobánkénti foglalások",
                                    "SZOBA_ID": "152",
                                    "day": "NULL",
                                    "booking_count": "4"
                                },
                                {
                                    "viewpoint": "Szobánkénti foglalások",
                                    "SZOBA_ID": "153",
                                    "day": "NULL",
                                    "booking_count": "5"
                                },
                                {
                                    "viewpoint": "Szobánkénti foglalások",
                                    "SZOBA_ID": "154",
                                    "day": "NULL",
                                    "booking_count": "5"
                                },
                                {
                                    "viewpoint": "Szobánkénti foglalások",
                                    "SZOBA_ID": "155",
                                    "day": "NULL",
                                    "booking_count": "5"
                                },
                                {
                                    "viewpoint": "Szobánkénti foglalások",
                                    "SZOBA_ID": "156",
                                    "day": "NULL",
                                    "booking_count": "7"
                                },
                                {
                                    "viewpoint": "Szobánkénti foglalások",
                                    "SZOBA_ID": "157",
                                    "day": "NULL",
                                    "booking_count": "5"
                                },
                                {
                                    "viewpoint": "Szobánkénti foglalások",
                                    "SZOBA_ID": "158",
                                    "day": "NULL",
                                    "booking_count": "3"
                                },
                                {
                                    "viewpoint": "Szobánkénti foglalások",
                                    "SZOBA_ID": "160",
                                    "day": "NULL",
                                    "booking_count": "5"
                                },
                                {
                                    "viewpoint": "Szobánkénti foglalások",
                                    "SZOBA_ID": "161",
                                    "day": "NULL",
                                    "booking_count": "6"
                                },
                                {
                                    "viewpoint": "Szobánkénti foglalások",
                                    "SZOBA_ID": "162",
                                    "day": "NULL",
                                    "booking_count": "3"
                                },
                                {
                                    "viewpoint": "Szobánkénti foglalások",
                                    "SZOBA_ID": "163",
                                    "day": "NULL",
                                    "booking_count": "7"
                                },
                                {
                                    "viewpoint": "Szobánkénti foglalások",
                                    "SZOBA_ID": "164",
                                    "day": "NULL",
                                    "booking_count": "5"
                                },
                                {
                                    "viewpoint": "Szobánkénti foglalások",
                                    "SZOBA_ID": "165",
                                    "day": "NULL",
                                    "booking_count": "7"
                                },
                                {
                                    "viewpoint": "Szobánkénti foglalások",
                                    "SZOBA_ID": "166",
                                    "day": "NULL",
                                    "booking_count": "3"
                                },
                                {
                                    "viewpoint": "Szobánkénti foglalások",
                                    "SZOBA_ID": "167",
                                    "day": "NULL",
                                    "booking_count": "2"
                                },
                                {
                                    "viewpoint": "Szobánkénti foglalások",
                                    "SZOBA_ID": "168",
                                    "day": "NULL",
                                    "booking_count": "5"
                                },
                                {
                                    "viewpoint": "Szobánkénti foglalások",
                                    "SZOBA_ID": "169",
                                    "day": "NULL",
                                    "booking_count": "6"
                                },
                                {
                                    "viewpoint": "Szobánkénti foglalások",
                                    "SZOBA_ID": "170",
                                    "day": "NULL",
                                    "booking_count": "5"
                                },
                                {
                                    "viewpoint": "Szobánkénti foglalások",
                                    "SZOBA_ID": "171",
                                    "day": "NULL",
                                    "booking_count": "5"
                                },
                                {
                                    "viewpoint": "Szobánkénti foglalások",
                                    "SZOBA_ID": "172",
                                    "day": "NULL",
                                    "booking_count": "9"
                                },
                                {
                                    "viewpoint": "Szobánkénti foglalások",
                                    "SZOBA_ID": "173",
                                    "day": "NULL",
                                    "booking_count": "4"
                                },
                                {
                                    "viewpoint": "Szobánkénti foglalások",
                                    "SZOBA_ID": "174",
                                    "day": "NULL",
                                    "booking_count": "4"
                                },
                                {
                                    "viewpoint": "Szobánkénti foglalások",
                                    "SZOBA_ID": "175",
                                    "day": "NULL",
                                    "booking_count": "5"
                                },
                                {
                                    "viewpoint": "Szobánkénti foglalások",
                                    "SZOBA_ID": "176",
                                    "day": "NULL",
                                    "booking_count": "6"
                                },
                                {
                                    "viewpoint": "Szobánkénti foglalások",
                                    "SZOBA_ID": "177",
                                    "day": "NULL",
                                    "booking_count": "4"
                                },
                                {
                                    "viewpoint": "Szobánkénti foglalások",
                                    "SZOBA_ID": "178",
                                    "day": "NULL",
                                    "booking_count": "4"
                                },
                                {
                                    "viewpoint": "Szobánkénti foglalások",
                                    "SZOBA_ID": "179",
                                    "day": "NULL",
                                    "booking_count": "3"
                                },
                                {
                                    "viewpoint": "Szobánkénti foglalások",
                                    "SZOBA_ID": "180",
                                    "day": "NULL",
                                    "booking_count": "3"
                                },
                                {
                                    "viewpoint": "Szobánkénti foglalások",
                                    "SZOBA_ID": "181",
                                    "day": "NULL",
                                    "booking_count": "6"
                                },
                                {
                                    "viewpoint": "Szobánkénti foglalások",
                                    "SZOBA_ID": "182",
                                    "day": "NULL",
                                    "booking_count": "12"
                                },
                                {
                                    "viewpoint": "Szobánkénti foglalások",
                                    "SZOBA_ID": "183",
                                    "day": "NULL",
                                    "booking_count": "4"
                                },
                                {
                                    "viewpoint": "Szobánkénti foglalások",
                                    "SZOBA_ID": "184",
                                    "day": "NULL",
                                    "booking_count": "4"
                                },
                                {
                                    "viewpoint": "Szobánkénti foglalások",
                                    "SZOBA_ID": "185",
                                    "day": "NULL",
                                    "booking_count": "12"
                                },
                                {
                                    "viewpoint": "Szobánkénti foglalások",
                                    "SZOBA_ID": "186",
                                    "day": "NULL",
                                    "booking_count": "4"
                                },
                                {
                                    "viewpoint": "Szobánkénti foglalások",
                                    "SZOBA_ID": "187",
                                    "day": "NULL",
                                    "booking_count": "7"
                                },
                                {
                                    "viewpoint": "Szobánkénti foglalások",
                                    "SZOBA_ID": "188",
                                    "day": "NULL",
                                    "booking_count": "6"
                                },
                                {
                                    "viewpoint": "Szobánkénti foglalások",
                                    "SZOBA_ID": "189",
                                    "day": "NULL",
                                    "booking_count": "5"
                                },
                                {
                                    "viewpoint": "Szobánkénti foglalások",
                                    "SZOBA_ID": "190",
                                    "day": "NULL",
                                    "booking_count": "5"
                                },
                                {
                                    "viewpoint": "Szobánkénti foglalások",
                                    "SZOBA_ID": "191",
                                    "day": "NULL",
                                    "booking_count": "5"
                                },
                                {
                                    "viewpoint": "Szobánkénti foglalások",
                                    "SZOBA_ID": "192",
                                    "day": "NULL",
                                    "booking_count": "2"
                                },
                                {
                                    "viewpoint": "Szobánkénti foglalások",
                                    "SZOBA_ID": "193",
                                    "day": "NULL",
                                    "booking_count": "7"
                                },
                                {
                                    "viewpoint": "Szobánkénti foglalások",
                                    "SZOBA_ID": "195",
                                    "day": "NULL",
                                    "booking_count": "6"
                                },
                                {
                                    "viewpoint": "Szobánkénti foglalások",
                                    "SZOBA_ID": "196",
                                    "day": "NULL",
                                    "booking_count": "4"
                                },
                                {
                                    "viewpoint": "Szobánkénti foglalások",
                                    "SZOBA_ID": "197",
                                    "day": "NULL",
                                    "booking_count": "6"
                                },
                                {
                                    "viewpoint": "Szobánkénti foglalások",
                                    "SZOBA_ID": "198",
                                    "day": "NULL",
                                    "booking_count": "8"
                                }
                            ]
                        },
                        "text/html": [
                            "<table>",
                            "<tr><th>viewpoint</th><th>SZOBA_ID</th><th>day</th><th>booking_count</th></tr>",
                            "<tr><td>Naponkénti foglalások</td><td>20</td><td>2016-10-01</td><td>2</td></tr>",
                            "<tr><td>Naponkénti foglalások</td><td>40</td><td>2016-06-07</td><td>2</td></tr>",
                            "<tr><td>Naponkénti foglalások</td><td>45</td><td>2016-08-20</td><td>2</td></tr>",
                            "<tr><td>Naponkénti foglalások</td><td>97</td><td>2016-07-27</td><td>2</td></tr>",
                            "<tr><td>Naponkénti foglalások</td><td>148</td><td>2016-08-23</td><td>2</td></tr>",
                            "<tr><td>Naponkénti foglalások</td><td>150</td><td>2016-10-01</td><td>2</td></tr>",
                            "<tr><td>Naponkénti foglalások</td><td>160</td><td>2016-06-07</td><td>2</td></tr>",
                            "<tr><td>Naponkénti foglalások</td><td>165</td><td>2016-06-03</td><td>3</td></tr>",
                            "<tr><td>Naponkénti foglalások</td><td>182</td><td>2016-10-30</td><td>2</td></tr>",
                            "<tr><td>Szobánkénti foglalások</td><td>1</td><td>NULL</td><td>8</td></tr>",
                            "<tr><td>Szobánkénti foglalások</td><td>2</td><td>NULL</td><td>4</td></tr>",
                            "<tr><td>Szobánkénti foglalások</td><td>3</td><td>NULL</td><td>8</td></tr>",
                            "<tr><td>Szobánkénti foglalások</td><td>4</td><td>NULL</td><td>6</td></tr>",
                            "<tr><td>Szobánkénti foglalások</td><td>5</td><td>NULL</td><td>4</td></tr>",
                            "<tr><td>Szobánkénti foglalások</td><td>6</td><td>NULL</td><td>6</td></tr>",
                            "<tr><td>Szobánkénti foglalások</td><td>7</td><td>NULL</td><td>6</td></tr>",
                            "<tr><td>Szobánkénti foglalások</td><td>8</td><td>NULL</td><td>5</td></tr>",
                            "<tr><td>Szobánkénti foglalások</td><td>9</td><td>NULL</td><td>6</td></tr>",
                            "<tr><td>Szobánkénti foglalások</td><td>10</td><td>NULL</td><td>4</td></tr>",
                            "<tr><td>Szobánkénti foglalások</td><td>11</td><td>NULL</td><td>4</td></tr>",
                            "<tr><td>Szobánkénti foglalások</td><td>12</td><td>NULL</td><td>9</td></tr>",
                            "<tr><td>Szobánkénti foglalások</td><td>13</td><td>NULL</td><td>4</td></tr>",
                            "<tr><td>Szobánkénti foglalások</td><td>14</td><td>NULL</td><td>3</td></tr>",
                            "<tr><td>Szobánkénti foglalások</td><td>15</td><td>NULL</td><td>6</td></tr>",
                            "<tr><td>Szobánkénti foglalások</td><td>16</td><td>NULL</td><td>5</td></tr>",
                            "<tr><td>Szobánkénti foglalások</td><td>17</td><td>NULL</td><td>6</td></tr>",
                            "<tr><td>Szobánkénti foglalások</td><td>18</td><td>NULL</td><td>6</td></tr>",
                            "<tr><td>Szobánkénti foglalások</td><td>19</td><td>NULL</td><td>6</td></tr>",
                            "<tr><td>Szobánkénti foglalások</td><td>20</td><td>NULL</td><td>5</td></tr>",
                            "<tr><td>Szobánkénti foglalások</td><td>21</td><td>NULL</td><td>4</td></tr>",
                            "<tr><td>Szobánkénti foglalások</td><td>22</td><td>NULL</td><td>6</td></tr>",
                            "<tr><td>Szobánkénti foglalások</td><td>23</td><td>NULL</td><td>3</td></tr>",
                            "<tr><td>Szobánkénti foglalások</td><td>24</td><td>NULL</td><td>3</td></tr>",
                            "<tr><td>Szobánkénti foglalások</td><td>25</td><td>NULL</td><td>2</td></tr>",
                            "<tr><td>Szobánkénti foglalások</td><td>26</td><td>NULL</td><td>2</td></tr>",
                            "<tr><td>Szobánkénti foglalások</td><td>27</td><td>NULL</td><td>7</td></tr>",
                            "<tr><td>Szobánkénti foglalások</td><td>28</td><td>NULL</td><td>6</td></tr>",
                            "<tr><td>Szobánkénti foglalások</td><td>29</td><td>NULL</td><td>6</td></tr>",
                            "<tr><td>Szobánkénti foglalások</td><td>30</td><td>NULL</td><td>3</td></tr>",
                            "<tr><td>Szobánkénti foglalások</td><td>31</td><td>NULL</td><td>3</td></tr>",
                            "<tr><td>Szobánkénti foglalások</td><td>33</td><td>NULL</td><td>6</td></tr>",
                            "<tr><td>Szobánkénti foglalások</td><td>34</td><td>NULL</td><td>4</td></tr>",
                            "<tr><td>Szobánkénti foglalások</td><td>35</td><td>NULL</td><td>9</td></tr>",
                            "<tr><td>Szobánkénti foglalások</td><td>36</td><td>NULL</td><td>6</td></tr>",
                            "<tr><td>Szobánkénti foglalások</td><td>37</td><td>NULL</td><td>3</td></tr>",
                            "<tr><td>Szobánkénti foglalások</td><td>38</td><td>NULL</td><td>8</td></tr>",
                            "<tr><td>Szobánkénti foglalások</td><td>39</td><td>NULL</td><td>7</td></tr>",
                            "<tr><td>Szobánkénti foglalások</td><td>40</td><td>NULL</td><td>4</td></tr>",
                            "<tr><td>Szobánkénti foglalások</td><td>41</td><td>NULL</td><td>2</td></tr>",
                            "<tr><td>Szobánkénti foglalások</td><td>42</td><td>NULL</td><td>6</td></tr>",
                            "<tr><td>Szobánkénti foglalások</td><td>43</td><td>NULL</td><td>8</td></tr>",
                            "<tr><td>Szobánkénti foglalások</td><td>44</td><td>NULL</td><td>6</td></tr>",
                            "<tr><td>Szobánkénti foglalások</td><td>45</td><td>NULL</td><td>5</td></tr>",
                            "<tr><td>Szobánkénti foglalások</td><td>46</td><td>NULL</td><td>4</td></tr>",
                            "<tr><td>Szobánkénti foglalások</td><td>47</td><td>NULL</td><td>2</td></tr>",
                            "<tr><td>Szobánkénti foglalások</td><td>48</td><td>NULL</td><td>9</td></tr>",
                            "<tr><td>Szobánkénti foglalások</td><td>49</td><td>NULL</td><td>7</td></tr>",
                            "<tr><td>Szobánkénti foglalások</td><td>50</td><td>NULL</td><td>4</td></tr>",
                            "<tr><td>Szobánkénti foglalások</td><td>51</td><td>NULL</td><td>5</td></tr>",
                            "<tr><td>Szobánkénti foglalások</td><td>52</td><td>NULL</td><td>5</td></tr>",
                            "<tr><td>Szobánkénti foglalások</td><td>53</td><td>NULL</td><td>2</td></tr>",
                            "<tr><td>Szobánkénti foglalások</td><td>54</td><td>NULL</td><td>6</td></tr>",
                            "<tr><td>Szobánkénti foglalások</td><td>55</td><td>NULL</td><td>8</td></tr>",
                            "<tr><td>Szobánkénti foglalások</td><td>56</td><td>NULL</td><td>2</td></tr>",
                            "<tr><td>Szobánkénti foglalások</td><td>57</td><td>NULL</td><td>4</td></tr>",
                            "<tr><td>Szobánkénti foglalások</td><td>58</td><td>NULL</td><td>13</td></tr>",
                            "<tr><td>Szobánkénti foglalások</td><td>59</td><td>NULL</td><td>7</td></tr>",
                            "<tr><td>Szobánkénti foglalások</td><td>61</td><td>NULL</td><td>5</td></tr>",
                            "<tr><td>Szobánkénti foglalások</td><td>62</td><td>NULL</td><td>5</td></tr>",
                            "<tr><td>Szobánkénti foglalások</td><td>63</td><td>NULL</td><td>4</td></tr>",
                            "<tr><td>Szobánkénti foglalások</td><td>64</td><td>NULL</td><td>6</td></tr>",
                            "<tr><td>Szobánkénti foglalások</td><td>66</td><td>NULL</td><td>4</td></tr>",
                            "<tr><td>Szobánkénti foglalások</td><td>67</td><td>NULL</td><td>6</td></tr>",
                            "<tr><td>Szobánkénti foglalások</td><td>68</td><td>NULL</td><td>3</td></tr>",
                            "<tr><td>Szobánkénti foglalások</td><td>69</td><td>NULL</td><td>4</td></tr>",
                            "<tr><td>Szobánkénti foglalások</td><td>70</td><td>NULL</td><td>11</td></tr>",
                            "<tr><td>Szobánkénti foglalások</td><td>71</td><td>NULL</td><td>3</td></tr>",
                            "<tr><td>Szobánkénti foglalások</td><td>72</td><td>NULL</td><td>4</td></tr>",
                            "<tr><td>Szobánkénti foglalások</td><td>73</td><td>NULL</td><td>4</td></tr>",
                            "<tr><td>Szobánkénti foglalások</td><td>74</td><td>NULL</td><td>9</td></tr>",
                            "<tr><td>Szobánkénti foglalások</td><td>75</td><td>NULL</td><td>3</td></tr>",
                            "<tr><td>Szobánkénti foglalások</td><td>76</td><td>NULL</td><td>3</td></tr>",
                            "<tr><td>Szobánkénti foglalások</td><td>77</td><td>NULL</td><td>6</td></tr>",
                            "<tr><td>Szobánkénti foglalások</td><td>78</td><td>NULL</td><td>6</td></tr>",
                            "<tr><td>Szobánkénti foglalások</td><td>79</td><td>NULL</td><td>5</td></tr>",
                            "<tr><td>Szobánkénti foglalások</td><td>80</td><td>NULL</td><td>7</td></tr>",
                            "<tr><td>Szobánkénti foglalások</td><td>81</td><td>NULL</td><td>5</td></tr>",
                            "<tr><td>Szobánkénti foglalások</td><td>82</td><td>NULL</td><td>6</td></tr>",
                            "<tr><td>Szobánkénti foglalások</td><td>83</td><td>NULL</td><td>8</td></tr>",
                            "<tr><td>Szobánkénti foglalások</td><td>84</td><td>NULL</td><td>4</td></tr>",
                            "<tr><td>Szobánkénti foglalások</td><td>85</td><td>NULL</td><td>4</td></tr>",
                            "<tr><td>Szobánkénti foglalások</td><td>86</td><td>NULL</td><td>5</td></tr>",
                            "<tr><td>Szobánkénti foglalások</td><td>87</td><td>NULL</td><td>5</td></tr>",
                            "<tr><td>Szobánkénti foglalások</td><td>88</td><td>NULL</td><td>8</td></tr>",
                            "<tr><td>Szobánkénti foglalások</td><td>89</td><td>NULL</td><td>8</td></tr>",
                            "<tr><td>Szobánkénti foglalások</td><td>90</td><td>NULL</td><td>4</td></tr>",
                            "<tr><td>Szobánkénti foglalások</td><td>91</td><td>NULL</td><td>4</td></tr>",
                            "<tr><td>Szobánkénti foglalások</td><td>92</td><td>NULL</td><td>6</td></tr>",
                            "<tr><td>Szobánkénti foglalások</td><td>93</td><td>NULL</td><td>5</td></tr>",
                            "<tr><td>Szobánkénti foglalások</td><td>94</td><td>NULL</td><td>10</td></tr>",
                            "<tr><td>Szobánkénti foglalások</td><td>95</td><td>NULL</td><td>4</td></tr>",
                            "<tr><td>Szobánkénti foglalások</td><td>96</td><td>NULL</td><td>7</td></tr>",
                            "<tr><td>Szobánkénti foglalások</td><td>97</td><td>NULL</td><td>7</td></tr>",
                            "<tr><td>Szobánkénti foglalások</td><td>98</td><td>NULL</td><td>4</td></tr>",
                            "<tr><td>Szobánkénti foglalások</td><td>99</td><td>NULL</td><td>5</td></tr>",
                            "<tr><td>Szobánkénti foglalások</td><td>100</td><td>NULL</td><td>4</td></tr>",
                            "<tr><td>Szobánkénti foglalások</td><td>101</td><td>NULL</td><td>3</td></tr>",
                            "<tr><td>Szobánkénti foglalások</td><td>102</td><td>NULL</td><td>2</td></tr>",
                            "<tr><td>Szobánkénti foglalások</td><td>103</td><td>NULL</td><td>4</td></tr>",
                            "<tr><td>Szobánkénti foglalások</td><td>104</td><td>NULL</td><td>4</td></tr>",
                            "<tr><td>Szobánkénti foglalások</td><td>105</td><td>NULL</td><td>2</td></tr>",
                            "<tr><td>Szobánkénti foglalások</td><td>106</td><td>NULL</td><td>6</td></tr>",
                            "<tr><td>Szobánkénti foglalások</td><td>107</td><td>NULL</td><td>5</td></tr>",
                            "<tr><td>Szobánkénti foglalások</td><td>108</td><td>NULL</td><td>2</td></tr>",
                            "<tr><td>Szobánkénti foglalások</td><td>109</td><td>NULL</td><td>7</td></tr>",
                            "<tr><td>Szobánkénti foglalások</td><td>110</td><td>NULL</td><td>8</td></tr>",
                            "<tr><td>Szobánkénti foglalások</td><td>111</td><td>NULL</td><td>5</td></tr>",
                            "<tr><td>Szobánkénti foglalások</td><td>112</td><td>NULL</td><td>5</td></tr>",
                            "<tr><td>Szobánkénti foglalások</td><td>113</td><td>NULL</td><td>5</td></tr>",
                            "<tr><td>Szobánkénti foglalások</td><td>114</td><td>NULL</td><td>4</td></tr>",
                            "<tr><td>Szobánkénti foglalások</td><td>115</td><td>NULL</td><td>7</td></tr>",
                            "<tr><td>Szobánkénti foglalások</td><td>116</td><td>NULL</td><td>2</td></tr>",
                            "<tr><td>Szobánkénti foglalások</td><td>117</td><td>NULL</td><td>8</td></tr>",
                            "<tr><td>Szobánkénti foglalások</td><td>118</td><td>NULL</td><td>7</td></tr>",
                            "<tr><td>Szobánkénti foglalások</td><td>119</td><td>NULL</td><td>5</td></tr>",
                            "<tr><td>Szobánkénti foglalások</td><td>120</td><td>NULL</td><td>6</td></tr>",
                            "<tr><td>Szobánkénti foglalások</td><td>121</td><td>NULL</td><td>8</td></tr>",
                            "<tr><td>Szobánkénti foglalások</td><td>122</td><td>NULL</td><td>9</td></tr>",
                            "<tr><td>Szobánkénti foglalások</td><td>123</td><td>NULL</td><td>5</td></tr>",
                            "<tr><td>Szobánkénti foglalások</td><td>124</td><td>NULL</td><td>6</td></tr>",
                            "<tr><td>Szobánkénti foglalások</td><td>126</td><td>NULL</td><td>6</td></tr>",
                            "<tr><td>Szobánkénti foglalások</td><td>127</td><td>NULL</td><td>7</td></tr>",
                            "<tr><td>Szobánkénti foglalások</td><td>128</td><td>NULL</td><td>5</td></tr>",
                            "<tr><td>Szobánkénti foglalások</td><td>129</td><td>NULL</td><td>4</td></tr>",
                            "<tr><td>Szobánkénti foglalások</td><td>130</td><td>NULL</td><td>6</td></tr>",
                            "<tr><td>Szobánkénti foglalások</td><td>131</td><td>NULL</td><td>5</td></tr>",
                            "<tr><td>Szobánkénti foglalások</td><td>132</td><td>NULL</td><td>6</td></tr>",
                            "<tr><td>Szobánkénti foglalások</td><td>133</td><td>NULL</td><td>6</td></tr>",
                            "<tr><td>Szobánkénti foglalások</td><td>134</td><td>NULL</td><td>6</td></tr>",
                            "<tr><td>Szobánkénti foglalások</td><td>135</td><td>NULL</td><td>3</td></tr>",
                            "<tr><td>Szobánkénti foglalások</td><td>136</td><td>NULL</td><td>3</td></tr>",
                            "<tr><td>Szobánkénti foglalások</td><td>137</td><td>NULL</td><td>6</td></tr>",
                            "<tr><td>Szobánkénti foglalások</td><td>138</td><td>NULL</td><td>7</td></tr>",
                            "<tr><td>Szobánkénti foglalások</td><td>139</td><td>NULL</td><td>7</td></tr>",
                            "<tr><td>Szobánkénti foglalások</td><td>140</td><td>NULL</td><td>8</td></tr>",
                            "<tr><td>Szobánkénti foglalások</td><td>141</td><td>NULL</td><td>6</td></tr>",
                            "<tr><td>Szobánkénti foglalások</td><td>142</td><td>NULL</td><td>2</td></tr>",
                            "<tr><td>Szobánkénti foglalások</td><td>143</td><td>NULL</td><td>7</td></tr>",
                            "<tr><td>Szobánkénti foglalások</td><td>144</td><td>NULL</td><td>5</td></tr>",
                            "<tr><td>Szobánkénti foglalások</td><td>145</td><td>NULL</td><td>6</td></tr>",
                            "<tr><td>Szobánkénti foglalások</td><td>146</td><td>NULL</td><td>6</td></tr>",
                            "<tr><td>Szobánkénti foglalások</td><td>148</td><td>NULL</td><td>6</td></tr>",
                            "<tr><td>Szobánkénti foglalások</td><td>149</td><td>NULL</td><td>7</td></tr>",
                            "<tr><td>Szobánkénti foglalások</td><td>150</td><td>NULL</td><td>6</td></tr>",
                            "<tr><td>Szobánkénti foglalások</td><td>151</td><td>NULL</td><td>3</td></tr>",
                            "<tr><td>Szobánkénti foglalások</td><td>152</td><td>NULL</td><td>4</td></tr>",
                            "<tr><td>Szobánkénti foglalások</td><td>153</td><td>NULL</td><td>5</td></tr>",
                            "<tr><td>Szobánkénti foglalások</td><td>154</td><td>NULL</td><td>5</td></tr>",
                            "<tr><td>Szobánkénti foglalások</td><td>155</td><td>NULL</td><td>5</td></tr>",
                            "<tr><td>Szobánkénti foglalások</td><td>156</td><td>NULL</td><td>7</td></tr>",
                            "<tr><td>Szobánkénti foglalások</td><td>157</td><td>NULL</td><td>5</td></tr>",
                            "<tr><td>Szobánkénti foglalások</td><td>158</td><td>NULL</td><td>3</td></tr>",
                            "<tr><td>Szobánkénti foglalások</td><td>160</td><td>NULL</td><td>5</td></tr>",
                            "<tr><td>Szobánkénti foglalások</td><td>161</td><td>NULL</td><td>6</td></tr>",
                            "<tr><td>Szobánkénti foglalások</td><td>162</td><td>NULL</td><td>3</td></tr>",
                            "<tr><td>Szobánkénti foglalások</td><td>163</td><td>NULL</td><td>7</td></tr>",
                            "<tr><td>Szobánkénti foglalások</td><td>164</td><td>NULL</td><td>5</td></tr>",
                            "<tr><td>Szobánkénti foglalások</td><td>165</td><td>NULL</td><td>7</td></tr>",
                            "<tr><td>Szobánkénti foglalások</td><td>166</td><td>NULL</td><td>3</td></tr>",
                            "<tr><td>Szobánkénti foglalások</td><td>167</td><td>NULL</td><td>2</td></tr>",
                            "<tr><td>Szobánkénti foglalások</td><td>168</td><td>NULL</td><td>5</td></tr>",
                            "<tr><td>Szobánkénti foglalások</td><td>169</td><td>NULL</td><td>6</td></tr>",
                            "<tr><td>Szobánkénti foglalások</td><td>170</td><td>NULL</td><td>5</td></tr>",
                            "<tr><td>Szobánkénti foglalások</td><td>171</td><td>NULL</td><td>5</td></tr>",
                            "<tr><td>Szobánkénti foglalások</td><td>172</td><td>NULL</td><td>9</td></tr>",
                            "<tr><td>Szobánkénti foglalások</td><td>173</td><td>NULL</td><td>4</td></tr>",
                            "<tr><td>Szobánkénti foglalások</td><td>174</td><td>NULL</td><td>4</td></tr>",
                            "<tr><td>Szobánkénti foglalások</td><td>175</td><td>NULL</td><td>5</td></tr>",
                            "<tr><td>Szobánkénti foglalások</td><td>176</td><td>NULL</td><td>6</td></tr>",
                            "<tr><td>Szobánkénti foglalások</td><td>177</td><td>NULL</td><td>4</td></tr>",
                            "<tr><td>Szobánkénti foglalások</td><td>178</td><td>NULL</td><td>4</td></tr>",
                            "<tr><td>Szobánkénti foglalások</td><td>179</td><td>NULL</td><td>3</td></tr>",
                            "<tr><td>Szobánkénti foglalások</td><td>180</td><td>NULL</td><td>3</td></tr>",
                            "<tr><td>Szobánkénti foglalások</td><td>181</td><td>NULL</td><td>6</td></tr>",
                            "<tr><td>Szobánkénti foglalások</td><td>182</td><td>NULL</td><td>12</td></tr>",
                            "<tr><td>Szobánkénti foglalások</td><td>183</td><td>NULL</td><td>4</td></tr>",
                            "<tr><td>Szobánkénti foglalások</td><td>184</td><td>NULL</td><td>4</td></tr>",
                            "<tr><td>Szobánkénti foglalások</td><td>185</td><td>NULL</td><td>12</td></tr>",
                            "<tr><td>Szobánkénti foglalások</td><td>186</td><td>NULL</td><td>4</td></tr>",
                            "<tr><td>Szobánkénti foglalások</td><td>187</td><td>NULL</td><td>7</td></tr>",
                            "<tr><td>Szobánkénti foglalások</td><td>188</td><td>NULL</td><td>6</td></tr>",
                            "<tr><td>Szobánkénti foglalások</td><td>189</td><td>NULL</td><td>5</td></tr>",
                            "<tr><td>Szobánkénti foglalások</td><td>190</td><td>NULL</td><td>5</td></tr>",
                            "<tr><td>Szobánkénti foglalások</td><td>191</td><td>NULL</td><td>5</td></tr>",
                            "<tr><td>Szobánkénti foglalások</td><td>192</td><td>NULL</td><td>2</td></tr>",
                            "<tr><td>Szobánkénti foglalások</td><td>193</td><td>NULL</td><td>7</td></tr>",
                            "<tr><td>Szobánkénti foglalások</td><td>195</td><td>NULL</td><td>6</td></tr>",
                            "<tr><td>Szobánkénti foglalások</td><td>196</td><td>NULL</td><td>4</td></tr>",
                            "<tr><td>Szobánkénti foglalások</td><td>197</td><td>NULL</td><td>6</td></tr>",
                            "<tr><td>Szobánkénti foglalások</td><td>198</td><td>NULL</td><td>8</td></tr>",
                            "</table>"
                        ]
                    }
                }
            ],
            "execution_count": 21
        },
        {
            "cell_type": "code",
            "source": [
                "SELECT\r\n",
                "    COUNT(DISTINCT Ferohely) AS kulonbozo_ertekek_szama,\r\n",
                "    MIN(Ferohely) AS minimum,\r\n",
                "    MAX(Ferohely) AS maximum,\r\n",
                "    AVG(Ferohely) AS atlag,\r\n",
                "    (SUM(CASE WHEN Ferohely IS NULL THEN 1 ELSE 0 END) * 100.0 / COUNT(*)) AS null_ertekek_szazalek,\r\n",
                "    (SUM(CASE WHEN Ferohely IS NOT NULL THEN 1 ELSE 0 END) * 100.0 / COUNT(*)) AS not_null_ertekek_szazalek\r\n",
                "FROM Szoba;\r\n",
                "\r\n",
                ""
            ],
            "metadata": {
                "azdata_cell_guid": "ad4a6905-f06e-4585-922d-9dda89a1993c",
                "language": "sql",
                "tags": []
            },
            "outputs": [
                {
                    "output_type": "display_data",
                    "data": {
                        "text/html": "(1 row affected)"
                    },
                    "metadata": {}
                },
                {
                    "output_type": "display_data",
                    "data": {
                        "text/html": "Total execution time: 00:00:00.016"
                    },
                    "metadata": {}
                },
                {
                    "output_type": "execute_result",
                    "metadata": {},
                    "execution_count": 23,
                    "data": {
                        "application/vnd.dataresource+json": {
                            "schema": {
                                "fields": [
                                    {
                                        "name": "kulonbozo_ertekek_szama"
                                    },
                                    {
                                        "name": "minimum"
                                    },
                                    {
                                        "name": "maximum"
                                    },
                                    {
                                        "name": "atlag"
                                    },
                                    {
                                        "name": "null_ertekek_szazalek"
                                    },
                                    {
                                        "name": "not_null_ertekek_szazalek"
                                    }
                                ]
                            },
                            "data": [
                                {
                                    "kulonbozo_ertekek_szama": "4",
                                    "minimum": "1",
                                    "maximum": "4",
                                    "atlag": "2",
                                    "null_ertekek_szazalek": "0.000000000000",
                                    "not_null_ertekek_szazalek": "100.000000000000"
                                }
                            ]
                        },
                        "text/html": [
                            "<table>",
                            "<tr><th>kulonbozo_ertekek_szama</th><th>minimum</th><th>maximum</th><th>atlag</th><th>null_ertekek_szazalek</th><th>not_null_ertekek_szazalek</th></tr>",
                            "<tr><td>4</td><td>1</td><td>4</td><td>2</td><td>0.000000000000</td><td>100.000000000000</td></tr>",
                            "</table>"
                        ]
                    }
                }
            ],
            "execution_count": 23
        },
        {
            "cell_type": "code",
            "source": [
                "HSET IRO:1 ID 1 nev 'Kiss Sandor' nemzetiseg 'magyar'\r\n",
                "HSET IRO:2 ID 2 nev 'Janos Peter' nemzetiseg 'magyar'\r\n",
                "HGETALL IRO:1\r\n",
                "HGETALL IRO:2\r\n",
                "HSET KONYV:1 ID 1 nev 'Harry Potter' mufaj 'tortenelem' IRO_ID 1\r\n",
                "HSET KONYV:2 ID 2 nev 'Az ember tragediaja' mufaj 'horror' IRO_ID 2\r\n",
                "HGETALL KONYV:1\r\n",
                "HGETALL KONYV:2"
            ],
            "metadata": {
                "azdata_cell_guid": "c125a304-0b16-4da4-949b-a3fa78999eea",
                "language": "sql"
            },
            "outputs": [],
            "execution_count": null
        },
        {
            "cell_type": "code",
            "source": [
                "create table student ( ID int, nev text, teljesitett_felevek List<int>, eredmenyek map<int, float>, nyelvtudas set<text>, PRIMARY KEY (ID));\r\n",
                "insert into student(ID, nev) values(1, 'Kovacs Peter');\r\n",
                "insert into student(ID, nev) values(2, 'Kiss Eliza');\r\n",
                "update student set eredmenyek = eredmenyek + {1: 3.00, 2: 4.00, 3:5.00} where id = 1;\r\n",
                "update student set eredmenyek = eredmenyek + {1: 5.00, 2: 4.00, 3:4.10} where id = 2;\r\n",
                "update student set nyelvtudas = nyelvtudas + {'magyar', 'angol'} where id = 2;\r\n",
                "update student set nyelvtudas = nyelvtudas + {'magyar', 'angol'} where id = 1;\r\n",
                "update student set teljesitett_felevek = teljesitett_felevek + [1, 2, 3] where id = 1;\r\n",
                "update student set teljesitett_felevek = teljesitett_felevek + [1, 2, 3, 4] where id = 2;\r\n",
                "select*from student;"
            ],
            "metadata": {
                "azdata_cell_guid": "62aebf93-9b6f-4f0d-8c15-b131bddafa59",
                "language": "sql"
            },
            "outputs": [],
            "execution_count": null
        },
        {
            "cell_type": "code",
            "source": [
                "MATCH (p:Person)-[:ACTED_IN]-(m:Movie)-[:ACTED_IN]-(t:Person)\r\n",
                "\r\n",
                "WHERE  t.name = \"Tom Hanks\"\r\n",
                "\r\n",
                "RETURN DISTINCT  p.name"
            ],
            "metadata": {
                "azdata_cell_guid": "39f721c4-bfb9-432f-81d5-43b92fcdcbcc",
                "language": "sql"
            },
            "outputs": [],
            "execution_count": null
        }
    ]
}
